{
  "cells": [
    {
      "cell_type": "code",
      "execution_count": 2,
      "metadata": {
        "colab": {
          "base_uri": "https://localhost:8080/",
          "height": 206
        },
        "id": "9MgBBrZvIDPq",
        "outputId": "d1c20edc-6348-4291-f4b5-61118e3d07c3"
      },
      "outputs": [
        {
          "data": {
            "text/html": [
              "<div>\n",
              "<style scoped>\n",
              "    .dataframe tbody tr th:only-of-type {\n",
              "        vertical-align: middle;\n",
              "    }\n",
              "\n",
              "    .dataframe tbody tr th {\n",
              "        vertical-align: top;\n",
              "    }\n",
              "\n",
              "    .dataframe thead th {\n",
              "        text-align: right;\n",
              "    }\n",
              "</style>\n",
              "<table border=\"1\" class=\"dataframe\">\n",
              "  <thead>\n",
              "    <tr style=\"text-align: right;\">\n",
              "      <th></th>\n",
              "      <th>InvoiceNo</th>\n",
              "      <th>StockCode</th>\n",
              "      <th>Description</th>\n",
              "      <th>Quantity</th>\n",
              "      <th>InvoiceDate</th>\n",
              "      <th>UnitPrice</th>\n",
              "      <th>CustomerID</th>\n",
              "      <th>Country</th>\n",
              "    </tr>\n",
              "  </thead>\n",
              "  <tbody>\n",
              "    <tr>\n",
              "      <th>0</th>\n",
              "      <td>536365</td>\n",
              "      <td>85123A</td>\n",
              "      <td>WHITE HANGING HEART T-LIGHT HOLDER</td>\n",
              "      <td>6</td>\n",
              "      <td>2010-12-01 08:26:00</td>\n",
              "      <td>2.55</td>\n",
              "      <td>17850.0</td>\n",
              "      <td>United Kingdom</td>\n",
              "    </tr>\n",
              "    <tr>\n",
              "      <th>1</th>\n",
              "      <td>536365</td>\n",
              "      <td>71053</td>\n",
              "      <td>WHITE METAL LANTERN</td>\n",
              "      <td>6</td>\n",
              "      <td>2010-12-01 08:26:00</td>\n",
              "      <td>3.39</td>\n",
              "      <td>17850.0</td>\n",
              "      <td>United Kingdom</td>\n",
              "    </tr>\n",
              "    <tr>\n",
              "      <th>2</th>\n",
              "      <td>536365</td>\n",
              "      <td>84406B</td>\n",
              "      <td>CREAM CUPID HEARTS COAT HANGER</td>\n",
              "      <td>8</td>\n",
              "      <td>2010-12-01 08:26:00</td>\n",
              "      <td>2.75</td>\n",
              "      <td>17850.0</td>\n",
              "      <td>United Kingdom</td>\n",
              "    </tr>\n",
              "    <tr>\n",
              "      <th>3</th>\n",
              "      <td>536365</td>\n",
              "      <td>84029G</td>\n",
              "      <td>KNITTED UNION FLAG HOT WATER BOTTLE</td>\n",
              "      <td>6</td>\n",
              "      <td>2010-12-01 08:26:00</td>\n",
              "      <td>3.39</td>\n",
              "      <td>17850.0</td>\n",
              "      <td>United Kingdom</td>\n",
              "    </tr>\n",
              "    <tr>\n",
              "      <th>4</th>\n",
              "      <td>536365</td>\n",
              "      <td>84029E</td>\n",
              "      <td>RED WOOLLY HOTTIE WHITE HEART.</td>\n",
              "      <td>6</td>\n",
              "      <td>2010-12-01 08:26:00</td>\n",
              "      <td>3.39</td>\n",
              "      <td>17850.0</td>\n",
              "      <td>United Kingdom</td>\n",
              "    </tr>\n",
              "  </tbody>\n",
              "</table>\n",
              "</div>"
            ],
            "text/plain": [
              "  InvoiceNo StockCode                          Description  Quantity  \\\n",
              "0    536365    85123A   WHITE HANGING HEART T-LIGHT HOLDER         6   \n",
              "1    536365     71053                  WHITE METAL LANTERN         6   \n",
              "2    536365    84406B       CREAM CUPID HEARTS COAT HANGER         8   \n",
              "3    536365    84029G  KNITTED UNION FLAG HOT WATER BOTTLE         6   \n",
              "4    536365    84029E       RED WOOLLY HOTTIE WHITE HEART.         6   \n",
              "\n",
              "          InvoiceDate  UnitPrice  CustomerID         Country  \n",
              "0 2010-12-01 08:26:00       2.55     17850.0  United Kingdom  \n",
              "1 2010-12-01 08:26:00       3.39     17850.0  United Kingdom  \n",
              "2 2010-12-01 08:26:00       2.75     17850.0  United Kingdom  \n",
              "3 2010-12-01 08:26:00       3.39     17850.0  United Kingdom  \n",
              "4 2010-12-01 08:26:00       3.39     17850.0  United Kingdom  "
            ]
          },
          "execution_count": 2,
          "metadata": {},
          "output_type": "execute_result"
        }
      ],
      "source": [
        "import pandas as pd\n",
        "import numpy as np\n",
        "import matplotlib.pyplot as plt\n",
        "import seaborn as sns\n",
        "\n",
        "sns.set(style='whitegrid')\n",
        "df = pd.read_excel(\"OnlineRetail.xlsx\")\n",
        "\n",
        "\n",
        "\n",
        "\n",
        "df.head()\n"
      ]
    },
    {
      "cell_type": "markdown",
      "metadata": {
        "id": "_tylqQHfJK1L"
      },
      "source": [
        "##Data Cleaning"
      ]
    },
    {
      "cell_type": "code",
      "execution_count": 3,
      "metadata": {
        "colab": {
          "base_uri": "https://localhost:8080/"
        },
        "id": "ozfgjVRyIJoc",
        "outputId": "d048997e-b9c0-44ad-afe1-f0c0ebbdb8c5"
      },
      "outputs": [
        {
          "name": "stdout",
          "output_type": "stream",
          "text": [
            "<class 'pandas.core.frame.DataFrame'>\n",
            "RangeIndex: 541909 entries, 0 to 541908\n",
            "Data columns (total 8 columns):\n",
            " #   Column       Non-Null Count   Dtype         \n",
            "---  ------       --------------   -----         \n",
            " 0   InvoiceNo    541909 non-null  object        \n",
            " 1   StockCode    541909 non-null  object        \n",
            " 2   Description  540455 non-null  object        \n",
            " 3   Quantity     541909 non-null  int64         \n",
            " 4   InvoiceDate  541909 non-null  datetime64[ns]\n",
            " 5   UnitPrice    541909 non-null  float64       \n",
            " 6   CustomerID   406829 non-null  float64       \n",
            " 7   Country      541909 non-null  object        \n",
            "dtypes: datetime64[ns](1), float64(2), int64(1), object(4)\n",
            "memory usage: 33.1+ MB\n",
            "\n",
            "Missing values per column:\n",
            "\n",
            "InvoiceNo           0\n",
            "StockCode           0\n",
            "Description      1454\n",
            "Quantity            0\n",
            "InvoiceDate         0\n",
            "UnitPrice           0\n",
            "CustomerID     135080\n",
            "Country             0\n",
            "dtype: int64\n",
            "<class 'pandas.core.frame.DataFrame'>\n",
            "Index: 397884 entries, 0 to 541908\n",
            "Data columns (total 9 columns):\n",
            " #   Column       Non-Null Count   Dtype         \n",
            "---  ------       --------------   -----         \n",
            " 0   InvoiceNo    397884 non-null  object        \n",
            " 1   StockCode    397884 non-null  object        \n",
            " 2   Description  397884 non-null  object        \n",
            " 3   Quantity     397884 non-null  int64         \n",
            " 4   InvoiceDate  397884 non-null  datetime64[ns]\n",
            " 5   UnitPrice    397884 non-null  float64       \n",
            " 6   CustomerID   397884 non-null  float64       \n",
            " 7   Country      397884 non-null  object        \n",
            " 8   TotalPrice   397884 non-null  float64       \n",
            "dtypes: datetime64[ns](1), float64(3), int64(1), object(4)\n",
            "memory usage: 30.4+ MB\n"
          ]
        }
      ],
      "source": [
        "\n",
        "df.info()\n",
        "\n",
        "print(\"\\nMissing values per column:\\n\")\n",
        "print(df.isnull().sum())\n",
        "\n",
        "df.dropna(subset=['CustomerID', 'Description'], inplace=True)\n",
        "\n",
        "# Remove rows with negative Quantity or UnitPrice (likely returns or errors)\n",
        "df = df[(df['Quantity'] > 0) & (df['UnitPrice'] > 0)]\n",
        "\n",
        "# Remove canceled invoices — they usually start with 'C'\n",
        "df = df[~df['InvoiceNo'].astype(str).str.startswith('C')]\n",
        "\n",
        "# Create TotalPrice column for each transaction (Quantity * Unit Price)\n",
        "df['TotalPrice'] = df['Quantity'] * df['UnitPrice']\n",
        "\n",
        "df.info()\n",
        "  "
      ]
    },
    {
      "cell_type": "code",
      "execution_count": 4,
      "metadata": {
        "colab": {
          "base_uri": "https://localhost:8080/",
          "height": 225
        },
        "id": "ZCttg5IsJccb",
        "outputId": "bd3cf363-44d0-4060-d432-189e0cc281ae"
      },
      "outputs": [
        {
          "name": "stdout",
          "output_type": "stream",
          "text": [
            "Snapshot Date: 2011-12-10 12:50:00\n"
          ]
        },
        {
          "data": {
            "text/html": [
              "<div>\n",
              "<style scoped>\n",
              "    .dataframe tbody tr th:only-of-type {\n",
              "        vertical-align: middle;\n",
              "    }\n",
              "\n",
              "    .dataframe tbody tr th {\n",
              "        vertical-align: top;\n",
              "    }\n",
              "\n",
              "    .dataframe thead th {\n",
              "        text-align: right;\n",
              "    }\n",
              "</style>\n",
              "<table border=\"1\" class=\"dataframe\">\n",
              "  <thead>\n",
              "    <tr style=\"text-align: right;\">\n",
              "      <th></th>\n",
              "      <th>CustomerID</th>\n",
              "      <th>Recency</th>\n",
              "      <th>Frequency</th>\n",
              "      <th>Monetary</th>\n",
              "    </tr>\n",
              "  </thead>\n",
              "  <tbody>\n",
              "    <tr>\n",
              "      <th>0</th>\n",
              "      <td>12346.0</td>\n",
              "      <td>326</td>\n",
              "      <td>1</td>\n",
              "      <td>77183.60</td>\n",
              "    </tr>\n",
              "    <tr>\n",
              "      <th>1</th>\n",
              "      <td>12347.0</td>\n",
              "      <td>2</td>\n",
              "      <td>7</td>\n",
              "      <td>4310.00</td>\n",
              "    </tr>\n",
              "    <tr>\n",
              "      <th>2</th>\n",
              "      <td>12348.0</td>\n",
              "      <td>75</td>\n",
              "      <td>4</td>\n",
              "      <td>1797.24</td>\n",
              "    </tr>\n",
              "    <tr>\n",
              "      <th>3</th>\n",
              "      <td>12349.0</td>\n",
              "      <td>19</td>\n",
              "      <td>1</td>\n",
              "      <td>1757.55</td>\n",
              "    </tr>\n",
              "    <tr>\n",
              "      <th>4</th>\n",
              "      <td>12350.0</td>\n",
              "      <td>310</td>\n",
              "      <td>1</td>\n",
              "      <td>334.40</td>\n",
              "    </tr>\n",
              "  </tbody>\n",
              "</table>\n",
              "</div>"
            ],
            "text/plain": [
              "   CustomerID  Recency  Frequency  Monetary\n",
              "0     12346.0      326          1  77183.60\n",
              "1     12347.0        2          7   4310.00\n",
              "2     12348.0       75          4   1797.24\n",
              "3     12349.0       19          1   1757.55\n",
              "4     12350.0      310          1    334.40"
            ]
          },
          "execution_count": 4,
          "metadata": {},
          "output_type": "execute_result"
        }
      ],
      "source": [
        "# Convert 'InvoiceDate' to datetime\n",
        "df['InvoiceDate'] = pd.to_datetime(df['InvoiceDate'])\n",
        "\n",
        "snapshot_date = df['InvoiceDate'].max() + pd.Timedelta(days=1)\n",
        "print(\"Snapshot Date:\", snapshot_date)\n",
        "\n",
        "# Group by CustomerID and calculate RFM metrics\n",
        "rfm = df.groupby('CustomerID').agg({\n",
        "    'InvoiceDate': lambda x: (snapshot_date - x.max()).days,   # Recency\n",
        "    'InvoiceNo': 'nunique',                                     # Frequency (number of orders)\n",
        "    'TotalPrice': 'sum'                                         # Monetary (total spent)\n",
        "}).reset_index()\n",
        "\n",
        "# Rename columns\n",
        "rfm.columns = ['CustomerID', 'Recency', 'Frequency', 'Monetary']\n",
        "\n",
        "rfm.head()\n"
      ]
    },
    {
      "cell_type": "code",
      "execution_count": 5,
      "metadata": {
        "colab": {
          "base_uri": "https://localhost:8080/",
          "height": 206
        },
        "id": "qxo6Ceb3VNiA",
        "outputId": "eb295709-5467-4936-996a-bffb3b870157"
      },
      "outputs": [
        {
          "data": {
            "text/html": [
              "<div>\n",
              "<style scoped>\n",
              "    .dataframe tbody tr th:only-of-type {\n",
              "        vertical-align: middle;\n",
              "    }\n",
              "\n",
              "    .dataframe tbody tr th {\n",
              "        vertical-align: top;\n",
              "    }\n",
              "\n",
              "    .dataframe thead th {\n",
              "        text-align: right;\n",
              "    }\n",
              "</style>\n",
              "<table border=\"1\" class=\"dataframe\">\n",
              "  <thead>\n",
              "    <tr style=\"text-align: right;\">\n",
              "      <th></th>\n",
              "      <th>CustomerID</th>\n",
              "      <th>Recency</th>\n",
              "      <th>Frequency</th>\n",
              "      <th>Monetary</th>\n",
              "      <th>R_Score</th>\n",
              "      <th>F_Score</th>\n",
              "      <th>M_Score</th>\n",
              "      <th>RFM_Segment</th>\n",
              "      <th>RFM_Score</th>\n",
              "    </tr>\n",
              "  </thead>\n",
              "  <tbody>\n",
              "    <tr>\n",
              "      <th>0</th>\n",
              "      <td>12346.0</td>\n",
              "      <td>326</td>\n",
              "      <td>1</td>\n",
              "      <td>77183.60</td>\n",
              "      <td>1</td>\n",
              "      <td>1</td>\n",
              "      <td>4</td>\n",
              "      <td>114</td>\n",
              "      <td>6</td>\n",
              "    </tr>\n",
              "    <tr>\n",
              "      <th>1</th>\n",
              "      <td>12347.0</td>\n",
              "      <td>2</td>\n",
              "      <td>7</td>\n",
              "      <td>4310.00</td>\n",
              "      <td>4</td>\n",
              "      <td>4</td>\n",
              "      <td>4</td>\n",
              "      <td>444</td>\n",
              "      <td>12</td>\n",
              "    </tr>\n",
              "    <tr>\n",
              "      <th>2</th>\n",
              "      <td>12348.0</td>\n",
              "      <td>75</td>\n",
              "      <td>4</td>\n",
              "      <td>1797.24</td>\n",
              "      <td>2</td>\n",
              "      <td>3</td>\n",
              "      <td>4</td>\n",
              "      <td>234</td>\n",
              "      <td>9</td>\n",
              "    </tr>\n",
              "    <tr>\n",
              "      <th>3</th>\n",
              "      <td>12349.0</td>\n",
              "      <td>19</td>\n",
              "      <td>1</td>\n",
              "      <td>1757.55</td>\n",
              "      <td>3</td>\n",
              "      <td>1</td>\n",
              "      <td>4</td>\n",
              "      <td>314</td>\n",
              "      <td>8</td>\n",
              "    </tr>\n",
              "    <tr>\n",
              "      <th>4</th>\n",
              "      <td>12350.0</td>\n",
              "      <td>310</td>\n",
              "      <td>1</td>\n",
              "      <td>334.40</td>\n",
              "      <td>1</td>\n",
              "      <td>1</td>\n",
              "      <td>2</td>\n",
              "      <td>112</td>\n",
              "      <td>4</td>\n",
              "    </tr>\n",
              "  </tbody>\n",
              "</table>\n",
              "</div>"
            ],
            "text/plain": [
              "   CustomerID  Recency  Frequency  Monetary R_Score F_Score M_Score  \\\n",
              "0     12346.0      326          1  77183.60       1       1       4   \n",
              "1     12347.0        2          7   4310.00       4       4       4   \n",
              "2     12348.0       75          4   1797.24       2       3       4   \n",
              "3     12349.0       19          1   1757.55       3       1       4   \n",
              "4     12350.0      310          1    334.40       1       1       2   \n",
              "\n",
              "  RFM_Segment  RFM_Score  \n",
              "0         114          6  \n",
              "1         444         12  \n",
              "2         234          9  \n",
              "3         314          8  \n",
              "4         112          4  "
            ]
          },
          "execution_count": 5,
          "metadata": {},
          "output_type": "execute_result"
        }
      ],
      "source": [
        "# Recency score: lower days = higher score\n",
        "rfm['R_Score'] = pd.qcut(rfm['Recency'], 4, labels=[4, 3, 2, 1])\n",
        "\n",
        "# Frequency score: higher orders = higher score\n",
        "rfm['F_Score'] = pd.qcut(rfm['Frequency'].rank(method='first'), 4, labels=[1, 2, 3, 4])\n",
        "\n",
        "# Monetary score: higher spend = higher score\n",
        "rfm['M_Score'] = pd.qcut(rfm['Monetary'], 4, labels=[1, 2, 3, 4])\n",
        "\n",
        "# Combine into a single RFM Segment\n",
        "rfm['RFM_Segment'] = rfm['R_Score'].astype(str) + rfm['F_Score'].astype(str) + rfm['M_Score'].astype(str)\n",
        "\n",
        "# Calculate overall RFM Score (sum of individual scores)\n",
        "rfm['RFM_Score'] = rfm[['R_Score', 'F_Score', 'M_Score']].astype(int).sum(axis=1)\n",
        "\n",
        "rfm.head()\n"
      ]
    },
    {
      "cell_type": "code",
      "execution_count": 6,
      "metadata": {
        "colab": {
          "base_uri": "https://localhost:8080/",
          "height": 206
        },
        "id": "K6B1bS_XWjHH",
        "outputId": "b7a0fb61-6e4e-42c2-f3cf-74e953df933a"
      },
      "outputs": [
        {
          "data": {
            "text/html": [
              "<div>\n",
              "<style scoped>\n",
              "    .dataframe tbody tr th:only-of-type {\n",
              "        vertical-align: middle;\n",
              "    }\n",
              "\n",
              "    .dataframe tbody tr th {\n",
              "        vertical-align: top;\n",
              "    }\n",
              "\n",
              "    .dataframe thead th {\n",
              "        text-align: right;\n",
              "    }\n",
              "</style>\n",
              "<table border=\"1\" class=\"dataframe\">\n",
              "  <thead>\n",
              "    <tr style=\"text-align: right;\">\n",
              "      <th></th>\n",
              "      <th>CustomerID</th>\n",
              "      <th>Recency</th>\n",
              "      <th>Frequency</th>\n",
              "      <th>Monetary</th>\n",
              "      <th>R_Score</th>\n",
              "      <th>F_Score</th>\n",
              "      <th>M_Score</th>\n",
              "      <th>RFM_Segment</th>\n",
              "      <th>RFM_Score</th>\n",
              "      <th>Customer_Segment</th>\n",
              "    </tr>\n",
              "  </thead>\n",
              "  <tbody>\n",
              "    <tr>\n",
              "      <th>0</th>\n",
              "      <td>12346.0</td>\n",
              "      <td>326</td>\n",
              "      <td>1</td>\n",
              "      <td>77183.60</td>\n",
              "      <td>1</td>\n",
              "      <td>1</td>\n",
              "      <td>4</td>\n",
              "      <td>114</td>\n",
              "      <td>6</td>\n",
              "      <td>Potential Loyalist</td>\n",
              "    </tr>\n",
              "    <tr>\n",
              "      <th>1</th>\n",
              "      <td>12347.0</td>\n",
              "      <td>2</td>\n",
              "      <td>7</td>\n",
              "      <td>4310.00</td>\n",
              "      <td>4</td>\n",
              "      <td>4</td>\n",
              "      <td>4</td>\n",
              "      <td>444</td>\n",
              "      <td>12</td>\n",
              "      <td>Champions</td>\n",
              "    </tr>\n",
              "    <tr>\n",
              "      <th>2</th>\n",
              "      <td>12348.0</td>\n",
              "      <td>75</td>\n",
              "      <td>4</td>\n",
              "      <td>1797.24</td>\n",
              "      <td>2</td>\n",
              "      <td>3</td>\n",
              "      <td>4</td>\n",
              "      <td>234</td>\n",
              "      <td>9</td>\n",
              "      <td>Loyal Customers</td>\n",
              "    </tr>\n",
              "    <tr>\n",
              "      <th>3</th>\n",
              "      <td>12349.0</td>\n",
              "      <td>19</td>\n",
              "      <td>1</td>\n",
              "      <td>1757.55</td>\n",
              "      <td>3</td>\n",
              "      <td>1</td>\n",
              "      <td>4</td>\n",
              "      <td>314</td>\n",
              "      <td>8</td>\n",
              "      <td>Loyal Customers</td>\n",
              "    </tr>\n",
              "    <tr>\n",
              "      <th>4</th>\n",
              "      <td>12350.0</td>\n",
              "      <td>310</td>\n",
              "      <td>1</td>\n",
              "      <td>334.40</td>\n",
              "      <td>1</td>\n",
              "      <td>1</td>\n",
              "      <td>2</td>\n",
              "      <td>112</td>\n",
              "      <td>4</td>\n",
              "      <td>Need Attention</td>\n",
              "    </tr>\n",
              "  </tbody>\n",
              "</table>\n",
              "</div>"
            ],
            "text/plain": [
              "   CustomerID  Recency  Frequency  Monetary R_Score F_Score M_Score  \\\n",
              "0     12346.0      326          1  77183.60       1       1       4   \n",
              "1     12347.0        2          7   4310.00       4       4       4   \n",
              "2     12348.0       75          4   1797.24       2       3       4   \n",
              "3     12349.0       19          1   1757.55       3       1       4   \n",
              "4     12350.0      310          1    334.40       1       1       2   \n",
              "\n",
              "  RFM_Segment  RFM_Score    Customer_Segment  \n",
              "0         114          6  Potential Loyalist  \n",
              "1         444         12           Champions  \n",
              "2         234          9     Loyal Customers  \n",
              "3         314          8     Loyal Customers  \n",
              "4         112          4      Need Attention  "
            ]
          },
          "execution_count": 6,
          "metadata": {},
          "output_type": "execute_result"
        }
      ],
      "source": [
        "def segment_customer(row):\n",
        "    if row['RFM_Score'] >= 10:\n",
        "        return 'Champions'\n",
        "    elif row['RFM_Score'] >= 8:\n",
        "        return 'Loyal Customers'\n",
        "    elif row['RFM_Score'] >= 6:\n",
        "        return 'Potential Loyalist'\n",
        "    elif row['RFM_Score'] >= 4:\n",
        "        return 'Need Attention'\n",
        "    else:\n",
        "        return 'At Risk'\n",
        "\n",
        "rfm['Customer_Segment'] = rfm.apply(segment_customer, axis=1)\n",
        "rfm.head()\n"
      ]
    },
    {
      "cell_type": "markdown",
      "metadata": {
        "id": "JeneZacKXYYO"
      },
      "source": [
        "##Visualization"
      ]
    },
    {
      "cell_type": "code",
      "execution_count": 12,
      "metadata": {},
      "outputs": [
        {
          "data": {
            "application/vnd.plotly.v1+json": {
              "config": {
                "plotlyServerURL": "https://plot.ly"
              },
              "data": [
                {
                  "hovertemplate": "Customer_Segment=%{x}<br>count=%{text}<extra></extra>",
                  "legendgroup": "Champions",
                  "marker": {
                    "color": "rgb(36, 86, 104)",
                    "pattern": {
                      "shape": ""
                    }
                  },
                  "name": "Champions",
                  "orientation": "v",
                  "showlegend": true,
                  "text": {
                    "bdata": "AAAAAADQk0A=",
                    "dtype": "f8"
                  },
                  "textposition": "outside",
                  "type": "bar",
                  "x": [
                    "Champions"
                  ],
                  "xaxis": "x",
                  "y": {
                    "bdata": "9AQ=",
                    "dtype": "i2"
                  },
                  "yaxis": "y"
                },
                {
                  "hovertemplate": "Customer_Segment=%{x}<br>count=%{text}<extra></extra>",
                  "legendgroup": "Need Attention",
                  "marker": {
                    "color": "rgb(15, 114, 121)",
                    "pattern": {
                      "shape": ""
                    }
                  },
                  "name": "Need Attention",
                  "orientation": "v",
                  "showlegend": true,
                  "text": {
                    "bdata": "AAAAAADgjkA=",
                    "dtype": "f8"
                  },
                  "textposition": "outside",
                  "type": "bar",
                  "x": [
                    "Need Attention"
                  ],
                  "xaxis": "x",
                  "y": {
                    "bdata": "3AM=",
                    "dtype": "i2"
                  },
                  "yaxis": "y"
                },
                {
                  "hovertemplate": "Customer_Segment=%{x}<br>count=%{text}<extra></extra>",
                  "legendgroup": "Potential Loyalist",
                  "marker": {
                    "color": "rgb(13, 143, 129)",
                    "pattern": {
                      "shape": ""
                    }
                  },
                  "name": "Potential Loyalist",
                  "orientation": "v",
                  "showlegend": true,
                  "text": {
                    "bdata": "AAAAAABAjUA=",
                    "dtype": "f8"
                  },
                  "textposition": "outside",
                  "type": "bar",
                  "x": [
                    "Potential Loyalist"
                  ],
                  "xaxis": "x",
                  "y": {
                    "bdata": "qAM=",
                    "dtype": "i2"
                  },
                  "yaxis": "y"
                },
                {
                  "hovertemplate": "Customer_Segment=%{x}<br>count=%{text}<extra></extra>",
                  "legendgroup": "Loyal Customers",
                  "marker": {
                    "color": "rgb(57, 171, 126)",
                    "pattern": {
                      "shape": ""
                    }
                  },
                  "name": "Loyal Customers",
                  "orientation": "v",
                  "showlegend": true,
                  "text": {
                    "bdata": "AAAAAABYikA=",
                    "dtype": "f8"
                  },
                  "textposition": "outside",
                  "type": "bar",
                  "x": [
                    "Loyal Customers"
                  ],
                  "xaxis": "x",
                  "y": {
                    "bdata": "SwM=",
                    "dtype": "i2"
                  },
                  "yaxis": "y"
                },
                {
                  "hovertemplate": "Customer_Segment=%{x}<br>count=%{text}<extra></extra>",
                  "legendgroup": "At Risk",
                  "marker": {
                    "color": "rgb(110, 197, 116)",
                    "pattern": {
                      "shape": ""
                    }
                  },
                  "name": "At Risk",
                  "orientation": "v",
                  "showlegend": true,
                  "text": {
                    "bdata": "AAAAAADwckA=",
                    "dtype": "f8"
                  },
                  "textposition": "outside",
                  "type": "bar",
                  "x": [
                    "At Risk"
                  ],
                  "xaxis": "x",
                  "y": {
                    "bdata": "LwE=",
                    "dtype": "i2"
                  },
                  "yaxis": "y"
                }
              ],
              "layout": {
                "barmode": "relative",
                "font": {
                  "color": "white"
                },
                "legend": {
                  "title": {
                    "text": "Customer_Segment"
                  },
                  "tracegroupgap": 0
                },
                "paper_bgcolor": "black",
                "plot_bgcolor": "black",
                "template": {
                  "data": {
                    "bar": [
                      {
                        "error_x": {
                          "color": "#2a3f5f"
                        },
                        "error_y": {
                          "color": "#2a3f5f"
                        },
                        "marker": {
                          "line": {
                            "color": "#E5ECF6",
                            "width": 0.5
                          },
                          "pattern": {
                            "fillmode": "overlay",
                            "size": 10,
                            "solidity": 0.2
                          }
                        },
                        "type": "bar"
                      }
                    ],
                    "barpolar": [
                      {
                        "marker": {
                          "line": {
                            "color": "#E5ECF6",
                            "width": 0.5
                          },
                          "pattern": {
                            "fillmode": "overlay",
                            "size": 10,
                            "solidity": 0.2
                          }
                        },
                        "type": "barpolar"
                      }
                    ],
                    "carpet": [
                      {
                        "aaxis": {
                          "endlinecolor": "#2a3f5f",
                          "gridcolor": "white",
                          "linecolor": "white",
                          "minorgridcolor": "white",
                          "startlinecolor": "#2a3f5f"
                        },
                        "baxis": {
                          "endlinecolor": "#2a3f5f",
                          "gridcolor": "white",
                          "linecolor": "white",
                          "minorgridcolor": "white",
                          "startlinecolor": "#2a3f5f"
                        },
                        "type": "carpet"
                      }
                    ],
                    "choropleth": [
                      {
                        "colorbar": {
                          "outlinewidth": 0,
                          "ticks": ""
                        },
                        "type": "choropleth"
                      }
                    ],
                    "contour": [
                      {
                        "colorbar": {
                          "outlinewidth": 0,
                          "ticks": ""
                        },
                        "colorscale": [
                          [
                            0,
                            "#0d0887"
                          ],
                          [
                            0.1111111111111111,
                            "#46039f"
                          ],
                          [
                            0.2222222222222222,
                            "#7201a8"
                          ],
                          [
                            0.3333333333333333,
                            "#9c179e"
                          ],
                          [
                            0.4444444444444444,
                            "#bd3786"
                          ],
                          [
                            0.5555555555555556,
                            "#d8576b"
                          ],
                          [
                            0.6666666666666666,
                            "#ed7953"
                          ],
                          [
                            0.7777777777777778,
                            "#fb9f3a"
                          ],
                          [
                            0.8888888888888888,
                            "#fdca26"
                          ],
                          [
                            1,
                            "#f0f921"
                          ]
                        ],
                        "type": "contour"
                      }
                    ],
                    "contourcarpet": [
                      {
                        "colorbar": {
                          "outlinewidth": 0,
                          "ticks": ""
                        },
                        "type": "contourcarpet"
                      }
                    ],
                    "heatmap": [
                      {
                        "colorbar": {
                          "outlinewidth": 0,
                          "ticks": ""
                        },
                        "colorscale": [
                          [
                            0,
                            "#0d0887"
                          ],
                          [
                            0.1111111111111111,
                            "#46039f"
                          ],
                          [
                            0.2222222222222222,
                            "#7201a8"
                          ],
                          [
                            0.3333333333333333,
                            "#9c179e"
                          ],
                          [
                            0.4444444444444444,
                            "#bd3786"
                          ],
                          [
                            0.5555555555555556,
                            "#d8576b"
                          ],
                          [
                            0.6666666666666666,
                            "#ed7953"
                          ],
                          [
                            0.7777777777777778,
                            "#fb9f3a"
                          ],
                          [
                            0.8888888888888888,
                            "#fdca26"
                          ],
                          [
                            1,
                            "#f0f921"
                          ]
                        ],
                        "type": "heatmap"
                      }
                    ],
                    "histogram": [
                      {
                        "marker": {
                          "pattern": {
                            "fillmode": "overlay",
                            "size": 10,
                            "solidity": 0.2
                          }
                        },
                        "type": "histogram"
                      }
                    ],
                    "histogram2d": [
                      {
                        "colorbar": {
                          "outlinewidth": 0,
                          "ticks": ""
                        },
                        "colorscale": [
                          [
                            0,
                            "#0d0887"
                          ],
                          [
                            0.1111111111111111,
                            "#46039f"
                          ],
                          [
                            0.2222222222222222,
                            "#7201a8"
                          ],
                          [
                            0.3333333333333333,
                            "#9c179e"
                          ],
                          [
                            0.4444444444444444,
                            "#bd3786"
                          ],
                          [
                            0.5555555555555556,
                            "#d8576b"
                          ],
                          [
                            0.6666666666666666,
                            "#ed7953"
                          ],
                          [
                            0.7777777777777778,
                            "#fb9f3a"
                          ],
                          [
                            0.8888888888888888,
                            "#fdca26"
                          ],
                          [
                            1,
                            "#f0f921"
                          ]
                        ],
                        "type": "histogram2d"
                      }
                    ],
                    "histogram2dcontour": [
                      {
                        "colorbar": {
                          "outlinewidth": 0,
                          "ticks": ""
                        },
                        "colorscale": [
                          [
                            0,
                            "#0d0887"
                          ],
                          [
                            0.1111111111111111,
                            "#46039f"
                          ],
                          [
                            0.2222222222222222,
                            "#7201a8"
                          ],
                          [
                            0.3333333333333333,
                            "#9c179e"
                          ],
                          [
                            0.4444444444444444,
                            "#bd3786"
                          ],
                          [
                            0.5555555555555556,
                            "#d8576b"
                          ],
                          [
                            0.6666666666666666,
                            "#ed7953"
                          ],
                          [
                            0.7777777777777778,
                            "#fb9f3a"
                          ],
                          [
                            0.8888888888888888,
                            "#fdca26"
                          ],
                          [
                            1,
                            "#f0f921"
                          ]
                        ],
                        "type": "histogram2dcontour"
                      }
                    ],
                    "mesh3d": [
                      {
                        "colorbar": {
                          "outlinewidth": 0,
                          "ticks": ""
                        },
                        "type": "mesh3d"
                      }
                    ],
                    "parcoords": [
                      {
                        "line": {
                          "colorbar": {
                            "outlinewidth": 0,
                            "ticks": ""
                          }
                        },
                        "type": "parcoords"
                      }
                    ],
                    "pie": [
                      {
                        "automargin": true,
                        "type": "pie"
                      }
                    ],
                    "scatter": [
                      {
                        "fillpattern": {
                          "fillmode": "overlay",
                          "size": 10,
                          "solidity": 0.2
                        },
                        "type": "scatter"
                      }
                    ],
                    "scatter3d": [
                      {
                        "line": {
                          "colorbar": {
                            "outlinewidth": 0,
                            "ticks": ""
                          }
                        },
                        "marker": {
                          "colorbar": {
                            "outlinewidth": 0,
                            "ticks": ""
                          }
                        },
                        "type": "scatter3d"
                      }
                    ],
                    "scattercarpet": [
                      {
                        "marker": {
                          "colorbar": {
                            "outlinewidth": 0,
                            "ticks": ""
                          }
                        },
                        "type": "scattercarpet"
                      }
                    ],
                    "scattergeo": [
                      {
                        "marker": {
                          "colorbar": {
                            "outlinewidth": 0,
                            "ticks": ""
                          }
                        },
                        "type": "scattergeo"
                      }
                    ],
                    "scattergl": [
                      {
                        "marker": {
                          "colorbar": {
                            "outlinewidth": 0,
                            "ticks": ""
                          }
                        },
                        "type": "scattergl"
                      }
                    ],
                    "scattermap": [
                      {
                        "marker": {
                          "colorbar": {
                            "outlinewidth": 0,
                            "ticks": ""
                          }
                        },
                        "type": "scattermap"
                      }
                    ],
                    "scattermapbox": [
                      {
                        "marker": {
                          "colorbar": {
                            "outlinewidth": 0,
                            "ticks": ""
                          }
                        },
                        "type": "scattermapbox"
                      }
                    ],
                    "scatterpolar": [
                      {
                        "marker": {
                          "colorbar": {
                            "outlinewidth": 0,
                            "ticks": ""
                          }
                        },
                        "type": "scatterpolar"
                      }
                    ],
                    "scatterpolargl": [
                      {
                        "marker": {
                          "colorbar": {
                            "outlinewidth": 0,
                            "ticks": ""
                          }
                        },
                        "type": "scatterpolargl"
                      }
                    ],
                    "scatterternary": [
                      {
                        "marker": {
                          "colorbar": {
                            "outlinewidth": 0,
                            "ticks": ""
                          }
                        },
                        "type": "scatterternary"
                      }
                    ],
                    "surface": [
                      {
                        "colorbar": {
                          "outlinewidth": 0,
                          "ticks": ""
                        },
                        "colorscale": [
                          [
                            0,
                            "#0d0887"
                          ],
                          [
                            0.1111111111111111,
                            "#46039f"
                          ],
                          [
                            0.2222222222222222,
                            "#7201a8"
                          ],
                          [
                            0.3333333333333333,
                            "#9c179e"
                          ],
                          [
                            0.4444444444444444,
                            "#bd3786"
                          ],
                          [
                            0.5555555555555556,
                            "#d8576b"
                          ],
                          [
                            0.6666666666666666,
                            "#ed7953"
                          ],
                          [
                            0.7777777777777778,
                            "#fb9f3a"
                          ],
                          [
                            0.8888888888888888,
                            "#fdca26"
                          ],
                          [
                            1,
                            "#f0f921"
                          ]
                        ],
                        "type": "surface"
                      }
                    ],
                    "table": [
                      {
                        "cells": {
                          "fill": {
                            "color": "#EBF0F8"
                          },
                          "line": {
                            "color": "white"
                          }
                        },
                        "header": {
                          "fill": {
                            "color": "#C8D4E3"
                          },
                          "line": {
                            "color": "white"
                          }
                        },
                        "type": "table"
                      }
                    ]
                  },
                  "layout": {
                    "annotationdefaults": {
                      "arrowcolor": "#2a3f5f",
                      "arrowhead": 0,
                      "arrowwidth": 1
                    },
                    "autotypenumbers": "strict",
                    "coloraxis": {
                      "colorbar": {
                        "outlinewidth": 0,
                        "ticks": ""
                      }
                    },
                    "colorscale": {
                      "diverging": [
                        [
                          0,
                          "#8e0152"
                        ],
                        [
                          0.1,
                          "#c51b7d"
                        ],
                        [
                          0.2,
                          "#de77ae"
                        ],
                        [
                          0.3,
                          "#f1b6da"
                        ],
                        [
                          0.4,
                          "#fde0ef"
                        ],
                        [
                          0.5,
                          "#f7f7f7"
                        ],
                        [
                          0.6,
                          "#e6f5d0"
                        ],
                        [
                          0.7,
                          "#b8e186"
                        ],
                        [
                          0.8,
                          "#7fbc41"
                        ],
                        [
                          0.9,
                          "#4d9221"
                        ],
                        [
                          1,
                          "#276419"
                        ]
                      ],
                      "sequential": [
                        [
                          0,
                          "#0d0887"
                        ],
                        [
                          0.1111111111111111,
                          "#46039f"
                        ],
                        [
                          0.2222222222222222,
                          "#7201a8"
                        ],
                        [
                          0.3333333333333333,
                          "#9c179e"
                        ],
                        [
                          0.4444444444444444,
                          "#bd3786"
                        ],
                        [
                          0.5555555555555556,
                          "#d8576b"
                        ],
                        [
                          0.6666666666666666,
                          "#ed7953"
                        ],
                        [
                          0.7777777777777778,
                          "#fb9f3a"
                        ],
                        [
                          0.8888888888888888,
                          "#fdca26"
                        ],
                        [
                          1,
                          "#f0f921"
                        ]
                      ],
                      "sequentialminus": [
                        [
                          0,
                          "#0d0887"
                        ],
                        [
                          0.1111111111111111,
                          "#46039f"
                        ],
                        [
                          0.2222222222222222,
                          "#7201a8"
                        ],
                        [
                          0.3333333333333333,
                          "#9c179e"
                        ],
                        [
                          0.4444444444444444,
                          "#bd3786"
                        ],
                        [
                          0.5555555555555556,
                          "#d8576b"
                        ],
                        [
                          0.6666666666666666,
                          "#ed7953"
                        ],
                        [
                          0.7777777777777778,
                          "#fb9f3a"
                        ],
                        [
                          0.8888888888888888,
                          "#fdca26"
                        ],
                        [
                          1,
                          "#f0f921"
                        ]
                      ]
                    },
                    "colorway": [
                      "#636efa",
                      "#EF553B",
                      "#00cc96",
                      "#ab63fa",
                      "#FFA15A",
                      "#19d3f3",
                      "#FF6692",
                      "#B6E880",
                      "#FF97FF",
                      "#FECB52"
                    ],
                    "font": {
                      "color": "#2a3f5f"
                    },
                    "geo": {
                      "bgcolor": "white",
                      "lakecolor": "white",
                      "landcolor": "#E5ECF6",
                      "showlakes": true,
                      "showland": true,
                      "subunitcolor": "white"
                    },
                    "hoverlabel": {
                      "align": "left"
                    },
                    "hovermode": "closest",
                    "mapbox": {
                      "style": "light"
                    },
                    "paper_bgcolor": "white",
                    "plot_bgcolor": "#E5ECF6",
                    "polar": {
                      "angularaxis": {
                        "gridcolor": "white",
                        "linecolor": "white",
                        "ticks": ""
                      },
                      "bgcolor": "#E5ECF6",
                      "radialaxis": {
                        "gridcolor": "white",
                        "linecolor": "white",
                        "ticks": ""
                      }
                    },
                    "scene": {
                      "xaxis": {
                        "backgroundcolor": "#E5ECF6",
                        "gridcolor": "white",
                        "gridwidth": 2,
                        "linecolor": "white",
                        "showbackground": true,
                        "ticks": "",
                        "zerolinecolor": "white"
                      },
                      "yaxis": {
                        "backgroundcolor": "#E5ECF6",
                        "gridcolor": "white",
                        "gridwidth": 2,
                        "linecolor": "white",
                        "showbackground": true,
                        "ticks": "",
                        "zerolinecolor": "white"
                      },
                      "zaxis": {
                        "backgroundcolor": "#E5ECF6",
                        "gridcolor": "white",
                        "gridwidth": 2,
                        "linecolor": "white",
                        "showbackground": true,
                        "ticks": "",
                        "zerolinecolor": "white"
                      }
                    },
                    "shapedefaults": {
                      "line": {
                        "color": "#2a3f5f"
                      }
                    },
                    "ternary": {
                      "aaxis": {
                        "gridcolor": "white",
                        "linecolor": "white",
                        "ticks": ""
                      },
                      "baxis": {
                        "gridcolor": "white",
                        "linecolor": "white",
                        "ticks": ""
                      },
                      "bgcolor": "#E5ECF6",
                      "caxis": {
                        "gridcolor": "white",
                        "linecolor": "white",
                        "ticks": ""
                      }
                    },
                    "title": {
                      "x": 0.05
                    },
                    "xaxis": {
                      "automargin": true,
                      "gridcolor": "white",
                      "linecolor": "white",
                      "ticks": "",
                      "title": {
                        "standoff": 15
                      },
                      "zerolinecolor": "white",
                      "zerolinewidth": 2
                    },
                    "yaxis": {
                      "automargin": true,
                      "gridcolor": "white",
                      "linecolor": "white",
                      "ticks": "",
                      "title": {
                        "standoff": 15
                      },
                      "zerolinecolor": "white",
                      "zerolinewidth": 2
                    }
                  }
                },
                "title": {
                  "font": {
                    "color": "cyan",
                    "size": 22
                  },
                  "text": "Customer Segments Distribution"
                },
                "xaxis": {
                  "anchor": "y",
                  "categoryarray": [
                    "Champions",
                    "Need Attention",
                    "Potential Loyalist",
                    "Loyal Customers",
                    "At Risk"
                  ],
                  "categoryorder": "array",
                  "domain": [
                    0,
                    1
                  ],
                  "title": {
                    "text": "Customer Segment"
                  }
                },
                "yaxis": {
                  "anchor": "x",
                  "domain": [
                    0,
                    1
                  ],
                  "title": {
                    "text": "Number of Customers"
                  }
                }
              }
            }
          },
          "metadata": {},
          "output_type": "display_data"
        },
        {
          "data": {
            "application/vnd.plotly.v1+json": {
              "config": {
                "plotlyServerURL": "https://plot.ly"
              },
              "data": [
                {
                  "alignmentgroup": "True",
                  "hovertemplate": "Customer_Segment=%{x}<br>Monetary=%{y}<extra></extra>",
                  "legendgroup": "Potential Loyalist",
                  "marker": {
                    "color": "#000004"
                  },
                  "name": "Potential Loyalist",
                  "notched": false,
                  "offsetgroup": "Potential Loyalist",
                  "orientation": "v",
                  "showlegend": true,
                  "type": "box",
                  "x": [
                    "Potential Loyalist",
                    "Potential Loyalist",
                    "Potential Loyalist",
                    "Potential Loyalist",
                    "Potential Loyalist",
                    "Potential Loyalist",
                    "Potential Loyalist",
                    "Potential Loyalist",
                    "Potential Loyalist",
                    "Potential Loyalist",
                    "Potential Loyalist",
                    "Potential Loyalist",
                    "Potential Loyalist",
                    "Potential Loyalist",
                    "Potential Loyalist",
                    "Potential Loyalist",
                    "Potential Loyalist",
                    "Potential Loyalist",
                    "Potential Loyalist",
                    "Potential Loyalist",
                    "Potential Loyalist",
                    "Potential Loyalist",
                    "Potential Loyalist",
                    "Potential Loyalist",
                    "Potential Loyalist",
                    "Potential Loyalist",
                    "Potential Loyalist",
                    "Potential Loyalist",
                    "Potential Loyalist",
                    "Potential Loyalist",
                    "Potential Loyalist",
                    "Potential Loyalist",
                    "Potential Loyalist",
                    "Potential Loyalist",
                    "Potential Loyalist",
                    "Potential Loyalist",
                    "Potential Loyalist",
                    "Potential Loyalist",
                    "Potential Loyalist",
                    "Potential Loyalist",
                    "Potential Loyalist",
                    "Potential Loyalist",
                    "Potential Loyalist",
                    "Potential Loyalist",
                    "Potential Loyalist",
                    "Potential Loyalist",
                    "Potential Loyalist",
                    "Potential Loyalist",
                    "Potential Loyalist",
                    "Potential Loyalist",
                    "Potential Loyalist",
                    "Potential Loyalist",
                    "Potential Loyalist",
                    "Potential Loyalist",
                    "Potential Loyalist",
                    "Potential Loyalist",
                    "Potential Loyalist",
                    "Potential Loyalist",
                    "Potential Loyalist",
                    "Potential Loyalist",
                    "Potential Loyalist",
                    "Potential Loyalist",
                    "Potential Loyalist",
                    "Potential Loyalist",
                    "Potential Loyalist",
                    "Potential Loyalist",
                    "Potential Loyalist",
                    "Potential Loyalist",
                    "Potential Loyalist",
                    "Potential Loyalist",
                    "Potential Loyalist",
                    "Potential Loyalist",
                    "Potential Loyalist",
                    "Potential Loyalist",
                    "Potential Loyalist",
                    "Potential Loyalist",
                    "Potential Loyalist",
                    "Potential Loyalist",
                    "Potential Loyalist",
                    "Potential Loyalist",
                    "Potential Loyalist",
                    "Potential Loyalist",
                    "Potential Loyalist",
                    "Potential Loyalist",
                    "Potential Loyalist",
                    "Potential Loyalist",
                    "Potential Loyalist",
                    "Potential Loyalist",
                    "Potential Loyalist",
                    "Potential Loyalist",
                    "Potential Loyalist",
                    "Potential Loyalist",
                    "Potential Loyalist",
                    "Potential Loyalist",
                    "Potential Loyalist",
                    "Potential Loyalist",
                    "Potential Loyalist",
                    "Potential Loyalist",
                    "Potential Loyalist",
                    "Potential Loyalist",
                    "Potential Loyalist",
                    "Potential Loyalist",
                    "Potential Loyalist",
                    "Potential Loyalist",
                    "Potential Loyalist",
                    "Potential Loyalist",
                    "Potential Loyalist",
                    "Potential Loyalist",
                    "Potential Loyalist",
                    "Potential Loyalist",
                    "Potential Loyalist",
                    "Potential Loyalist",
                    "Potential Loyalist",
                    "Potential Loyalist",
                    "Potential Loyalist",
                    "Potential Loyalist",
                    "Potential Loyalist",
                    "Potential Loyalist",
                    "Potential Loyalist",
                    "Potential Loyalist",
                    "Potential Loyalist",
                    "Potential Loyalist",
                    "Potential Loyalist",
                    "Potential Loyalist",
                    "Potential Loyalist",
                    "Potential Loyalist",
                    "Potential Loyalist",
                    "Potential Loyalist",
                    "Potential Loyalist",
                    "Potential Loyalist",
                    "Potential Loyalist",
                    "Potential Loyalist",
                    "Potential Loyalist",
                    "Potential Loyalist",
                    "Potential Loyalist",
                    "Potential Loyalist",
                    "Potential Loyalist",
                    "Potential Loyalist",
                    "Potential Loyalist",
                    "Potential Loyalist",
                    "Potential Loyalist",
                    "Potential Loyalist",
                    "Potential Loyalist",
                    "Potential Loyalist",
                    "Potential Loyalist",
                    "Potential Loyalist",
                    "Potential Loyalist",
                    "Potential Loyalist",
                    "Potential Loyalist",
                    "Potential Loyalist",
                    "Potential Loyalist",
                    "Potential Loyalist",
                    "Potential Loyalist",
                    "Potential Loyalist",
                    "Potential Loyalist",
                    "Potential Loyalist",
                    "Potential Loyalist",
                    "Potential Loyalist",
                    "Potential Loyalist",
                    "Potential Loyalist",
                    "Potential Loyalist",
                    "Potential Loyalist",
                    "Potential Loyalist",
                    "Potential Loyalist",
                    "Potential Loyalist",
                    "Potential Loyalist",
                    "Potential Loyalist",
                    "Potential Loyalist",
                    "Potential Loyalist",
                    "Potential Loyalist",
                    "Potential Loyalist",
                    "Potential Loyalist",
                    "Potential Loyalist",
                    "Potential Loyalist",
                    "Potential Loyalist",
                    "Potential Loyalist",
                    "Potential Loyalist",
                    "Potential Loyalist",
                    "Potential Loyalist",
                    "Potential Loyalist",
                    "Potential Loyalist",
                    "Potential Loyalist",
                    "Potential Loyalist",
                    "Potential Loyalist",
                    "Potential Loyalist",
                    "Potential Loyalist",
                    "Potential Loyalist",
                    "Potential Loyalist",
                    "Potential Loyalist",
                    "Potential Loyalist",
                    "Potential Loyalist",
                    "Potential Loyalist",
                    "Potential Loyalist",
                    "Potential Loyalist",
                    "Potential Loyalist",
                    "Potential Loyalist",
                    "Potential Loyalist",
                    "Potential Loyalist",
                    "Potential Loyalist",
                    "Potential Loyalist",
                    "Potential Loyalist",
                    "Potential Loyalist",
                    "Potential Loyalist",
                    "Potential Loyalist",
                    "Potential Loyalist",
                    "Potential Loyalist",
                    "Potential Loyalist",
                    "Potential Loyalist",
                    "Potential Loyalist",
                    "Potential Loyalist",
                    "Potential Loyalist",
                    "Potential Loyalist",
                    "Potential Loyalist",
                    "Potential Loyalist",
                    "Potential Loyalist",
                    "Potential Loyalist",
                    "Potential Loyalist",
                    "Potential Loyalist",
                    "Potential Loyalist",
                    "Potential Loyalist",
                    "Potential Loyalist",
                    "Potential Loyalist",
                    "Potential Loyalist",
                    "Potential Loyalist",
                    "Potential Loyalist",
                    "Potential Loyalist",
                    "Potential Loyalist",
                    "Potential Loyalist",
                    "Potential Loyalist",
                    "Potential Loyalist",
                    "Potential Loyalist",
                    "Potential Loyalist",
                    "Potential Loyalist",
                    "Potential Loyalist",
                    "Potential Loyalist",
                    "Potential Loyalist",
                    "Potential Loyalist",
                    "Potential Loyalist",
                    "Potential Loyalist",
                    "Potential Loyalist",
                    "Potential Loyalist",
                    "Potential Loyalist",
                    "Potential Loyalist",
                    "Potential Loyalist",
                    "Potential Loyalist",
                    "Potential Loyalist",
                    "Potential Loyalist",
                    "Potential Loyalist",
                    "Potential Loyalist",
                    "Potential Loyalist",
                    "Potential Loyalist",
                    "Potential Loyalist",
                    "Potential Loyalist",
                    "Potential Loyalist",
                    "Potential Loyalist",
                    "Potential Loyalist",
                    "Potential Loyalist",
                    "Potential Loyalist",
                    "Potential Loyalist",
                    "Potential Loyalist",
                    "Potential Loyalist",
                    "Potential Loyalist",
                    "Potential Loyalist",
                    "Potential Loyalist",
                    "Potential Loyalist",
                    "Potential Loyalist",
                    "Potential Loyalist",
                    "Potential Loyalist",
                    "Potential Loyalist",
                    "Potential Loyalist",
                    "Potential Loyalist",
                    "Potential Loyalist",
                    "Potential Loyalist",
                    "Potential Loyalist",
                    "Potential Loyalist",
                    "Potential Loyalist",
                    "Potential Loyalist",
                    "Potential Loyalist",
                    "Potential Loyalist",
                    "Potential Loyalist",
                    "Potential Loyalist",
                    "Potential Loyalist",
                    "Potential Loyalist",
                    "Potential Loyalist",
                    "Potential Loyalist",
                    "Potential Loyalist",
                    "Potential Loyalist",
                    "Potential Loyalist",
                    "Potential Loyalist",
                    "Potential Loyalist",
                    "Potential Loyalist",
                    "Potential Loyalist",
                    "Potential Loyalist",
                    "Potential Loyalist",
                    "Potential Loyalist",
                    "Potential Loyalist",
                    "Potential Loyalist",
                    "Potential Loyalist",
                    "Potential Loyalist",
                    "Potential Loyalist",
                    "Potential Loyalist",
                    "Potential Loyalist",
                    "Potential Loyalist",
                    "Potential Loyalist",
                    "Potential Loyalist",
                    "Potential Loyalist",
                    "Potential Loyalist",
                    "Potential Loyalist",
                    "Potential Loyalist",
                    "Potential Loyalist",
                    "Potential Loyalist",
                    "Potential Loyalist",
                    "Potential Loyalist",
                    "Potential Loyalist",
                    "Potential Loyalist",
                    "Potential Loyalist",
                    "Potential Loyalist",
                    "Potential Loyalist",
                    "Potential Loyalist",
                    "Potential Loyalist",
                    "Potential Loyalist",
                    "Potential Loyalist",
                    "Potential Loyalist",
                    "Potential Loyalist",
                    "Potential Loyalist",
                    "Potential Loyalist",
                    "Potential Loyalist",
                    "Potential Loyalist",
                    "Potential Loyalist",
                    "Potential Loyalist",
                    "Potential Loyalist",
                    "Potential Loyalist",
                    "Potential Loyalist",
                    "Potential Loyalist",
                    "Potential Loyalist",
                    "Potential Loyalist",
                    "Potential Loyalist",
                    "Potential Loyalist",
                    "Potential Loyalist",
                    "Potential Loyalist",
                    "Potential Loyalist",
                    "Potential Loyalist",
                    "Potential Loyalist",
                    "Potential Loyalist",
                    "Potential Loyalist",
                    "Potential Loyalist",
                    "Potential Loyalist",
                    "Potential Loyalist",
                    "Potential Loyalist",
                    "Potential Loyalist",
                    "Potential Loyalist",
                    "Potential Loyalist",
                    "Potential Loyalist",
                    "Potential Loyalist",
                    "Potential Loyalist",
                    "Potential Loyalist",
                    "Potential Loyalist",
                    "Potential Loyalist",
                    "Potential Loyalist",
                    "Potential Loyalist",
                    "Potential Loyalist",
                    "Potential Loyalist",
                    "Potential Loyalist",
                    "Potential Loyalist",
                    "Potential Loyalist",
                    "Potential Loyalist",
                    "Potential Loyalist",
                    "Potential Loyalist",
                    "Potential Loyalist",
                    "Potential Loyalist",
                    "Potential Loyalist",
                    "Potential Loyalist",
                    "Potential Loyalist",
                    "Potential Loyalist",
                    "Potential Loyalist",
                    "Potential Loyalist",
                    "Potential Loyalist",
                    "Potential Loyalist",
                    "Potential Loyalist",
                    "Potential Loyalist",
                    "Potential Loyalist",
                    "Potential Loyalist",
                    "Potential Loyalist",
                    "Potential Loyalist",
                    "Potential Loyalist",
                    "Potential Loyalist",
                    "Potential Loyalist",
                    "Potential Loyalist",
                    "Potential Loyalist",
                    "Potential Loyalist",
                    "Potential Loyalist",
                    "Potential Loyalist",
                    "Potential Loyalist",
                    "Potential Loyalist",
                    "Potential Loyalist",
                    "Potential Loyalist",
                    "Potential Loyalist",
                    "Potential Loyalist",
                    "Potential Loyalist",
                    "Potential Loyalist",
                    "Potential Loyalist",
                    "Potential Loyalist",
                    "Potential Loyalist",
                    "Potential Loyalist",
                    "Potential Loyalist",
                    "Potential Loyalist",
                    "Potential Loyalist",
                    "Potential Loyalist",
                    "Potential Loyalist",
                    "Potential Loyalist",
                    "Potential Loyalist",
                    "Potential Loyalist",
                    "Potential Loyalist",
                    "Potential Loyalist",
                    "Potential Loyalist",
                    "Potential Loyalist",
                    "Potential Loyalist",
                    "Potential Loyalist",
                    "Potential Loyalist",
                    "Potential Loyalist",
                    "Potential Loyalist",
                    "Potential Loyalist",
                    "Potential Loyalist",
                    "Potential Loyalist",
                    "Potential Loyalist",
                    "Potential Loyalist",
                    "Potential Loyalist",
                    "Potential Loyalist",
                    "Potential Loyalist",
                    "Potential Loyalist",
                    "Potential Loyalist",
                    "Potential Loyalist",
                    "Potential Loyalist",
                    "Potential Loyalist",
                    "Potential Loyalist",
                    "Potential Loyalist",
                    "Potential Loyalist",
                    "Potential Loyalist",
                    "Potential Loyalist",
                    "Potential Loyalist",
                    "Potential Loyalist",
                    "Potential Loyalist",
                    "Potential Loyalist",
                    "Potential Loyalist",
                    "Potential Loyalist",
                    "Potential Loyalist",
                    "Potential Loyalist",
                    "Potential Loyalist",
                    "Potential Loyalist",
                    "Potential Loyalist",
                    "Potential Loyalist",
                    "Potential Loyalist",
                    "Potential Loyalist",
                    "Potential Loyalist",
                    "Potential Loyalist",
                    "Potential Loyalist",
                    "Potential Loyalist",
                    "Potential Loyalist",
                    "Potential Loyalist",
                    "Potential Loyalist",
                    "Potential Loyalist",
                    "Potential Loyalist",
                    "Potential Loyalist",
                    "Potential Loyalist",
                    "Potential Loyalist",
                    "Potential Loyalist",
                    "Potential Loyalist",
                    "Potential Loyalist",
                    "Potential Loyalist",
                    "Potential Loyalist",
                    "Potential Loyalist",
                    "Potential Loyalist",
                    "Potential Loyalist",
                    "Potential Loyalist",
                    "Potential Loyalist",
                    "Potential Loyalist",
                    "Potential Loyalist",
                    "Potential Loyalist",
                    "Potential Loyalist",
                    "Potential Loyalist",
                    "Potential Loyalist",
                    "Potential Loyalist",
                    "Potential Loyalist",
                    "Potential Loyalist",
                    "Potential Loyalist",
                    "Potential Loyalist",
                    "Potential Loyalist",
                    "Potential Loyalist",
                    "Potential Loyalist",
                    "Potential Loyalist",
                    "Potential Loyalist",
                    "Potential Loyalist",
                    "Potential Loyalist",
                    "Potential Loyalist",
                    "Potential Loyalist",
                    "Potential Loyalist",
                    "Potential Loyalist",
                    "Potential Loyalist",
                    "Potential Loyalist",
                    "Potential Loyalist",
                    "Potential Loyalist",
                    "Potential Loyalist",
                    "Potential Loyalist",
                    "Potential Loyalist",
                    "Potential Loyalist",
                    "Potential Loyalist",
                    "Potential Loyalist",
                    "Potential Loyalist",
                    "Potential Loyalist",
                    "Potential Loyalist",
                    "Potential Loyalist",
                    "Potential Loyalist",
                    "Potential Loyalist",
                    "Potential Loyalist",
                    "Potential Loyalist",
                    "Potential Loyalist",
                    "Potential Loyalist",
                    "Potential Loyalist",
                    "Potential Loyalist",
                    "Potential Loyalist",
                    "Potential Loyalist",
                    "Potential Loyalist",
                    "Potential Loyalist",
                    "Potential Loyalist",
                    "Potential Loyalist",
                    "Potential Loyalist",
                    "Potential Loyalist",
                    "Potential Loyalist",
                    "Potential Loyalist",
                    "Potential Loyalist",
                    "Potential Loyalist",
                    "Potential Loyalist",
                    "Potential Loyalist",
                    "Potential Loyalist",
                    "Potential Loyalist",
                    "Potential Loyalist",
                    "Potential Loyalist",
                    "Potential Loyalist",
                    "Potential Loyalist",
                    "Potential Loyalist",
                    "Potential Loyalist",
                    "Potential Loyalist",
                    "Potential Loyalist",
                    "Potential Loyalist",
                    "Potential Loyalist",
                    "Potential Loyalist",
                    "Potential Loyalist",
                    "Potential Loyalist",
                    "Potential Loyalist",
                    "Potential Loyalist",
                    "Potential Loyalist",
                    "Potential Loyalist",
                    "Potential Loyalist",
                    "Potential Loyalist",
                    "Potential Loyalist",
                    "Potential Loyalist",
                    "Potential Loyalist",
                    "Potential Loyalist",
                    "Potential Loyalist",
                    "Potential Loyalist",
                    "Potential Loyalist",
                    "Potential Loyalist",
                    "Potential Loyalist",
                    "Potential Loyalist",
                    "Potential Loyalist",
                    "Potential Loyalist",
                    "Potential Loyalist",
                    "Potential Loyalist",
                    "Potential Loyalist",
                    "Potential Loyalist",
                    "Potential Loyalist",
                    "Potential Loyalist",
                    "Potential Loyalist",
                    "Potential Loyalist",
                    "Potential Loyalist",
                    "Potential Loyalist",
                    "Potential Loyalist",
                    "Potential Loyalist",
                    "Potential Loyalist",
                    "Potential Loyalist",
                    "Potential Loyalist",
                    "Potential Loyalist",
                    "Potential Loyalist",
                    "Potential Loyalist",
                    "Potential Loyalist",
                    "Potential Loyalist",
                    "Potential Loyalist",
                    "Potential Loyalist",
                    "Potential Loyalist",
                    "Potential Loyalist",
                    "Potential Loyalist",
                    "Potential Loyalist",
                    "Potential Loyalist",
                    "Potential Loyalist",
                    "Potential Loyalist",
                    "Potential Loyalist",
                    "Potential Loyalist",
                    "Potential Loyalist",
                    "Potential Loyalist",
                    "Potential Loyalist",
                    "Potential Loyalist",
                    "Potential Loyalist",
                    "Potential Loyalist",
                    "Potential Loyalist",
                    "Potential Loyalist",
                    "Potential Loyalist",
                    "Potential Loyalist",
                    "Potential Loyalist",
                    "Potential Loyalist",
                    "Potential Loyalist",
                    "Potential Loyalist",
                    "Potential Loyalist",
                    "Potential Loyalist",
                    "Potential Loyalist",
                    "Potential Loyalist",
                    "Potential Loyalist",
                    "Potential Loyalist",
                    "Potential Loyalist",
                    "Potential Loyalist",
                    "Potential Loyalist",
                    "Potential Loyalist",
                    "Potential Loyalist",
                    "Potential Loyalist",
                    "Potential Loyalist",
                    "Potential Loyalist",
                    "Potential Loyalist",
                    "Potential Loyalist",
                    "Potential Loyalist",
                    "Potential Loyalist",
                    "Potential Loyalist",
                    "Potential Loyalist",
                    "Potential Loyalist",
                    "Potential Loyalist",
                    "Potential Loyalist",
                    "Potential Loyalist",
                    "Potential Loyalist",
                    "Potential Loyalist",
                    "Potential Loyalist",
                    "Potential Loyalist",
                    "Potential Loyalist",
                    "Potential Loyalist",
                    "Potential Loyalist",
                    "Potential Loyalist",
                    "Potential Loyalist",
                    "Potential Loyalist",
                    "Potential Loyalist",
                    "Potential Loyalist",
                    "Potential Loyalist",
                    "Potential Loyalist",
                    "Potential Loyalist",
                    "Potential Loyalist",
                    "Potential Loyalist",
                    "Potential Loyalist",
                    "Potential Loyalist",
                    "Potential Loyalist",
                    "Potential Loyalist",
                    "Potential Loyalist",
                    "Potential Loyalist",
                    "Potential Loyalist",
                    "Potential Loyalist",
                    "Potential Loyalist",
                    "Potential Loyalist",
                    "Potential Loyalist",
                    "Potential Loyalist",
                    "Potential Loyalist",
                    "Potential Loyalist",
                    "Potential Loyalist",
                    "Potential Loyalist",
                    "Potential Loyalist",
                    "Potential Loyalist",
                    "Potential Loyalist",
                    "Potential Loyalist",
                    "Potential Loyalist",
                    "Potential Loyalist",
                    "Potential Loyalist",
                    "Potential Loyalist",
                    "Potential Loyalist",
                    "Potential Loyalist",
                    "Potential Loyalist",
                    "Potential Loyalist",
                    "Potential Loyalist",
                    "Potential Loyalist",
                    "Potential Loyalist",
                    "Potential Loyalist",
                    "Potential Loyalist",
                    "Potential Loyalist",
                    "Potential Loyalist",
                    "Potential Loyalist",
                    "Potential Loyalist",
                    "Potential Loyalist",
                    "Potential Loyalist",
                    "Potential Loyalist",
                    "Potential Loyalist",
                    "Potential Loyalist",
                    "Potential Loyalist",
                    "Potential Loyalist",
                    "Potential Loyalist",
                    "Potential Loyalist",
                    "Potential Loyalist",
                    "Potential Loyalist",
                    "Potential Loyalist",
                    "Potential Loyalist",
                    "Potential Loyalist",
                    "Potential Loyalist",
                    "Potential Loyalist",
                    "Potential Loyalist",
                    "Potential Loyalist",
                    "Potential Loyalist",
                    "Potential Loyalist",
                    "Potential Loyalist",
                    "Potential Loyalist",
                    "Potential Loyalist",
                    "Potential Loyalist",
                    "Potential Loyalist",
                    "Potential Loyalist",
                    "Potential Loyalist",
                    "Potential Loyalist",
                    "Potential Loyalist",
                    "Potential Loyalist",
                    "Potential Loyalist",
                    "Potential Loyalist",
                    "Potential Loyalist",
                    "Potential Loyalist",
                    "Potential Loyalist",
                    "Potential Loyalist",
                    "Potential Loyalist",
                    "Potential Loyalist",
                    "Potential Loyalist",
                    "Potential Loyalist",
                    "Potential Loyalist",
                    "Potential Loyalist",
                    "Potential Loyalist",
                    "Potential Loyalist",
                    "Potential Loyalist",
                    "Potential Loyalist",
                    "Potential Loyalist",
                    "Potential Loyalist",
                    "Potential Loyalist",
                    "Potential Loyalist",
                    "Potential Loyalist",
                    "Potential Loyalist",
                    "Potential Loyalist",
                    "Potential Loyalist",
                    "Potential Loyalist",
                    "Potential Loyalist",
                    "Potential Loyalist",
                    "Potential Loyalist",
                    "Potential Loyalist",
                    "Potential Loyalist",
                    "Potential Loyalist",
                    "Potential Loyalist",
                    "Potential Loyalist",
                    "Potential Loyalist",
                    "Potential Loyalist",
                    "Potential Loyalist",
                    "Potential Loyalist",
                    "Potential Loyalist",
                    "Potential Loyalist",
                    "Potential Loyalist",
                    "Potential Loyalist",
                    "Potential Loyalist",
                    "Potential Loyalist",
                    "Potential Loyalist",
                    "Potential Loyalist",
                    "Potential Loyalist",
                    "Potential Loyalist",
                    "Potential Loyalist",
                    "Potential Loyalist",
                    "Potential Loyalist",
                    "Potential Loyalist",
                    "Potential Loyalist",
                    "Potential Loyalist",
                    "Potential Loyalist",
                    "Potential Loyalist",
                    "Potential Loyalist",
                    "Potential Loyalist",
                    "Potential Loyalist",
                    "Potential Loyalist",
                    "Potential Loyalist",
                    "Potential Loyalist",
                    "Potential Loyalist",
                    "Potential Loyalist",
                    "Potential Loyalist",
                    "Potential Loyalist",
                    "Potential Loyalist",
                    "Potential Loyalist",
                    "Potential Loyalist",
                    "Potential Loyalist",
                    "Potential Loyalist",
                    "Potential Loyalist",
                    "Potential Loyalist",
                    "Potential Loyalist",
                    "Potential Loyalist",
                    "Potential Loyalist",
                    "Potential Loyalist",
                    "Potential Loyalist",
                    "Potential Loyalist",
                    "Potential Loyalist",
                    "Potential Loyalist",
                    "Potential Loyalist",
                    "Potential Loyalist",
                    "Potential Loyalist",
                    "Potential Loyalist",
                    "Potential Loyalist",
                    "Potential Loyalist",
                    "Potential Loyalist",
                    "Potential Loyalist",
                    "Potential Loyalist",
                    "Potential Loyalist",
                    "Potential Loyalist",
                    "Potential Loyalist",
                    "Potential Loyalist",
                    "Potential Loyalist",
                    "Potential Loyalist",
                    "Potential Loyalist",
                    "Potential Loyalist",
                    "Potential Loyalist",
                    "Potential Loyalist",
                    "Potential Loyalist",
                    "Potential Loyalist",
                    "Potential Loyalist",
                    "Potential Loyalist",
                    "Potential Loyalist",
                    "Potential Loyalist",
                    "Potential Loyalist",
                    "Potential Loyalist",
                    "Potential Loyalist",
                    "Potential Loyalist",
                    "Potential Loyalist",
                    "Potential Loyalist",
                    "Potential Loyalist",
                    "Potential Loyalist",
                    "Potential Loyalist",
                    "Potential Loyalist",
                    "Potential Loyalist",
                    "Potential Loyalist",
                    "Potential Loyalist",
                    "Potential Loyalist",
                    "Potential Loyalist",
                    "Potential Loyalist",
                    "Potential Loyalist",
                    "Potential Loyalist",
                    "Potential Loyalist",
                    "Potential Loyalist",
                    "Potential Loyalist",
                    "Potential Loyalist",
                    "Potential Loyalist",
                    "Potential Loyalist",
                    "Potential Loyalist",
                    "Potential Loyalist",
                    "Potential Loyalist",
                    "Potential Loyalist",
                    "Potential Loyalist",
                    "Potential Loyalist",
                    "Potential Loyalist",
                    "Potential Loyalist",
                    "Potential Loyalist",
                    "Potential Loyalist",
                    "Potential Loyalist",
                    "Potential Loyalist",
                    "Potential Loyalist",
                    "Potential Loyalist",
                    "Potential Loyalist",
                    "Potential Loyalist",
                    "Potential Loyalist",
                    "Potential Loyalist",
                    "Potential Loyalist",
                    "Potential Loyalist",
                    "Potential Loyalist",
                    "Potential Loyalist",
                    "Potential Loyalist",
                    "Potential Loyalist",
                    "Potential Loyalist",
                    "Potential Loyalist",
                    "Potential Loyalist",
                    "Potential Loyalist",
                    "Potential Loyalist",
                    "Potential Loyalist",
                    "Potential Loyalist",
                    "Potential Loyalist",
                    "Potential Loyalist",
                    "Potential Loyalist",
                    "Potential Loyalist",
                    "Potential Loyalist",
                    "Potential Loyalist",
                    "Potential Loyalist",
                    "Potential Loyalist",
                    "Potential Loyalist",
                    "Potential Loyalist",
                    "Potential Loyalist",
                    "Potential Loyalist",
                    "Potential Loyalist",
                    "Potential Loyalist",
                    "Potential Loyalist",
                    "Potential Loyalist",
                    "Potential Loyalist",
                    "Potential Loyalist",
                    "Potential Loyalist",
                    "Potential Loyalist",
                    "Potential Loyalist",
                    "Potential Loyalist",
                    "Potential Loyalist",
                    "Potential Loyalist",
                    "Potential Loyalist",
                    "Potential Loyalist",
                    "Potential Loyalist",
                    "Potential Loyalist",
                    "Potential Loyalist",
                    "Potential Loyalist",
                    "Potential Loyalist",
                    "Potential Loyalist",
                    "Potential Loyalist",
                    "Potential Loyalist",
                    "Potential Loyalist",
                    "Potential Loyalist",
                    "Potential Loyalist",
                    "Potential Loyalist",
                    "Potential Loyalist",
                    "Potential Loyalist",
                    "Potential Loyalist",
                    "Potential Loyalist",
                    "Potential Loyalist",
                    "Potential Loyalist",
                    "Potential Loyalist",
                    "Potential Loyalist",
                    "Potential Loyalist",
                    "Potential Loyalist",
                    "Potential Loyalist",
                    "Potential Loyalist",
                    "Potential Loyalist",
                    "Potential Loyalist",
                    "Potential Loyalist",
                    "Potential Loyalist",
                    "Potential Loyalist",
                    "Potential Loyalist",
                    "Potential Loyalist"
                  ],
                  "x0": " ",
                  "xaxis": "x",
                  "y": {
                    "bdata": "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",
                    "dtype": "f8"
                  },
                  "y0": " ",
                  "yaxis": "y"
                },
                {
                  "alignmentgroup": "True",
                  "hovertemplate": "Customer_Segment=%{x}<br>Monetary=%{y}<extra></extra>",
                  "legendgroup": "Champions",
                  "marker": {
                    "color": "#1b0c41"
                  },
                  "name": "Champions",
                  "notched": false,
                  "offsetgroup": "Champions",
                  "orientation": "v",
                  "showlegend": true,
                  "type": "box",
                  "x": [
                    "Champions",
                    "Champions",
                    "Champions",
                    "Champions",
                    "Champions",
                    "Champions",
                    "Champions",
                    "Champions",
                    "Champions",
                    "Champions",
                    "Champions",
                    "Champions",
                    "Champions",
                    "Champions",
                    "Champions",
                    "Champions",
                    "Champions",
                    "Champions",
                    "Champions",
                    "Champions",
                    "Champions",
                    "Champions",
                    "Champions",
                    "Champions",
                    "Champions",
                    "Champions",
                    "Champions",
                    "Champions",
                    "Champions",
                    "Champions",
                    "Champions",
                    "Champions",
                    "Champions",
                    "Champions",
                    "Champions",
                    "Champions",
                    "Champions",
                    "Champions",
                    "Champions",
                    "Champions",
                    "Champions",
                    "Champions",
                    "Champions",
                    "Champions",
                    "Champions",
                    "Champions",
                    "Champions",
                    "Champions",
                    "Champions",
                    "Champions",
                    "Champions",
                    "Champions",
                    "Champions",
                    "Champions",
                    "Champions",
                    "Champions",
                    "Champions",
                    "Champions",
                    "Champions",
                    "Champions",
                    "Champions",
                    "Champions",
                    "Champions",
                    "Champions",
                    "Champions",
                    "Champions",
                    "Champions",
                    "Champions",
                    "Champions",
                    "Champions",
                    "Champions",
                    "Champions",
                    "Champions",
                    "Champions",
                    "Champions",
                    "Champions",
                    "Champions",
                    "Champions",
                    "Champions",
                    "Champions",
                    "Champions",
                    "Champions",
                    "Champions",
                    "Champions",
                    "Champions",
                    "Champions",
                    "Champions",
                    "Champions",
                    "Champions",
                    "Champions",
                    "Champions",
                    "Champions",
                    "Champions",
                    "Champions",
                    "Champions",
                    "Champions",
                    "Champions",
                    "Champions",
                    "Champions",
                    "Champions",
                    "Champions",
                    "Champions",
                    "Champions",
                    "Champions",
                    "Champions",
                    "Champions",
                    "Champions",
                    "Champions",
                    "Champions",
                    "Champions",
                    "Champions",
                    "Champions",
                    "Champions",
                    "Champions",
                    "Champions",
                    "Champions",
                    "Champions",
                    "Champions",
                    "Champions",
                    "Champions",
                    "Champions",
                    "Champions",
                    "Champions",
                    "Champions",
                    "Champions",
                    "Champions",
                    "Champions",
                    "Champions",
                    "Champions",
                    "Champions",
                    "Champions",
                    "Champions",
                    "Champions",
                    "Champions",
                    "Champions",
                    "Champions",
                    "Champions",
                    "Champions",
                    "Champions",
                    "Champions",
                    "Champions",
                    "Champions",
                    "Champions",
                    "Champions",
                    "Champions",
                    "Champions",
                    "Champions",
                    "Champions",
                    "Champions",
                    "Champions",
                    "Champions",
                    "Champions",
                    "Champions",
                    "Champions",
                    "Champions",
                    "Champions",
                    "Champions",
                    "Champions",
                    "Champions",
                    "Champions",
                    "Champions",
                    "Champions",
                    "Champions",
                    "Champions",
                    "Champions",
                    "Champions",
                    "Champions",
                    "Champions",
                    "Champions",
                    "Champions",
                    "Champions",
                    "Champions",
                    "Champions",
                    "Champions",
                    "Champions",
                    "Champions",
                    "Champions",
                    "Champions",
                    "Champions",
                    "Champions",
                    "Champions",
                    "Champions",
                    "Champions",
                    "Champions",
                    "Champions",
                    "Champions",
                    "Champions",
                    "Champions",
                    "Champions",
                    "Champions",
                    "Champions",
                    "Champions",
                    "Champions",
                    "Champions",
                    "Champions",
                    "Champions",
                    "Champions",
                    "Champions",
                    "Champions",
                    "Champions",
                    "Champions",
                    "Champions",
                    "Champions",
                    "Champions",
                    "Champions",
                    "Champions",
                    "Champions",
                    "Champions",
                    "Champions",
                    "Champions",
                    "Champions",
                    "Champions",
                    "Champions",
                    "Champions",
                    "Champions",
                    "Champions",
                    "Champions",
                    "Champions",
                    "Champions",
                    "Champions",
                    "Champions",
                    "Champions",
                    "Champions",
                    "Champions",
                    "Champions",
                    "Champions",
                    "Champions",
                    "Champions",
                    "Champions",
                    "Champions",
                    "Champions",
                    "Champions",
                    "Champions",
                    "Champions",
                    "Champions",
                    "Champions",
                    "Champions",
                    "Champions",
                    "Champions",
                    "Champions",
                    "Champions",
                    "Champions",
                    "Champions",
                    "Champions",
                    "Champions",
                    "Champions",
                    "Champions",
                    "Champions",
                    "Champions",
                    "Champions",
                    "Champions",
                    "Champions",
                    "Champions",
                    "Champions",
                    "Champions",
                    "Champions",
                    "Champions",
                    "Champions",
                    "Champions",
                    "Champions",
                    "Champions",
                    "Champions",
                    "Champions",
                    "Champions",
                    "Champions",
                    "Champions",
                    "Champions",
                    "Champions",
                    "Champions",
                    "Champions",
                    "Champions",
                    "Champions",
                    "Champions",
                    "Champions",
                    "Champions",
                    "Champions",
                    "Champions",
                    "Champions",
                    "Champions",
                    "Champions",
                    "Champions",
                    "Champions",
                    "Champions",
                    "Champions",
                    "Champions",
                    "Champions",
                    "Champions",
                    "Champions",
                    "Champions",
                    "Champions",
                    "Champions",
                    "Champions",
                    "Champions",
                    "Champions",
                    "Champions",
                    "Champions",
                    "Champions",
                    "Champions",
                    "Champions",
                    "Champions",
                    "Champions",
                    "Champions",
                    "Champions",
                    "Champions",
                    "Champions",
                    "Champions",
                    "Champions",
                    "Champions",
                    "Champions",
                    "Champions",
                    "Champions",
                    "Champions",
                    "Champions",
                    "Champions",
                    "Champions",
                    "Champions",
                    "Champions",
                    "Champions",
                    "Champions",
                    "Champions",
                    "Champions",
                    "Champions",
                    "Champions",
                    "Champions",
                    "Champions",
                    "Champions",
                    "Champions",
                    "Champions",
                    "Champions",
                    "Champions",
                    "Champions",
                    "Champions",
                    "Champions",
                    "Champions",
                    "Champions",
                    "Champions",
                    "Champions",
                    "Champions",
                    "Champions",
                    "Champions",
                    "Champions",
                    "Champions",
                    "Champions",
                    "Champions",
                    "Champions",
                    "Champions",
                    "Champions",
                    "Champions",
                    "Champions",
                    "Champions",
                    "Champions",
                    "Champions",
                    "Champions",
                    "Champions",
                    "Champions",
                    "Champions",
                    "Champions",
                    "Champions",
                    "Champions",
                    "Champions",
                    "Champions",
                    "Champions",
                    "Champions",
                    "Champions",
                    "Champions",
                    "Champions",
                    "Champions",
                    "Champions",
                    "Champions",
                    "Champions",
                    "Champions",
                    "Champions",
                    "Champions",
                    "Champions",
                    "Champions",
                    "Champions",
                    "Champions",
                    "Champions",
                    "Champions",
                    "Champions",
                    "Champions",
                    "Champions",
                    "Champions",
                    "Champions",
                    "Champions",
                    "Champions",
                    "Champions",
                    "Champions",
                    "Champions",
                    "Champions",
                    "Champions",
                    "Champions",
                    "Champions",
                    "Champions",
                    "Champions",
                    "Champions",
                    "Champions",
                    "Champions",
                    "Champions",
                    "Champions",
                    "Champions",
                    "Champions",
                    "Champions",
                    "Champions",
                    "Champions",
                    "Champions",
                    "Champions",
                    "Champions",
                    "Champions",
                    "Champions",
                    "Champions",
                    "Champions",
                    "Champions",
                    "Champions",
                    "Champions",
                    "Champions",
                    "Champions",
                    "Champions",
                    "Champions",
                    "Champions",
                    "Champions",
                    "Champions",
                    "Champions",
                    "Champions",
                    "Champions",
                    "Champions",
                    "Champions",
                    "Champions",
                    "Champions",
                    "Champions",
                    "Champions",
                    "Champions",
                    "Champions",
                    "Champions",
                    "Champions",
                    "Champions",
                    "Champions",
                    "Champions",
                    "Champions",
                    "Champions",
                    "Champions",
                    "Champions",
                    "Champions",
                    "Champions",
                    "Champions",
                    "Champions",
                    "Champions",
                    "Champions",
                    "Champions",
                    "Champions",
                    "Champions",
                    "Champions",
                    "Champions",
                    "Champions",
                    "Champions",
                    "Champions",
                    "Champions",
                    "Champions",
                    "Champions",
                    "Champions",
                    "Champions",
                    "Champions",
                    "Champions",
                    "Champions",
                    "Champions",
                    "Champions",
                    "Champions",
                    "Champions",
                    "Champions",
                    "Champions",
                    "Champions",
                    "Champions",
                    "Champions",
                    "Champions",
                    "Champions",
                    "Champions",
                    "Champions",
                    "Champions",
                    "Champions",
                    "Champions",
                    "Champions",
                    "Champions",
                    "Champions",
                    "Champions",
                    "Champions",
                    "Champions",
                    "Champions",
                    "Champions",
                    "Champions",
                    "Champions",
                    "Champions",
                    "Champions",
                    "Champions",
                    "Champions",
                    "Champions",
                    "Champions",
                    "Champions",
                    "Champions",
                    "Champions",
                    "Champions",
                    "Champions",
                    "Champions",
                    "Champions",
                    "Champions",
                    "Champions",
                    "Champions",
                    "Champions",
                    "Champions",
                    "Champions",
                    "Champions",
                    "Champions",
                    "Champions",
                    "Champions",
                    "Champions",
                    "Champions",
                    "Champions",
                    "Champions",
                    "Champions",
                    "Champions",
                    "Champions",
                    "Champions",
                    "Champions",
                    "Champions",
                    "Champions",
                    "Champions",
                    "Champions",
                    "Champions",
                    "Champions",
                    "Champions",
                    "Champions",
                    "Champions",
                    "Champions",
                    "Champions",
                    "Champions",
                    "Champions",
                    "Champions",
                    "Champions",
                    "Champions",
                    "Champions",
                    "Champions",
                    "Champions",
                    "Champions",
                    "Champions",
                    "Champions",
                    "Champions",
                    "Champions",
                    "Champions",
                    "Champions",
                    "Champions",
                    "Champions",
                    "Champions",
                    "Champions",
                    "Champions",
                    "Champions",
                    "Champions",
                    "Champions",
                    "Champions",
                    "Champions",
                    "Champions",
                    "Champions",
                    "Champions",
                    "Champions",
                    "Champions",
                    "Champions",
                    "Champions",
                    "Champions",
                    "Champions",
                    "Champions",
                    "Champions",
                    "Champions",
                    "Champions",
                    "Champions",
                    "Champions",
                    "Champions",
                    "Champions",
                    "Champions",
                    "Champions",
                    "Champions",
                    "Champions",
                    "Champions",
                    "Champions",
                    "Champions",
                    "Champions",
                    "Champions",
                    "Champions",
                    "Champions",
                    "Champions",
                    "Champions",
                    "Champions",
                    "Champions",
                    "Champions",
                    "Champions",
                    "Champions",
                    "Champions",
                    "Champions",
                    "Champions",
                    "Champions",
                    "Champions",
                    "Champions",
                    "Champions",
                    "Champions",
                    "Champions",
                    "Champions",
                    "Champions",
                    "Champions",
                    "Champions",
                    "Champions",
                    "Champions",
                    "Champions",
                    "Champions",
                    "Champions",
                    "Champions",
                    "Champions",
                    "Champions",
                    "Champions",
                    "Champions",
                    "Champions",
                    "Champions",
                    "Champions",
                    "Champions",
                    "Champions",
                    "Champions",
                    "Champions",
                    "Champions",
                    "Champions",
                    "Champions",
                    "Champions",
                    "Champions",
                    "Champions",
                    "Champions",
                    "Champions",
                    "Champions",
                    "Champions",
                    "Champions",
                    "Champions",
                    "Champions",
                    "Champions",
                    "Champions",
                    "Champions",
                    "Champions",
                    "Champions",
                    "Champions",
                    "Champions",
                    "Champions",
                    "Champions",
                    "Champions",
                    "Champions",
                    "Champions",
                    "Champions",
                    "Champions",
                    "Champions",
                    "Champions",
                    "Champions",
                    "Champions",
                    "Champions",
                    "Champions",
                    "Champions",
                    "Champions",
                    "Champions",
                    "Champions",
                    "Champions",
                    "Champions",
                    "Champions",
                    "Champions",
                    "Champions",
                    "Champions",
                    "Champions",
                    "Champions",
                    "Champions",
                    "Champions",
                    "Champions",
                    "Champions",
                    "Champions",
                    "Champions",
                    "Champions",
                    "Champions",
                    "Champions",
                    "Champions",
                    "Champions",
                    "Champions",
                    "Champions",
                    "Champions",
                    "Champions",
                    "Champions",
                    "Champions",
                    "Champions",
                    "Champions",
                    "Champions",
                    "Champions",
                    "Champions",
                    "Champions",
                    "Champions",
                    "Champions",
                    "Champions",
                    "Champions",
                    "Champions",
                    "Champions",
                    "Champions",
                    "Champions",
                    "Champions",
                    "Champions",
                    "Champions",
                    "Champions",
                    "Champions",
                    "Champions",
                    "Champions",
                    "Champions",
                    "Champions",
                    "Champions",
                    "Champions",
                    "Champions",
                    "Champions",
                    "Champions",
                    "Champions",
                    "Champions",
                    "Champions",
                    "Champions",
                    "Champions",
                    "Champions",
                    "Champions",
                    "Champions",
                    "Champions",
                    "Champions",
                    "Champions",
                    "Champions",
                    "Champions",
                    "Champions",
                    "Champions",
                    "Champions",
                    "Champions",
                    "Champions",
                    "Champions",
                    "Champions",
                    "Champions",
                    "Champions",
                    "Champions",
                    "Champions",
                    "Champions",
                    "Champions",
                    "Champions",
                    "Champions",
                    "Champions",
                    "Champions",
                    "Champions",
                    "Champions",
                    "Champions",
                    "Champions",
                    "Champions",
                    "Champions",
                    "Champions",
                    "Champions",
                    "Champions",
                    "Champions",
                    "Champions",
                    "Champions",
                    "Champions",
                    "Champions",
                    "Champions",
                    "Champions",
                    "Champions",
                    "Champions",
                    "Champions",
                    "Champions",
                    "Champions",
                    "Champions",
                    "Champions",
                    "Champions",
                    "Champions",
                    "Champions",
                    "Champions",
                    "Champions",
                    "Champions",
                    "Champions",
                    "Champions",
                    "Champions",
                    "Champions",
                    "Champions",
                    "Champions",
                    "Champions",
                    "Champions",
                    "Champions",
                    "Champions",
                    "Champions",
                    "Champions",
                    "Champions",
                    "Champions",
                    "Champions",
                    "Champions",
                    "Champions",
                    "Champions",
                    "Champions",
                    "Champions",
                    "Champions",
                    "Champions",
                    "Champions",
                    "Champions",
                    "Champions",
                    "Champions",
                    "Champions",
                    "Champions",
                    "Champions",
                    "Champions",
                    "Champions",
                    "Champions",
                    "Champions",
                    "Champions",
                    "Champions",
                    "Champions",
                    "Champions",
                    "Champions",
                    "Champions",
                    "Champions",
                    "Champions",
                    "Champions",
                    "Champions",
                    "Champions",
                    "Champions",
                    "Champions",
                    "Champions",
                    "Champions",
                    "Champions",
                    "Champions",
                    "Champions",
                    "Champions",
                    "Champions",
                    "Champions",
                    "Champions",
                    "Champions",
                    "Champions",
                    "Champions",
                    "Champions",
                    "Champions",
                    "Champions",
                    "Champions",
                    "Champions",
                    "Champions",
                    "Champions",
                    "Champions",
                    "Champions",
                    "Champions",
                    "Champions",
                    "Champions",
                    "Champions",
                    "Champions",
                    "Champions",
                    "Champions",
                    "Champions",
                    "Champions",
                    "Champions",
                    "Champions",
                    "Champions",
                    "Champions",
                    "Champions",
                    "Champions",
                    "Champions",
                    "Champions",
                    "Champions",
                    "Champions",
                    "Champions",
                    "Champions",
                    "Champions",
                    "Champions",
                    "Champions",
                    "Champions",
                    "Champions",
                    "Champions",
                    "Champions",
                    "Champions",
                    "Champions",
                    "Champions",
                    "Champions",
                    "Champions",
                    "Champions",
                    "Champions",
                    "Champions",
                    "Champions",
                    "Champions",
                    "Champions",
                    "Champions",
                    "Champions",
                    "Champions",
                    "Champions",
                    "Champions",
                    "Champions",
                    "Champions",
                    "Champions",
                    "Champions",
                    "Champions",
                    "Champions",
                    "Champions",
                    "Champions",
                    "Champions",
                    "Champions",
                    "Champions",
                    "Champions",
                    "Champions",
                    "Champions",
                    "Champions",
                    "Champions",
                    "Champions",
                    "Champions",
                    "Champions",
                    "Champions",
                    "Champions",
                    "Champions",
                    "Champions",
                    "Champions",
                    "Champions",
                    "Champions",
                    "Champions",
                    "Champions",
                    "Champions",
                    "Champions",
                    "Champions",
                    "Champions",
                    "Champions",
                    "Champions",
                    "Champions",
                    "Champions",
                    "Champions",
                    "Champions",
                    "Champions",
                    "Champions",
                    "Champions",
                    "Champions",
                    "Champions",
                    "Champions",
                    "Champions",
                    "Champions",
                    "Champions",
                    "Champions",
                    "Champions",
                    "Champions",
                    "Champions",
                    "Champions",
                    "Champions",
                    "Champions",
                    "Champions",
                    "Champions",
                    "Champions",
                    "Champions",
                    "Champions",
                    "Champions",
                    "Champions",
                    "Champions",
                    "Champions",
                    "Champions",
                    "Champions",
                    "Champions",
                    "Champions",
                    "Champions",
                    "Champions",
                    "Champions",
                    "Champions",
                    "Champions",
                    "Champions",
                    "Champions",
                    "Champions",
                    "Champions",
                    "Champions",
                    "Champions",
                    "Champions",
                    "Champions",
                    "Champions",
                    "Champions",
                    "Champions",
                    "Champions",
                    "Champions",
                    "Champions",
                    "Champions",
                    "Champions",
                    "Champions",
                    "Champions",
                    "Champions",
                    "Champions",
                    "Champions",
                    "Champions",
                    "Champions",
                    "Champions",
                    "Champions",
                    "Champions",
                    "Champions",
                    "Champions",
                    "Champions",
                    "Champions",
                    "Champions",
                    "Champions",
                    "Champions",
                    "Champions",
                    "Champions",
                    "Champions",
                    "Champions",
                    "Champions",
                    "Champions",
                    "Champions",
                    "Champions",
                    "Champions",
                    "Champions",
                    "Champions",
                    "Champions",
                    "Champions",
                    "Champions",
                    "Champions",
                    "Champions",
                    "Champions",
                    "Champions",
                    "Champions",
                    "Champions",
                    "Champions",
                    "Champions",
                    "Champions",
                    "Champions",
                    "Champions",
                    "Champions",
                    "Champions",
                    "Champions",
                    "Champions",
                    "Champions",
                    "Champions",
                    "Champions",
                    "Champions",
                    "Champions",
                    "Champions",
                    "Champions",
                    "Champions",
                    "Champions",
                    "Champions",
                    "Champions",
                    "Champions",
                    "Champions",
                    "Champions",
                    "Champions",
                    "Champions",
                    "Champions",
                    "Champions",
                    "Champions",
                    "Champions",
                    "Champions",
                    "Champions",
                    "Champions",
                    "Champions",
                    "Champions",
                    "Champions",
                    "Champions",
                    "Champions",
                    "Champions",
                    "Champions",
                    "Champions",
                    "Champions",
                    "Champions",
                    "Champions",
                    "Champions",
                    "Champions",
                    "Champions",
                    "Champions",
                    "Champions",
                    "Champions",
                    "Champions",
                    "Champions",
                    "Champions",
                    "Champions",
                    "Champions",
                    "Champions",
                    "Champions",
                    "Champions",
                    "Champions",
                    "Champions",
                    "Champions",
                    "Champions",
                    "Champions",
                    "Champions",
                    "Champions",
                    "Champions",
                    "Champions",
                    "Champions",
                    "Champions",
                    "Champions",
                    "Champions",
                    "Champions",
                    "Champions",
                    "Champions",
                    "Champions",
                    "Champions",
                    "Champions",
                    "Champions",
                    "Champions",
                    "Champions",
                    "Champions",
                    "Champions",
                    "Champions",
                    "Champions",
                    "Champions",
                    "Champions",
                    "Champions",
                    "Champions",
                    "Champions",
                    "Champions",
                    "Champions",
                    "Champions",
                    "Champions",
                    "Champions",
                    "Champions",
                    "Champions",
                    "Champions",
                    "Champions",
                    "Champions",
                    "Champions",
                    "Champions",
                    "Champions",
                    "Champions",
                    "Champions",
                    "Champions",
                    "Champions",
                    "Champions",
                    "Champions",
                    "Champions",
                    "Champions",
                    "Champions",
                    "Champions",
                    "Champions",
                    "Champions",
                    "Champions",
                    "Champions",
                    "Champions",
                    "Champions",
                    "Champions",
                    "Champions",
                    "Champions",
                    "Champions",
                    "Champions",
                    "Champions",
                    "Champions",
                    "Champions",
                    "Champions",
                    "Champions",
                    "Champions",
                    "Champions",
                    "Champions",
                    "Champions",
                    "Champions",
                    "Champions",
                    "Champions",
                    "Champions",
                    "Champions",
                    "Champions",
                    "Champions",
                    "Champions",
                    "Champions",
                    "Champions",
                    "Champions",
                    "Champions",
                    "Champions",
                    "Champions",
                    "Champions",
                    "Champions",
                    "Champions",
                    "Champions",
                    "Champions",
                    "Champions",
                    "Champions",
                    "Champions",
                    "Champions",
                    "Champions",
                    "Champions",
                    "Champions",
                    "Champions",
                    "Champions",
                    "Champions",
                    "Champions",
                    "Champions",
                    "Champions",
                    "Champions",
                    "Champions",
                    "Champions",
                    "Champions",
                    "Champions",
                    "Champions",
                    "Champions",
                    "Champions",
                    "Champions",
                    "Champions",
                    "Champions",
                    "Champions",
                    "Champions",
                    "Champions",
                    "Champions",
                    "Champions",
                    "Champions",
                    "Champions",
                    "Champions",
                    "Champions",
                    "Champions",
                    "Champions",
                    "Champions",
                    "Champions",
                    "Champions",
                    "Champions",
                    "Champions",
                    "Champions",
                    "Champions",
                    "Champions",
                    "Champions",
                    "Champions",
                    "Champions",
                    "Champions",
                    "Champions",
                    "Champions",
                    "Champions",
                    "Champions",
                    "Champions",
                    "Champions",
                    "Champions",
                    "Champions",
                    "Champions",
                    "Champions",
                    "Champions",
                    "Champions",
                    "Champions",
                    "Champions",
                    "Champions",
                    "Champions",
                    "Champions",
                    "Champions",
                    "Champions",
                    "Champions",
                    "Champions",
                    "Champions",
                    "Champions",
                    "Champions",
                    "Champions",
                    "Champions",
                    "Champions",
                    "Champions",
                    "Champions",
                    "Champions",
                    "Champions",
                    "Champions",
                    "Champions",
                    "Champions",
                    "Champions",
                    "Champions",
                    "Champions",
                    "Champions",
                    "Champions",
                    "Champions",
                    "Champions",
                    "Champions",
                    "Champions",
                    "Champions",
                    "Champions",
                    "Champions",
                    "Champions",
                    "Champions",
                    "Champions",
                    "Champions",
                    "Champions",
                    "Champions",
                    "Champions",
                    "Champions",
                    "Champions",
                    "Champions",
                    "Champions",
                    "Champions",
                    "Champions",
                    "Champions",
                    "Champions",
                    "Champions",
                    "Champions"
                  ],
                  "x0": " ",
                  "xaxis": "x",
                  "y": {
                    "bdata": "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",
                    "dtype": "f8"
                  },
                  "y0": " ",
                  "yaxis": "y"
                },
                {
                  "alignmentgroup": "True",
                  "hovertemplate": "Customer_Segment=%{x}<br>Monetary=%{y}<extra></extra>",
                  "legendgroup": "Loyal Customers",
                  "marker": {
                    "color": "#4a0c6b"
                  },
                  "name": "Loyal Customers",
                  "notched": false,
                  "offsetgroup": "Loyal Customers",
                  "orientation": "v",
                  "showlegend": true,
                  "type": "box",
                  "x": [
                    "Loyal Customers",
                    "Loyal Customers",
                    "Loyal Customers",
                    "Loyal Customers",
                    "Loyal Customers",
                    "Loyal Customers",
                    "Loyal Customers",
                    "Loyal Customers",
                    "Loyal Customers",
                    "Loyal Customers",
                    "Loyal Customers",
                    "Loyal Customers",
                    "Loyal Customers",
                    "Loyal Customers",
                    "Loyal Customers",
                    "Loyal Customers",
                    "Loyal Customers",
                    "Loyal Customers",
                    "Loyal Customers",
                    "Loyal Customers",
                    "Loyal Customers",
                    "Loyal Customers",
                    "Loyal Customers",
                    "Loyal Customers",
                    "Loyal Customers",
                    "Loyal Customers",
                    "Loyal Customers",
                    "Loyal Customers",
                    "Loyal Customers",
                    "Loyal Customers",
                    "Loyal Customers",
                    "Loyal Customers",
                    "Loyal Customers",
                    "Loyal Customers",
                    "Loyal Customers",
                    "Loyal Customers",
                    "Loyal Customers",
                    "Loyal Customers",
                    "Loyal Customers",
                    "Loyal Customers",
                    "Loyal Customers",
                    "Loyal Customers",
                    "Loyal Customers",
                    "Loyal Customers",
                    "Loyal Customers",
                    "Loyal Customers",
                    "Loyal Customers",
                    "Loyal Customers",
                    "Loyal Customers",
                    "Loyal Customers",
                    "Loyal Customers",
                    "Loyal Customers",
                    "Loyal Customers",
                    "Loyal Customers",
                    "Loyal Customers",
                    "Loyal Customers",
                    "Loyal Customers",
                    "Loyal Customers",
                    "Loyal Customers",
                    "Loyal Customers",
                    "Loyal Customers",
                    "Loyal Customers",
                    "Loyal Customers",
                    "Loyal Customers",
                    "Loyal Customers",
                    "Loyal Customers",
                    "Loyal Customers",
                    "Loyal Customers",
                    "Loyal Customers",
                    "Loyal Customers",
                    "Loyal Customers",
                    "Loyal Customers",
                    "Loyal Customers",
                    "Loyal Customers",
                    "Loyal Customers",
                    "Loyal Customers",
                    "Loyal Customers",
                    "Loyal Customers",
                    "Loyal Customers",
                    "Loyal Customers",
                    "Loyal Customers",
                    "Loyal Customers",
                    "Loyal Customers",
                    "Loyal Customers",
                    "Loyal Customers",
                    "Loyal Customers",
                    "Loyal Customers",
                    "Loyal Customers",
                    "Loyal Customers",
                    "Loyal Customers",
                    "Loyal Customers",
                    "Loyal Customers",
                    "Loyal Customers",
                    "Loyal Customers",
                    "Loyal Customers",
                    "Loyal Customers",
                    "Loyal Customers",
                    "Loyal Customers",
                    "Loyal Customers",
                    "Loyal Customers",
                    "Loyal Customers",
                    "Loyal Customers",
                    "Loyal Customers",
                    "Loyal Customers",
                    "Loyal Customers",
                    "Loyal Customers",
                    "Loyal Customers",
                    "Loyal Customers",
                    "Loyal Customers",
                    "Loyal Customers",
                    "Loyal Customers",
                    "Loyal Customers",
                    "Loyal Customers",
                    "Loyal Customers",
                    "Loyal Customers",
                    "Loyal Customers",
                    "Loyal Customers",
                    "Loyal Customers",
                    "Loyal Customers",
                    "Loyal Customers",
                    "Loyal Customers",
                    "Loyal Customers",
                    "Loyal Customers",
                    "Loyal Customers",
                    "Loyal Customers",
                    "Loyal Customers",
                    "Loyal Customers",
                    "Loyal Customers",
                    "Loyal Customers",
                    "Loyal Customers",
                    "Loyal Customers",
                    "Loyal Customers",
                    "Loyal Customers",
                    "Loyal Customers",
                    "Loyal Customers",
                    "Loyal Customers",
                    "Loyal Customers",
                    "Loyal Customers",
                    "Loyal Customers",
                    "Loyal Customers",
                    "Loyal Customers",
                    "Loyal Customers",
                    "Loyal Customers",
                    "Loyal Customers",
                    "Loyal Customers",
                    "Loyal Customers",
                    "Loyal Customers",
                    "Loyal Customers",
                    "Loyal Customers",
                    "Loyal Customers",
                    "Loyal Customers",
                    "Loyal Customers",
                    "Loyal Customers",
                    "Loyal Customers",
                    "Loyal Customers",
                    "Loyal Customers",
                    "Loyal Customers",
                    "Loyal Customers",
                    "Loyal Customers",
                    "Loyal Customers",
                    "Loyal Customers",
                    "Loyal Customers",
                    "Loyal Customers",
                    "Loyal Customers",
                    "Loyal Customers",
                    "Loyal Customers",
                    "Loyal Customers",
                    "Loyal Customers",
                    "Loyal Customers",
                    "Loyal Customers",
                    "Loyal Customers",
                    "Loyal Customers",
                    "Loyal Customers",
                    "Loyal Customers",
                    "Loyal Customers",
                    "Loyal Customers",
                    "Loyal Customers",
                    "Loyal Customers",
                    "Loyal Customers",
                    "Loyal Customers",
                    "Loyal Customers",
                    "Loyal Customers",
                    "Loyal Customers",
                    "Loyal Customers",
                    "Loyal Customers",
                    "Loyal Customers",
                    "Loyal Customers",
                    "Loyal Customers",
                    "Loyal Customers",
                    "Loyal Customers",
                    "Loyal Customers",
                    "Loyal Customers",
                    "Loyal Customers",
                    "Loyal Customers",
                    "Loyal Customers",
                    "Loyal Customers",
                    "Loyal Customers",
                    "Loyal Customers",
                    "Loyal Customers",
                    "Loyal Customers",
                    "Loyal Customers",
                    "Loyal Customers",
                    "Loyal Customers",
                    "Loyal Customers",
                    "Loyal Customers",
                    "Loyal Customers",
                    "Loyal Customers",
                    "Loyal Customers",
                    "Loyal Customers",
                    "Loyal Customers",
                    "Loyal Customers",
                    "Loyal Customers",
                    "Loyal Customers",
                    "Loyal Customers",
                    "Loyal Customers",
                    "Loyal Customers",
                    "Loyal Customers",
                    "Loyal Customers",
                    "Loyal Customers",
                    "Loyal Customers",
                    "Loyal Customers",
                    "Loyal Customers",
                    "Loyal Customers",
                    "Loyal Customers",
                    "Loyal Customers",
                    "Loyal Customers",
                    "Loyal Customers",
                    "Loyal Customers",
                    "Loyal Customers",
                    "Loyal Customers",
                    "Loyal Customers",
                    "Loyal Customers",
                    "Loyal Customers",
                    "Loyal Customers",
                    "Loyal Customers",
                    "Loyal Customers",
                    "Loyal Customers",
                    "Loyal Customers",
                    "Loyal Customers",
                    "Loyal Customers",
                    "Loyal Customers",
                    "Loyal Customers",
                    "Loyal Customers",
                    "Loyal Customers",
                    "Loyal Customers",
                    "Loyal Customers",
                    "Loyal Customers",
                    "Loyal Customers",
                    "Loyal Customers",
                    "Loyal Customers",
                    "Loyal Customers",
                    "Loyal Customers",
                    "Loyal Customers",
                    "Loyal Customers",
                    "Loyal Customers",
                    "Loyal Customers",
                    "Loyal Customers",
                    "Loyal Customers",
                    "Loyal Customers",
                    "Loyal Customers",
                    "Loyal Customers",
                    "Loyal Customers",
                    "Loyal Customers",
                    "Loyal Customers",
                    "Loyal Customers",
                    "Loyal Customers",
                    "Loyal Customers",
                    "Loyal Customers",
                    "Loyal Customers",
                    "Loyal Customers",
                    "Loyal Customers",
                    "Loyal Customers",
                    "Loyal Customers",
                    "Loyal Customers",
                    "Loyal Customers",
                    "Loyal Customers",
                    "Loyal Customers",
                    "Loyal Customers",
                    "Loyal Customers",
                    "Loyal Customers",
                    "Loyal Customers",
                    "Loyal Customers",
                    "Loyal Customers",
                    "Loyal Customers",
                    "Loyal Customers",
                    "Loyal Customers",
                    "Loyal Customers",
                    "Loyal Customers",
                    "Loyal Customers",
                    "Loyal Customers",
                    "Loyal Customers",
                    "Loyal Customers",
                    "Loyal Customers",
                    "Loyal Customers",
                    "Loyal Customers",
                    "Loyal Customers",
                    "Loyal Customers",
                    "Loyal Customers",
                    "Loyal Customers",
                    "Loyal Customers",
                    "Loyal Customers",
                    "Loyal Customers",
                    "Loyal Customers",
                    "Loyal Customers",
                    "Loyal Customers",
                    "Loyal Customers",
                    "Loyal Customers",
                    "Loyal Customers",
                    "Loyal Customers",
                    "Loyal Customers",
                    "Loyal Customers",
                    "Loyal Customers",
                    "Loyal Customers",
                    "Loyal Customers",
                    "Loyal Customers",
                    "Loyal Customers",
                    "Loyal Customers",
                    "Loyal Customers",
                    "Loyal Customers",
                    "Loyal Customers",
                    "Loyal Customers",
                    "Loyal Customers",
                    "Loyal Customers",
                    "Loyal Customers",
                    "Loyal Customers",
                    "Loyal Customers",
                    "Loyal Customers",
                    "Loyal Customers",
                    "Loyal Customers",
                    "Loyal Customers",
                    "Loyal Customers",
                    "Loyal Customers",
                    "Loyal Customers",
                    "Loyal Customers",
                    "Loyal Customers",
                    "Loyal Customers",
                    "Loyal Customers",
                    "Loyal Customers",
                    "Loyal Customers",
                    "Loyal Customers",
                    "Loyal Customers",
                    "Loyal Customers",
                    "Loyal Customers",
                    "Loyal Customers",
                    "Loyal Customers",
                    "Loyal Customers",
                    "Loyal Customers",
                    "Loyal Customers",
                    "Loyal Customers",
                    "Loyal Customers",
                    "Loyal Customers",
                    "Loyal Customers",
                    "Loyal Customers",
                    "Loyal Customers",
                    "Loyal Customers",
                    "Loyal Customers",
                    "Loyal Customers",
                    "Loyal Customers",
                    "Loyal Customers",
                    "Loyal Customers",
                    "Loyal Customers",
                    "Loyal Customers",
                    "Loyal Customers",
                    "Loyal Customers",
                    "Loyal Customers",
                    "Loyal Customers",
                    "Loyal Customers",
                    "Loyal Customers",
                    "Loyal Customers",
                    "Loyal Customers",
                    "Loyal Customers",
                    "Loyal Customers",
                    "Loyal Customers",
                    "Loyal Customers",
                    "Loyal Customers",
                    "Loyal Customers",
                    "Loyal Customers",
                    "Loyal Customers",
                    "Loyal Customers",
                    "Loyal Customers",
                    "Loyal Customers",
                    "Loyal Customers",
                    "Loyal Customers",
                    "Loyal Customers",
                    "Loyal Customers",
                    "Loyal Customers",
                    "Loyal Customers",
                    "Loyal Customers",
                    "Loyal Customers",
                    "Loyal Customers",
                    "Loyal Customers",
                    "Loyal Customers",
                    "Loyal Customers",
                    "Loyal Customers",
                    "Loyal Customers",
                    "Loyal Customers",
                    "Loyal Customers",
                    "Loyal Customers",
                    "Loyal Customers",
                    "Loyal Customers",
                    "Loyal Customers",
                    "Loyal Customers",
                    "Loyal Customers",
                    "Loyal Customers",
                    "Loyal Customers",
                    "Loyal Customers",
                    "Loyal Customers",
                    "Loyal Customers",
                    "Loyal Customers",
                    "Loyal Customers",
                    "Loyal Customers",
                    "Loyal Customers",
                    "Loyal Customers",
                    "Loyal Customers",
                    "Loyal Customers",
                    "Loyal Customers",
                    "Loyal Customers",
                    "Loyal Customers",
                    "Loyal Customers",
                    "Loyal Customers",
                    "Loyal Customers",
                    "Loyal Customers",
                    "Loyal Customers",
                    "Loyal Customers",
                    "Loyal Customers",
                    "Loyal Customers",
                    "Loyal Customers",
                    "Loyal Customers",
                    "Loyal Customers",
                    "Loyal Customers",
                    "Loyal Customers",
                    "Loyal Customers",
                    "Loyal Customers",
                    "Loyal Customers",
                    "Loyal Customers",
                    "Loyal Customers",
                    "Loyal Customers",
                    "Loyal Customers",
                    "Loyal Customers",
                    "Loyal Customers",
                    "Loyal Customers",
                    "Loyal Customers",
                    "Loyal Customers",
                    "Loyal Customers",
                    "Loyal Customers",
                    "Loyal Customers",
                    "Loyal Customers",
                    "Loyal Customers",
                    "Loyal Customers",
                    "Loyal Customers",
                    "Loyal Customers",
                    "Loyal Customers",
                    "Loyal Customers",
                    "Loyal Customers",
                    "Loyal Customers",
                    "Loyal Customers",
                    "Loyal Customers",
                    "Loyal Customers",
                    "Loyal Customers",
                    "Loyal Customers",
                    "Loyal Customers",
                    "Loyal Customers",
                    "Loyal Customers",
                    "Loyal Customers",
                    "Loyal Customers",
                    "Loyal Customers",
                    "Loyal Customers",
                    "Loyal Customers",
                    "Loyal Customers",
                    "Loyal Customers",
                    "Loyal Customers",
                    "Loyal Customers",
                    "Loyal Customers",
                    "Loyal Customers",
                    "Loyal Customers",
                    "Loyal Customers",
                    "Loyal Customers",
                    "Loyal Customers",
                    "Loyal Customers",
                    "Loyal Customers",
                    "Loyal Customers",
                    "Loyal Customers",
                    "Loyal Customers",
                    "Loyal Customers",
                    "Loyal Customers",
                    "Loyal Customers",
                    "Loyal Customers",
                    "Loyal Customers",
                    "Loyal Customers",
                    "Loyal Customers",
                    "Loyal Customers",
                    "Loyal Customers",
                    "Loyal Customers",
                    "Loyal Customers",
                    "Loyal Customers",
                    "Loyal Customers",
                    "Loyal Customers",
                    "Loyal Customers",
                    "Loyal Customers",
                    "Loyal Customers",
                    "Loyal Customers",
                    "Loyal Customers",
                    "Loyal Customers",
                    "Loyal Customers",
                    "Loyal Customers",
                    "Loyal Customers",
                    "Loyal Customers",
                    "Loyal Customers",
                    "Loyal Customers",
                    "Loyal Customers",
                    "Loyal Customers",
                    "Loyal Customers",
                    "Loyal Customers",
                    "Loyal Customers",
                    "Loyal Customers",
                    "Loyal Customers",
                    "Loyal Customers",
                    "Loyal Customers",
                    "Loyal Customers",
                    "Loyal Customers",
                    "Loyal Customers",
                    "Loyal Customers",
                    "Loyal Customers",
                    "Loyal Customers",
                    "Loyal Customers",
                    "Loyal Customers",
                    "Loyal Customers",
                    "Loyal Customers",
                    "Loyal Customers",
                    "Loyal Customers",
                    "Loyal Customers",
                    "Loyal Customers",
                    "Loyal Customers",
                    "Loyal Customers",
                    "Loyal Customers",
                    "Loyal Customers",
                    "Loyal Customers",
                    "Loyal Customers",
                    "Loyal Customers",
                    "Loyal Customers",
                    "Loyal Customers",
                    "Loyal Customers",
                    "Loyal Customers",
                    "Loyal Customers",
                    "Loyal Customers",
                    "Loyal Customers",
                    "Loyal Customers",
                    "Loyal Customers",
                    "Loyal Customers",
                    "Loyal Customers",
                    "Loyal Customers",
                    "Loyal Customers",
                    "Loyal Customers",
                    "Loyal Customers",
                    "Loyal Customers",
                    "Loyal Customers",
                    "Loyal Customers",
                    "Loyal Customers",
                    "Loyal Customers",
                    "Loyal Customers",
                    "Loyal Customers",
                    "Loyal Customers",
                    "Loyal Customers",
                    "Loyal Customers",
                    "Loyal Customers",
                    "Loyal Customers",
                    "Loyal Customers",
                    "Loyal Customers",
                    "Loyal Customers",
                    "Loyal Customers",
                    "Loyal Customers",
                    "Loyal Customers",
                    "Loyal Customers",
                    "Loyal Customers",
                    "Loyal Customers",
                    "Loyal Customers",
                    "Loyal Customers",
                    "Loyal Customers",
                    "Loyal Customers",
                    "Loyal Customers",
                    "Loyal Customers",
                    "Loyal Customers",
                    "Loyal Customers",
                    "Loyal Customers",
                    "Loyal Customers",
                    "Loyal Customers",
                    "Loyal Customers",
                    "Loyal Customers",
                    "Loyal Customers",
                    "Loyal Customers",
                    "Loyal Customers",
                    "Loyal Customers",
                    "Loyal Customers",
                    "Loyal Customers",
                    "Loyal Customers",
                    "Loyal Customers",
                    "Loyal Customers",
                    "Loyal Customers",
                    "Loyal Customers",
                    "Loyal Customers",
                    "Loyal Customers",
                    "Loyal Customers",
                    "Loyal Customers",
                    "Loyal Customers",
                    "Loyal Customers",
                    "Loyal Customers",
                    "Loyal Customers",
                    "Loyal Customers",
                    "Loyal Customers",
                    "Loyal Customers",
                    "Loyal Customers",
                    "Loyal Customers",
                    "Loyal Customers",
                    "Loyal Customers",
                    "Loyal Customers",
                    "Loyal Customers",
                    "Loyal Customers",
                    "Loyal Customers",
                    "Loyal Customers",
                    "Loyal Customers",
                    "Loyal Customers",
                    "Loyal Customers",
                    "Loyal Customers",
                    "Loyal Customers",
                    "Loyal Customers",
                    "Loyal Customers",
                    "Loyal Customers",
                    "Loyal Customers",
                    "Loyal Customers",
                    "Loyal Customers",
                    "Loyal Customers",
                    "Loyal Customers",
                    "Loyal Customers",
                    "Loyal Customers",
                    "Loyal Customers",
                    "Loyal Customers",
                    "Loyal Customers",
                    "Loyal Customers",
                    "Loyal Customers",
                    "Loyal Customers",
                    "Loyal Customers",
                    "Loyal Customers",
                    "Loyal Customers",
                    "Loyal Customers",
                    "Loyal Customers",
                    "Loyal Customers",
                    "Loyal Customers",
                    "Loyal Customers",
                    "Loyal Customers",
                    "Loyal Customers",
                    "Loyal Customers",
                    "Loyal Customers",
                    "Loyal Customers",
                    "Loyal Customers",
                    "Loyal Customers",
                    "Loyal Customers",
                    "Loyal Customers",
                    "Loyal Customers",
                    "Loyal Customers",
                    "Loyal Customers",
                    "Loyal Customers",
                    "Loyal Customers",
                    "Loyal Customers",
                    "Loyal Customers",
                    "Loyal Customers",
                    "Loyal Customers",
                    "Loyal Customers",
                    "Loyal Customers",
                    "Loyal Customers",
                    "Loyal Customers",
                    "Loyal Customers",
                    "Loyal Customers",
                    "Loyal Customers",
                    "Loyal Customers",
                    "Loyal Customers",
                    "Loyal Customers",
                    "Loyal Customers",
                    "Loyal Customers",
                    "Loyal Customers",
                    "Loyal Customers",
                    "Loyal Customers",
                    "Loyal Customers",
                    "Loyal Customers",
                    "Loyal Customers",
                    "Loyal Customers",
                    "Loyal Customers",
                    "Loyal Customers",
                    "Loyal Customers",
                    "Loyal Customers",
                    "Loyal Customers",
                    "Loyal Customers",
                    "Loyal Customers",
                    "Loyal Customers",
                    "Loyal Customers",
                    "Loyal Customers",
                    "Loyal Customers",
                    "Loyal Customers",
                    "Loyal Customers",
                    "Loyal Customers",
                    "Loyal Customers",
                    "Loyal Customers",
                    "Loyal Customers",
                    "Loyal Customers",
                    "Loyal Customers",
                    "Loyal Customers",
                    "Loyal Customers",
                    "Loyal Customers",
                    "Loyal Customers",
                    "Loyal Customers",
                    "Loyal Customers",
                    "Loyal Customers",
                    "Loyal Customers",
                    "Loyal Customers",
                    "Loyal Customers",
                    "Loyal Customers",
                    "Loyal Customers",
                    "Loyal Customers",
                    "Loyal Customers",
                    "Loyal Customers",
                    "Loyal Customers",
                    "Loyal Customers",
                    "Loyal Customers",
                    "Loyal Customers",
                    "Loyal Customers",
                    "Loyal Customers",
                    "Loyal Customers",
                    "Loyal Customers",
                    "Loyal Customers",
                    "Loyal Customers",
                    "Loyal Customers",
                    "Loyal Customers",
                    "Loyal Customers",
                    "Loyal Customers",
                    "Loyal Customers",
                    "Loyal Customers",
                    "Loyal Customers",
                    "Loyal Customers",
                    "Loyal Customers",
                    "Loyal Customers",
                    "Loyal Customers",
                    "Loyal Customers",
                    "Loyal Customers",
                    "Loyal Customers",
                    "Loyal Customers",
                    "Loyal Customers",
                    "Loyal Customers",
                    "Loyal Customers",
                    "Loyal Customers",
                    "Loyal Customers",
                    "Loyal Customers",
                    "Loyal Customers",
                    "Loyal Customers",
                    "Loyal Customers",
                    "Loyal Customers",
                    "Loyal Customers",
                    "Loyal Customers",
                    "Loyal Customers",
                    "Loyal Customers",
                    "Loyal Customers",
                    "Loyal Customers",
                    "Loyal Customers",
                    "Loyal Customers",
                    "Loyal Customers",
                    "Loyal Customers",
                    "Loyal Customers",
                    "Loyal Customers",
                    "Loyal Customers",
                    "Loyal Customers",
                    "Loyal Customers",
                    "Loyal Customers",
                    "Loyal Customers",
                    "Loyal Customers",
                    "Loyal Customers",
                    "Loyal Customers",
                    "Loyal Customers",
                    "Loyal Customers",
                    "Loyal Customers",
                    "Loyal Customers",
                    "Loyal Customers",
                    "Loyal Customers",
                    "Loyal Customers",
                    "Loyal Customers",
                    "Loyal Customers",
                    "Loyal Customers",
                    "Loyal Customers",
                    "Loyal Customers",
                    "Loyal Customers",
                    "Loyal Customers",
                    "Loyal Customers",
                    "Loyal Customers",
                    "Loyal Customers",
                    "Loyal Customers",
                    "Loyal Customers",
                    "Loyal Customers",
                    "Loyal Customers",
                    "Loyal Customers",
                    "Loyal Customers",
                    "Loyal Customers",
                    "Loyal Customers",
                    "Loyal Customers",
                    "Loyal Customers",
                    "Loyal Customers",
                    "Loyal Customers",
                    "Loyal Customers",
                    "Loyal Customers",
                    "Loyal Customers",
                    "Loyal Customers",
                    "Loyal Customers",
                    "Loyal Customers",
                    "Loyal Customers",
                    "Loyal Customers",
                    "Loyal Customers",
                    "Loyal Customers",
                    "Loyal Customers",
                    "Loyal Customers",
                    "Loyal Customers",
                    "Loyal Customers",
                    "Loyal Customers",
                    "Loyal Customers",
                    "Loyal Customers",
                    "Loyal Customers",
                    "Loyal Customers",
                    "Loyal Customers",
                    "Loyal Customers",
                    "Loyal Customers",
                    "Loyal Customers",
                    "Loyal Customers",
                    "Loyal Customers",
                    "Loyal Customers",
                    "Loyal Customers",
                    "Loyal Customers",
                    "Loyal Customers",
                    "Loyal Customers",
                    "Loyal Customers",
                    "Loyal Customers",
                    "Loyal Customers",
                    "Loyal Customers",
                    "Loyal Customers",
                    "Loyal Customers",
                    "Loyal Customers",
                    "Loyal Customers",
                    "Loyal Customers",
                    "Loyal Customers"
                  ],
                  "x0": " ",
                  "xaxis": "x",
                  "y": {
                    "bdata": "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",
                    "dtype": "f8"
                  },
                  "y0": " ",
                  "yaxis": "y"
                },
                {
                  "alignmentgroup": "True",
                  "hovertemplate": "Customer_Segment=%{x}<br>Monetary=%{y}<extra></extra>",
                  "legendgroup": "Need Attention",
                  "marker": {
                    "color": "#781c6d"
                  },
                  "name": "Need Attention",
                  "notched": false,
                  "offsetgroup": "Need Attention",
                  "orientation": "v",
                  "showlegend": true,
                  "type": "box",
                  "x": [
                    "Need Attention",
                    "Need Attention",
                    "Need Attention",
                    "Need Attention",
                    "Need Attention",
                    "Need Attention",
                    "Need Attention",
                    "Need Attention",
                    "Need Attention",
                    "Need Attention",
                    "Need Attention",
                    "Need Attention",
                    "Need Attention",
                    "Need Attention",
                    "Need Attention",
                    "Need Attention",
                    "Need Attention",
                    "Need Attention",
                    "Need Attention",
                    "Need Attention",
                    "Need Attention",
                    "Need Attention",
                    "Need Attention",
                    "Need Attention",
                    "Need Attention",
                    "Need Attention",
                    "Need Attention",
                    "Need Attention",
                    "Need Attention",
                    "Need Attention",
                    "Need Attention",
                    "Need Attention",
                    "Need Attention",
                    "Need Attention",
                    "Need Attention",
                    "Need Attention",
                    "Need Attention",
                    "Need Attention",
                    "Need Attention",
                    "Need Attention",
                    "Need Attention",
                    "Need Attention",
                    "Need Attention",
                    "Need Attention",
                    "Need Attention",
                    "Need Attention",
                    "Need Attention",
                    "Need Attention",
                    "Need Attention",
                    "Need Attention",
                    "Need Attention",
                    "Need Attention",
                    "Need Attention",
                    "Need Attention",
                    "Need Attention",
                    "Need Attention",
                    "Need Attention",
                    "Need Attention",
                    "Need Attention",
                    "Need Attention",
                    "Need Attention",
                    "Need Attention",
                    "Need Attention",
                    "Need Attention",
                    "Need Attention",
                    "Need Attention",
                    "Need Attention",
                    "Need Attention",
                    "Need Attention",
                    "Need Attention",
                    "Need Attention",
                    "Need Attention",
                    "Need Attention",
                    "Need Attention",
                    "Need Attention",
                    "Need Attention",
                    "Need Attention",
                    "Need Attention",
                    "Need Attention",
                    "Need Attention",
                    "Need Attention",
                    "Need Attention",
                    "Need Attention",
                    "Need Attention",
                    "Need Attention",
                    "Need Attention",
                    "Need Attention",
                    "Need Attention",
                    "Need Attention",
                    "Need Attention",
                    "Need Attention",
                    "Need Attention",
                    "Need Attention",
                    "Need Attention",
                    "Need Attention",
                    "Need Attention",
                    "Need Attention",
                    "Need Attention",
                    "Need Attention",
                    "Need Attention",
                    "Need Attention",
                    "Need Attention",
                    "Need Attention",
                    "Need Attention",
                    "Need Attention",
                    "Need Attention",
                    "Need Attention",
                    "Need Attention",
                    "Need Attention",
                    "Need Attention",
                    "Need Attention",
                    "Need Attention",
                    "Need Attention",
                    "Need Attention",
                    "Need Attention",
                    "Need Attention",
                    "Need Attention",
                    "Need Attention",
                    "Need Attention",
                    "Need Attention",
                    "Need Attention",
                    "Need Attention",
                    "Need Attention",
                    "Need Attention",
                    "Need Attention",
                    "Need Attention",
                    "Need Attention",
                    "Need Attention",
                    "Need Attention",
                    "Need Attention",
                    "Need Attention",
                    "Need Attention",
                    "Need Attention",
                    "Need Attention",
                    "Need Attention",
                    "Need Attention",
                    "Need Attention",
                    "Need Attention",
                    "Need Attention",
                    "Need Attention",
                    "Need Attention",
                    "Need Attention",
                    "Need Attention",
                    "Need Attention",
                    "Need Attention",
                    "Need Attention",
                    "Need Attention",
                    "Need Attention",
                    "Need Attention",
                    "Need Attention",
                    "Need Attention",
                    "Need Attention",
                    "Need Attention",
                    "Need Attention",
                    "Need Attention",
                    "Need Attention",
                    "Need Attention",
                    "Need Attention",
                    "Need Attention",
                    "Need Attention",
                    "Need Attention",
                    "Need Attention",
                    "Need Attention",
                    "Need Attention",
                    "Need Attention",
                    "Need Attention",
                    "Need Attention",
                    "Need Attention",
                    "Need Attention",
                    "Need Attention",
                    "Need Attention",
                    "Need Attention",
                    "Need Attention",
                    "Need Attention",
                    "Need Attention",
                    "Need Attention",
                    "Need Attention",
                    "Need Attention",
                    "Need Attention",
                    "Need Attention",
                    "Need Attention",
                    "Need Attention",
                    "Need Attention",
                    "Need Attention",
                    "Need Attention",
                    "Need Attention",
                    "Need Attention",
                    "Need Attention",
                    "Need Attention",
                    "Need Attention",
                    "Need Attention",
                    "Need Attention",
                    "Need Attention",
                    "Need Attention",
                    "Need Attention",
                    "Need Attention",
                    "Need Attention",
                    "Need Attention",
                    "Need Attention",
                    "Need Attention",
                    "Need Attention",
                    "Need Attention",
                    "Need Attention",
                    "Need Attention",
                    "Need Attention",
                    "Need Attention",
                    "Need Attention",
                    "Need Attention",
                    "Need Attention",
                    "Need Attention",
                    "Need Attention",
                    "Need Attention",
                    "Need Attention",
                    "Need Attention",
                    "Need Attention",
                    "Need Attention",
                    "Need Attention",
                    "Need Attention",
                    "Need Attention",
                    "Need Attention",
                    "Need Attention",
                    "Need Attention",
                    "Need Attention",
                    "Need Attention",
                    "Need Attention",
                    "Need Attention",
                    "Need Attention",
                    "Need Attention",
                    "Need Attention",
                    "Need Attention",
                    "Need Attention",
                    "Need Attention",
                    "Need Attention",
                    "Need Attention",
                    "Need Attention",
                    "Need Attention",
                    "Need Attention",
                    "Need Attention",
                    "Need Attention",
                    "Need Attention",
                    "Need Attention",
                    "Need Attention",
                    "Need Attention",
                    "Need Attention",
                    "Need Attention",
                    "Need Attention",
                    "Need Attention",
                    "Need Attention",
                    "Need Attention",
                    "Need Attention",
                    "Need Attention",
                    "Need Attention",
                    "Need Attention",
                    "Need Attention",
                    "Need Attention",
                    "Need Attention",
                    "Need Attention",
                    "Need Attention",
                    "Need Attention",
                    "Need Attention",
                    "Need Attention",
                    "Need Attention",
                    "Need Attention",
                    "Need Attention",
                    "Need Attention",
                    "Need Attention",
                    "Need Attention",
                    "Need Attention",
                    "Need Attention",
                    "Need Attention",
                    "Need Attention",
                    "Need Attention",
                    "Need Attention",
                    "Need Attention",
                    "Need Attention",
                    "Need Attention",
                    "Need Attention",
                    "Need Attention",
                    "Need Attention",
                    "Need Attention",
                    "Need Attention",
                    "Need Attention",
                    "Need Attention",
                    "Need Attention",
                    "Need Attention",
                    "Need Attention",
                    "Need Attention",
                    "Need Attention",
                    "Need Attention",
                    "Need Attention",
                    "Need Attention",
                    "Need Attention",
                    "Need Attention",
                    "Need Attention",
                    "Need Attention",
                    "Need Attention",
                    "Need Attention",
                    "Need Attention",
                    "Need Attention",
                    "Need Attention",
                    "Need Attention",
                    "Need Attention",
                    "Need Attention",
                    "Need Attention",
                    "Need Attention",
                    "Need Attention",
                    "Need Attention",
                    "Need Attention",
                    "Need Attention",
                    "Need Attention",
                    "Need Attention",
                    "Need Attention",
                    "Need Attention",
                    "Need Attention",
                    "Need Attention",
                    "Need Attention",
                    "Need Attention",
                    "Need Attention",
                    "Need Attention",
                    "Need Attention",
                    "Need Attention",
                    "Need Attention",
                    "Need Attention",
                    "Need Attention",
                    "Need Attention",
                    "Need Attention",
                    "Need Attention",
                    "Need Attention",
                    "Need Attention",
                    "Need Attention",
                    "Need Attention",
                    "Need Attention",
                    "Need Attention",
                    "Need Attention",
                    "Need Attention",
                    "Need Attention",
                    "Need Attention",
                    "Need Attention",
                    "Need Attention",
                    "Need Attention",
                    "Need Attention",
                    "Need Attention",
                    "Need Attention",
                    "Need Attention",
                    "Need Attention",
                    "Need Attention",
                    "Need Attention",
                    "Need Attention",
                    "Need Attention",
                    "Need Attention",
                    "Need Attention",
                    "Need Attention",
                    "Need Attention",
                    "Need Attention",
                    "Need Attention",
                    "Need Attention",
                    "Need Attention",
                    "Need Attention",
                    "Need Attention",
                    "Need Attention",
                    "Need Attention",
                    "Need Attention",
                    "Need Attention",
                    "Need Attention",
                    "Need Attention",
                    "Need Attention",
                    "Need Attention",
                    "Need Attention",
                    "Need Attention",
                    "Need Attention",
                    "Need Attention",
                    "Need Attention",
                    "Need Attention",
                    "Need Attention",
                    "Need Attention",
                    "Need Attention",
                    "Need Attention",
                    "Need Attention",
                    "Need Attention",
                    "Need Attention",
                    "Need Attention",
                    "Need Attention",
                    "Need Attention",
                    "Need Attention",
                    "Need Attention",
                    "Need Attention",
                    "Need Attention",
                    "Need Attention",
                    "Need Attention",
                    "Need Attention",
                    "Need Attention",
                    "Need Attention",
                    "Need Attention",
                    "Need Attention",
                    "Need Attention",
                    "Need Attention",
                    "Need Attention",
                    "Need Attention",
                    "Need Attention",
                    "Need Attention",
                    "Need Attention",
                    "Need Attention",
                    "Need Attention",
                    "Need Attention",
                    "Need Attention",
                    "Need Attention",
                    "Need Attention",
                    "Need Attention",
                    "Need Attention",
                    "Need Attention",
                    "Need Attention",
                    "Need Attention",
                    "Need Attention",
                    "Need Attention",
                    "Need Attention",
                    "Need Attention",
                    "Need Attention",
                    "Need Attention",
                    "Need Attention",
                    "Need Attention",
                    "Need Attention",
                    "Need Attention",
                    "Need Attention",
                    "Need Attention",
                    "Need Attention",
                    "Need Attention",
                    "Need Attention",
                    "Need Attention",
                    "Need Attention",
                    "Need Attention",
                    "Need Attention",
                    "Need Attention",
                    "Need Attention",
                    "Need Attention",
                    "Need Attention",
                    "Need Attention",
                    "Need Attention",
                    "Need Attention",
                    "Need Attention",
                    "Need Attention",
                    "Need Attention",
                    "Need Attention",
                    "Need Attention",
                    "Need Attention",
                    "Need Attention",
                    "Need Attention",
                    "Need Attention",
                    "Need Attention",
                    "Need Attention",
                    "Need Attention",
                    "Need Attention",
                    "Need Attention",
                    "Need Attention",
                    "Need Attention",
                    "Need Attention",
                    "Need Attention",
                    "Need Attention",
                    "Need Attention",
                    "Need Attention",
                    "Need Attention",
                    "Need Attention",
                    "Need Attention",
                    "Need Attention",
                    "Need Attention",
                    "Need Attention",
                    "Need Attention",
                    "Need Attention",
                    "Need Attention",
                    "Need Attention",
                    "Need Attention",
                    "Need Attention",
                    "Need Attention",
                    "Need Attention",
                    "Need Attention",
                    "Need Attention",
                    "Need Attention",
                    "Need Attention",
                    "Need Attention",
                    "Need Attention",
                    "Need Attention",
                    "Need Attention",
                    "Need Attention",
                    "Need Attention",
                    "Need Attention",
                    "Need Attention",
                    "Need Attention",
                    "Need Attention",
                    "Need Attention",
                    "Need Attention",
                    "Need Attention",
                    "Need Attention",
                    "Need Attention",
                    "Need Attention",
                    "Need Attention",
                    "Need Attention",
                    "Need Attention",
                    "Need Attention",
                    "Need Attention",
                    "Need Attention",
                    "Need Attention",
                    "Need Attention",
                    "Need Attention",
                    "Need Attention",
                    "Need Attention",
                    "Need Attention",
                    "Need Attention",
                    "Need Attention",
                    "Need Attention",
                    "Need Attention",
                    "Need Attention",
                    "Need Attention",
                    "Need Attention",
                    "Need Attention",
                    "Need Attention",
                    "Need Attention",
                    "Need Attention",
                    "Need Attention",
                    "Need Attention",
                    "Need Attention",
                    "Need Attention",
                    "Need Attention",
                    "Need Attention",
                    "Need Attention",
                    "Need Attention",
                    "Need Attention",
                    "Need Attention",
                    "Need Attention",
                    "Need Attention",
                    "Need Attention",
                    "Need Attention",
                    "Need Attention",
                    "Need Attention",
                    "Need Attention",
                    "Need Attention",
                    "Need Attention",
                    "Need Attention",
                    "Need Attention",
                    "Need Attention",
                    "Need Attention",
                    "Need Attention",
                    "Need Attention",
                    "Need Attention",
                    "Need Attention",
                    "Need Attention",
                    "Need Attention",
                    "Need Attention",
                    "Need Attention",
                    "Need Attention",
                    "Need Attention",
                    "Need Attention",
                    "Need Attention",
                    "Need Attention",
                    "Need Attention",
                    "Need Attention",
                    "Need Attention",
                    "Need Attention",
                    "Need Attention",
                    "Need Attention",
                    "Need Attention",
                    "Need Attention",
                    "Need Attention",
                    "Need Attention",
                    "Need Attention",
                    "Need Attention",
                    "Need Attention",
                    "Need Attention",
                    "Need Attention",
                    "Need Attention",
                    "Need Attention",
                    "Need Attention",
                    "Need Attention",
                    "Need Attention",
                    "Need Attention",
                    "Need Attention",
                    "Need Attention",
                    "Need Attention",
                    "Need Attention",
                    "Need Attention",
                    "Need Attention",
                    "Need Attention",
                    "Need Attention",
                    "Need Attention",
                    "Need Attention",
                    "Need Attention",
                    "Need Attention",
                    "Need Attention",
                    "Need Attention",
                    "Need Attention",
                    "Need Attention",
                    "Need Attention",
                    "Need Attention",
                    "Need Attention",
                    "Need Attention",
                    "Need Attention",
                    "Need Attention",
                    "Need Attention",
                    "Need Attention",
                    "Need Attention",
                    "Need Attention",
                    "Need Attention",
                    "Need Attention",
                    "Need Attention",
                    "Need Attention",
                    "Need Attention",
                    "Need Attention",
                    "Need Attention",
                    "Need Attention",
                    "Need Attention",
                    "Need Attention",
                    "Need Attention",
                    "Need Attention",
                    "Need Attention",
                    "Need Attention",
                    "Need Attention",
                    "Need Attention",
                    "Need Attention",
                    "Need Attention",
                    "Need Attention",
                    "Need Attention",
                    "Need Attention",
                    "Need Attention",
                    "Need Attention",
                    "Need Attention",
                    "Need Attention",
                    "Need Attention",
                    "Need Attention",
                    "Need Attention",
                    "Need Attention",
                    "Need Attention",
                    "Need Attention",
                    "Need Attention",
                    "Need Attention",
                    "Need Attention",
                    "Need Attention",
                    "Need Attention",
                    "Need Attention",
                    "Need Attention",
                    "Need Attention",
                    "Need Attention",
                    "Need Attention",
                    "Need Attention",
                    "Need Attention",
                    "Need Attention",
                    "Need Attention",
                    "Need Attention",
                    "Need Attention",
                    "Need Attention",
                    "Need Attention",
                    "Need Attention",
                    "Need Attention",
                    "Need Attention",
                    "Need Attention",
                    "Need Attention",
                    "Need Attention",
                    "Need Attention",
                    "Need Attention",
                    "Need Attention",
                    "Need Attention",
                    "Need Attention",
                    "Need Attention",
                    "Need Attention",
                    "Need Attention",
                    "Need Attention",
                    "Need Attention",
                    "Need Attention",
                    "Need Attention",
                    "Need Attention",
                    "Need Attention",
                    "Need Attention",
                    "Need Attention",
                    "Need Attention",
                    "Need Attention",
                    "Need Attention",
                    "Need Attention",
                    "Need Attention",
                    "Need Attention",
                    "Need Attention",
                    "Need Attention",
                    "Need Attention",
                    "Need Attention",
                    "Need Attention",
                    "Need Attention",
                    "Need Attention",
                    "Need Attention",
                    "Need Attention",
                    "Need Attention",
                    "Need Attention",
                    "Need Attention",
                    "Need Attention",
                    "Need Attention",
                    "Need Attention",
                    "Need Attention",
                    "Need Attention",
                    "Need Attention",
                    "Need Attention",
                    "Need Attention",
                    "Need Attention",
                    "Need Attention",
                    "Need Attention",
                    "Need Attention",
                    "Need Attention",
                    "Need Attention",
                    "Need Attention",
                    "Need Attention",
                    "Need Attention",
                    "Need Attention",
                    "Need Attention",
                    "Need Attention",
                    "Need Attention",
                    "Need Attention",
                    "Need Attention",
                    "Need Attention",
                    "Need Attention",
                    "Need Attention",
                    "Need Attention",
                    "Need Attention",
                    "Need Attention",
                    "Need Attention",
                    "Need Attention",
                    "Need Attention",
                    "Need Attention",
                    "Need Attention",
                    "Need Attention",
                    "Need Attention",
                    "Need Attention",
                    "Need Attention",
                    "Need Attention",
                    "Need Attention",
                    "Need Attention",
                    "Need Attention",
                    "Need Attention",
                    "Need Attention",
                    "Need Attention",
                    "Need Attention",
                    "Need Attention",
                    "Need Attention",
                    "Need Attention",
                    "Need Attention",
                    "Need Attention",
                    "Need Attention",
                    "Need Attention",
                    "Need Attention",
                    "Need Attention",
                    "Need Attention",
                    "Need Attention",
                    "Need Attention",
                    "Need Attention",
                    "Need Attention",
                    "Need Attention",
                    "Need Attention",
                    "Need Attention",
                    "Need Attention",
                    "Need Attention",
                    "Need Attention",
                    "Need Attention",
                    "Need Attention",
                    "Need Attention",
                    "Need Attention",
                    "Need Attention",
                    "Need Attention",
                    "Need Attention",
                    "Need Attention",
                    "Need Attention",
                    "Need Attention",
                    "Need Attention",
                    "Need Attention",
                    "Need Attention",
                    "Need Attention",
                    "Need Attention",
                    "Need Attention",
                    "Need Attention",
                    "Need Attention",
                    "Need Attention",
                    "Need Attention",
                    "Need Attention",
                    "Need Attention",
                    "Need Attention",
                    "Need Attention",
                    "Need Attention",
                    "Need Attention",
                    "Need Attention",
                    "Need Attention",
                    "Need Attention",
                    "Need Attention",
                    "Need Attention",
                    "Need Attention",
                    "Need Attention",
                    "Need Attention",
                    "Need Attention",
                    "Need Attention",
                    "Need Attention",
                    "Need Attention",
                    "Need Attention",
                    "Need Attention",
                    "Need Attention",
                    "Need Attention",
                    "Need Attention",
                    "Need Attention",
                    "Need Attention",
                    "Need Attention",
                    "Need Attention",
                    "Need Attention",
                    "Need Attention",
                    "Need Attention",
                    "Need Attention",
                    "Need Attention",
                    "Need Attention",
                    "Need Attention",
                    "Need Attention",
                    "Need Attention",
                    "Need Attention",
                    "Need Attention",
                    "Need Attention",
                    "Need Attention",
                    "Need Attention",
                    "Need Attention",
                    "Need Attention",
                    "Need Attention",
                    "Need Attention",
                    "Need Attention",
                    "Need Attention",
                    "Need Attention",
                    "Need Attention",
                    "Need Attention",
                    "Need Attention",
                    "Need Attention",
                    "Need Attention",
                    "Need Attention",
                    "Need Attention",
                    "Need Attention",
                    "Need Attention",
                    "Need Attention",
                    "Need Attention",
                    "Need Attention",
                    "Need Attention",
                    "Need Attention",
                    "Need Attention",
                    "Need Attention",
                    "Need Attention",
                    "Need Attention",
                    "Need Attention",
                    "Need Attention",
                    "Need Attention",
                    "Need Attention",
                    "Need Attention",
                    "Need Attention",
                    "Need Attention",
                    "Need Attention",
                    "Need Attention",
                    "Need Attention",
                    "Need Attention",
                    "Need Attention",
                    "Need Attention",
                    "Need Attention",
                    "Need Attention",
                    "Need Attention",
                    "Need Attention",
                    "Need Attention",
                    "Need Attention",
                    "Need Attention",
                    "Need Attention",
                    "Need Attention",
                    "Need Attention",
                    "Need Attention",
                    "Need Attention",
                    "Need Attention",
                    "Need Attention",
                    "Need Attention",
                    "Need Attention",
                    "Need Attention",
                    "Need Attention",
                    "Need Attention",
                    "Need Attention",
                    "Need Attention",
                    "Need Attention",
                    "Need Attention",
                    "Need Attention",
                    "Need Attention",
                    "Need Attention",
                    "Need Attention",
                    "Need Attention",
                    "Need Attention",
                    "Need Attention",
                    "Need Attention",
                    "Need Attention",
                    "Need Attention",
                    "Need Attention",
                    "Need Attention",
                    "Need Attention",
                    "Need Attention",
                    "Need Attention",
                    "Need Attention",
                    "Need Attention",
                    "Need Attention",
                    "Need Attention",
                    "Need Attention",
                    "Need Attention",
                    "Need Attention",
                    "Need Attention",
                    "Need Attention",
                    "Need Attention",
                    "Need Attention",
                    "Need Attention",
                    "Need Attention",
                    "Need Attention",
                    "Need Attention",
                    "Need Attention",
                    "Need Attention",
                    "Need Attention",
                    "Need Attention",
                    "Need Attention",
                    "Need Attention",
                    "Need Attention",
                    "Need Attention",
                    "Need Attention",
                    "Need Attention",
                    "Need Attention",
                    "Need Attention",
                    "Need Attention",
                    "Need Attention",
                    "Need Attention",
                    "Need Attention",
                    "Need Attention",
                    "Need Attention",
                    "Need Attention",
                    "Need Attention",
                    "Need Attention",
                    "Need Attention",
                    "Need Attention",
                    "Need Attention",
                    "Need Attention",
                    "Need Attention",
                    "Need Attention",
                    "Need Attention",
                    "Need Attention",
                    "Need Attention",
                    "Need Attention",
                    "Need Attention",
                    "Need Attention",
                    "Need Attention",
                    "Need Attention",
                    "Need Attention",
                    "Need Attention",
                    "Need Attention",
                    "Need Attention",
                    "Need Attention",
                    "Need Attention",
                    "Need Attention",
                    "Need Attention",
                    "Need Attention",
                    "Need Attention",
                    "Need Attention",
                    "Need Attention",
                    "Need Attention",
                    "Need Attention",
                    "Need Attention",
                    "Need Attention",
                    "Need Attention",
                    "Need Attention",
                    "Need Attention",
                    "Need Attention",
                    "Need Attention",
                    "Need Attention",
                    "Need Attention",
                    "Need Attention",
                    "Need Attention",
                    "Need Attention",
                    "Need Attention",
                    "Need Attention",
                    "Need Attention",
                    "Need Attention",
                    "Need Attention",
                    "Need Attention",
                    "Need Attention",
                    "Need Attention",
                    "Need Attention",
                    "Need Attention",
                    "Need Attention",
                    "Need Attention",
                    "Need Attention",
                    "Need Attention",
                    "Need Attention",
                    "Need Attention",
                    "Need Attention",
                    "Need Attention",
                    "Need Attention",
                    "Need Attention",
                    "Need Attention"
                  ],
                  "x0": " ",
                  "xaxis": "x",
                  "y": {
                    "bdata": "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",
                    "dtype": "f8"
                  },
                  "y0": " ",
                  "yaxis": "y"
                },
                {
                  "alignmentgroup": "True",
                  "hovertemplate": "Customer_Segment=%{x}<br>Monetary=%{y}<extra></extra>",
                  "legendgroup": "At Risk",
                  "marker": {
                    "color": "#a52c60"
                  },
                  "name": "At Risk",
                  "notched": false,
                  "offsetgroup": "At Risk",
                  "orientation": "v",
                  "showlegend": true,
                  "type": "box",
                  "x": [
                    "At Risk",
                    "At Risk",
                    "At Risk",
                    "At Risk",
                    "At Risk",
                    "At Risk",
                    "At Risk",
                    "At Risk",
                    "At Risk",
                    "At Risk",
                    "At Risk",
                    "At Risk",
                    "At Risk",
                    "At Risk",
                    "At Risk",
                    "At Risk",
                    "At Risk",
                    "At Risk",
                    "At Risk",
                    "At Risk",
                    "At Risk",
                    "At Risk",
                    "At Risk",
                    "At Risk",
                    "At Risk",
                    "At Risk",
                    "At Risk",
                    "At Risk",
                    "At Risk",
                    "At Risk",
                    "At Risk",
                    "At Risk",
                    "At Risk",
                    "At Risk",
                    "At Risk",
                    "At Risk",
                    "At Risk",
                    "At Risk",
                    "At Risk",
                    "At Risk",
                    "At Risk",
                    "At Risk",
                    "At Risk",
                    "At Risk",
                    "At Risk",
                    "At Risk",
                    "At Risk",
                    "At Risk",
                    "At Risk",
                    "At Risk",
                    "At Risk",
                    "At Risk",
                    "At Risk",
                    "At Risk",
                    "At Risk",
                    "At Risk",
                    "At Risk",
                    "At Risk",
                    "At Risk",
                    "At Risk",
                    "At Risk",
                    "At Risk",
                    "At Risk",
                    "At Risk",
                    "At Risk",
                    "At Risk",
                    "At Risk",
                    "At Risk",
                    "At Risk",
                    "At Risk",
                    "At Risk",
                    "At Risk",
                    "At Risk",
                    "At Risk",
                    "At Risk",
                    "At Risk",
                    "At Risk",
                    "At Risk",
                    "At Risk",
                    "At Risk",
                    "At Risk",
                    "At Risk",
                    "At Risk",
                    "At Risk",
                    "At Risk",
                    "At Risk",
                    "At Risk",
                    "At Risk",
                    "At Risk",
                    "At Risk",
                    "At Risk",
                    "At Risk",
                    "At Risk",
                    "At Risk",
                    "At Risk",
                    "At Risk",
                    "At Risk",
                    "At Risk",
                    "At Risk",
                    "At Risk",
                    "At Risk",
                    "At Risk",
                    "At Risk",
                    "At Risk",
                    "At Risk",
                    "At Risk",
                    "At Risk",
                    "At Risk",
                    "At Risk",
                    "At Risk",
                    "At Risk",
                    "At Risk",
                    "At Risk",
                    "At Risk",
                    "At Risk",
                    "At Risk",
                    "At Risk",
                    "At Risk",
                    "At Risk",
                    "At Risk",
                    "At Risk",
                    "At Risk",
                    "At Risk",
                    "At Risk",
                    "At Risk",
                    "At Risk",
                    "At Risk",
                    "At Risk",
                    "At Risk",
                    "At Risk",
                    "At Risk",
                    "At Risk",
                    "At Risk",
                    "At Risk",
                    "At Risk",
                    "At Risk",
                    "At Risk",
                    "At Risk",
                    "At Risk",
                    "At Risk",
                    "At Risk",
                    "At Risk",
                    "At Risk",
                    "At Risk",
                    "At Risk",
                    "At Risk",
                    "At Risk",
                    "At Risk",
                    "At Risk",
                    "At Risk",
                    "At Risk",
                    "At Risk",
                    "At Risk",
                    "At Risk",
                    "At Risk",
                    "At Risk",
                    "At Risk",
                    "At Risk",
                    "At Risk",
                    "At Risk",
                    "At Risk",
                    "At Risk",
                    "At Risk",
                    "At Risk",
                    "At Risk",
                    "At Risk",
                    "At Risk",
                    "At Risk",
                    "At Risk",
                    "At Risk",
                    "At Risk",
                    "At Risk",
                    "At Risk",
                    "At Risk",
                    "At Risk",
                    "At Risk",
                    "At Risk",
                    "At Risk",
                    "At Risk",
                    "At Risk",
                    "At Risk",
                    "At Risk",
                    "At Risk",
                    "At Risk",
                    "At Risk",
                    "At Risk",
                    "At Risk",
                    "At Risk",
                    "At Risk",
                    "At Risk",
                    "At Risk",
                    "At Risk",
                    "At Risk",
                    "At Risk",
                    "At Risk",
                    "At Risk",
                    "At Risk",
                    "At Risk",
                    "At Risk",
                    "At Risk",
                    "At Risk",
                    "At Risk",
                    "At Risk",
                    "At Risk",
                    "At Risk",
                    "At Risk",
                    "At Risk",
                    "At Risk",
                    "At Risk",
                    "At Risk",
                    "At Risk",
                    "At Risk",
                    "At Risk",
                    "At Risk",
                    "At Risk",
                    "At Risk",
                    "At Risk",
                    "At Risk",
                    "At Risk",
                    "At Risk",
                    "At Risk",
                    "At Risk",
                    "At Risk",
                    "At Risk",
                    "At Risk",
                    "At Risk",
                    "At Risk",
                    "At Risk",
                    "At Risk",
                    "At Risk",
                    "At Risk",
                    "At Risk",
                    "At Risk",
                    "At Risk",
                    "At Risk",
                    "At Risk",
                    "At Risk",
                    "At Risk",
                    "At Risk",
                    "At Risk",
                    "At Risk",
                    "At Risk",
                    "At Risk",
                    "At Risk",
                    "At Risk",
                    "At Risk",
                    "At Risk",
                    "At Risk",
                    "At Risk",
                    "At Risk",
                    "At Risk",
                    "At Risk",
                    "At Risk",
                    "At Risk",
                    "At Risk",
                    "At Risk",
                    "At Risk",
                    "At Risk",
                    "At Risk",
                    "At Risk",
                    "At Risk",
                    "At Risk",
                    "At Risk",
                    "At Risk",
                    "At Risk",
                    "At Risk",
                    "At Risk",
                    "At Risk",
                    "At Risk",
                    "At Risk",
                    "At Risk",
                    "At Risk",
                    "At Risk",
                    "At Risk",
                    "At Risk",
                    "At Risk",
                    "At Risk",
                    "At Risk",
                    "At Risk",
                    "At Risk",
                    "At Risk",
                    "At Risk",
                    "At Risk",
                    "At Risk",
                    "At Risk",
                    "At Risk",
                    "At Risk",
                    "At Risk",
                    "At Risk",
                    "At Risk",
                    "At Risk",
                    "At Risk",
                    "At Risk",
                    "At Risk",
                    "At Risk",
                    "At Risk",
                    "At Risk",
                    "At Risk",
                    "At Risk",
                    "At Risk",
                    "At Risk",
                    "At Risk",
                    "At Risk"
                  ],
                  "x0": " ",
                  "xaxis": "x",
                  "y": {
                    "bdata": "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",
                    "dtype": "f8"
                  },
                  "y0": " ",
                  "yaxis": "y"
                }
              ],
              "layout": {
                "boxmode": "overlay",
                "font": {
                  "color": "white"
                },
                "legend": {
                  "title": {
                    "text": "Customer_Segment"
                  },
                  "tracegroupgap": 0
                },
                "paper_bgcolor": "black",
                "plot_bgcolor": "black",
                "template": {
                  "data": {
                    "bar": [
                      {
                        "error_x": {
                          "color": "#2a3f5f"
                        },
                        "error_y": {
                          "color": "#2a3f5f"
                        },
                        "marker": {
                          "line": {
                            "color": "#E5ECF6",
                            "width": 0.5
                          },
                          "pattern": {
                            "fillmode": "overlay",
                            "size": 10,
                            "solidity": 0.2
                          }
                        },
                        "type": "bar"
                      }
                    ],
                    "barpolar": [
                      {
                        "marker": {
                          "line": {
                            "color": "#E5ECF6",
                            "width": 0.5
                          },
                          "pattern": {
                            "fillmode": "overlay",
                            "size": 10,
                            "solidity": 0.2
                          }
                        },
                        "type": "barpolar"
                      }
                    ],
                    "carpet": [
                      {
                        "aaxis": {
                          "endlinecolor": "#2a3f5f",
                          "gridcolor": "white",
                          "linecolor": "white",
                          "minorgridcolor": "white",
                          "startlinecolor": "#2a3f5f"
                        },
                        "baxis": {
                          "endlinecolor": "#2a3f5f",
                          "gridcolor": "white",
                          "linecolor": "white",
                          "minorgridcolor": "white",
                          "startlinecolor": "#2a3f5f"
                        },
                        "type": "carpet"
                      }
                    ],
                    "choropleth": [
                      {
                        "colorbar": {
                          "outlinewidth": 0,
                          "ticks": ""
                        },
                        "type": "choropleth"
                      }
                    ],
                    "contour": [
                      {
                        "colorbar": {
                          "outlinewidth": 0,
                          "ticks": ""
                        },
                        "colorscale": [
                          [
                            0,
                            "#0d0887"
                          ],
                          [
                            0.1111111111111111,
                            "#46039f"
                          ],
                          [
                            0.2222222222222222,
                            "#7201a8"
                          ],
                          [
                            0.3333333333333333,
                            "#9c179e"
                          ],
                          [
                            0.4444444444444444,
                            "#bd3786"
                          ],
                          [
                            0.5555555555555556,
                            "#d8576b"
                          ],
                          [
                            0.6666666666666666,
                            "#ed7953"
                          ],
                          [
                            0.7777777777777778,
                            "#fb9f3a"
                          ],
                          [
                            0.8888888888888888,
                            "#fdca26"
                          ],
                          [
                            1,
                            "#f0f921"
                          ]
                        ],
                        "type": "contour"
                      }
                    ],
                    "contourcarpet": [
                      {
                        "colorbar": {
                          "outlinewidth": 0,
                          "ticks": ""
                        },
                        "type": "contourcarpet"
                      }
                    ],
                    "heatmap": [
                      {
                        "colorbar": {
                          "outlinewidth": 0,
                          "ticks": ""
                        },
                        "colorscale": [
                          [
                            0,
                            "#0d0887"
                          ],
                          [
                            0.1111111111111111,
                            "#46039f"
                          ],
                          [
                            0.2222222222222222,
                            "#7201a8"
                          ],
                          [
                            0.3333333333333333,
                            "#9c179e"
                          ],
                          [
                            0.4444444444444444,
                            "#bd3786"
                          ],
                          [
                            0.5555555555555556,
                            "#d8576b"
                          ],
                          [
                            0.6666666666666666,
                            "#ed7953"
                          ],
                          [
                            0.7777777777777778,
                            "#fb9f3a"
                          ],
                          [
                            0.8888888888888888,
                            "#fdca26"
                          ],
                          [
                            1,
                            "#f0f921"
                          ]
                        ],
                        "type": "heatmap"
                      }
                    ],
                    "histogram": [
                      {
                        "marker": {
                          "pattern": {
                            "fillmode": "overlay",
                            "size": 10,
                            "solidity": 0.2
                          }
                        },
                        "type": "histogram"
                      }
                    ],
                    "histogram2d": [
                      {
                        "colorbar": {
                          "outlinewidth": 0,
                          "ticks": ""
                        },
                        "colorscale": [
                          [
                            0,
                            "#0d0887"
                          ],
                          [
                            0.1111111111111111,
                            "#46039f"
                          ],
                          [
                            0.2222222222222222,
                            "#7201a8"
                          ],
                          [
                            0.3333333333333333,
                            "#9c179e"
                          ],
                          [
                            0.4444444444444444,
                            "#bd3786"
                          ],
                          [
                            0.5555555555555556,
                            "#d8576b"
                          ],
                          [
                            0.6666666666666666,
                            "#ed7953"
                          ],
                          [
                            0.7777777777777778,
                            "#fb9f3a"
                          ],
                          [
                            0.8888888888888888,
                            "#fdca26"
                          ],
                          [
                            1,
                            "#f0f921"
                          ]
                        ],
                        "type": "histogram2d"
                      }
                    ],
                    "histogram2dcontour": [
                      {
                        "colorbar": {
                          "outlinewidth": 0,
                          "ticks": ""
                        },
                        "colorscale": [
                          [
                            0,
                            "#0d0887"
                          ],
                          [
                            0.1111111111111111,
                            "#46039f"
                          ],
                          [
                            0.2222222222222222,
                            "#7201a8"
                          ],
                          [
                            0.3333333333333333,
                            "#9c179e"
                          ],
                          [
                            0.4444444444444444,
                            "#bd3786"
                          ],
                          [
                            0.5555555555555556,
                            "#d8576b"
                          ],
                          [
                            0.6666666666666666,
                            "#ed7953"
                          ],
                          [
                            0.7777777777777778,
                            "#fb9f3a"
                          ],
                          [
                            0.8888888888888888,
                            "#fdca26"
                          ],
                          [
                            1,
                            "#f0f921"
                          ]
                        ],
                        "type": "histogram2dcontour"
                      }
                    ],
                    "mesh3d": [
                      {
                        "colorbar": {
                          "outlinewidth": 0,
                          "ticks": ""
                        },
                        "type": "mesh3d"
                      }
                    ],
                    "parcoords": [
                      {
                        "line": {
                          "colorbar": {
                            "outlinewidth": 0,
                            "ticks": ""
                          }
                        },
                        "type": "parcoords"
                      }
                    ],
                    "pie": [
                      {
                        "automargin": true,
                        "type": "pie"
                      }
                    ],
                    "scatter": [
                      {
                        "fillpattern": {
                          "fillmode": "overlay",
                          "size": 10,
                          "solidity": 0.2
                        },
                        "type": "scatter"
                      }
                    ],
                    "scatter3d": [
                      {
                        "line": {
                          "colorbar": {
                            "outlinewidth": 0,
                            "ticks": ""
                          }
                        },
                        "marker": {
                          "colorbar": {
                            "outlinewidth": 0,
                            "ticks": ""
                          }
                        },
                        "type": "scatter3d"
                      }
                    ],
                    "scattercarpet": [
                      {
                        "marker": {
                          "colorbar": {
                            "outlinewidth": 0,
                            "ticks": ""
                          }
                        },
                        "type": "scattercarpet"
                      }
                    ],
                    "scattergeo": [
                      {
                        "marker": {
                          "colorbar": {
                            "outlinewidth": 0,
                            "ticks": ""
                          }
                        },
                        "type": "scattergeo"
                      }
                    ],
                    "scattergl": [
                      {
                        "marker": {
                          "colorbar": {
                            "outlinewidth": 0,
                            "ticks": ""
                          }
                        },
                        "type": "scattergl"
                      }
                    ],
                    "scattermap": [
                      {
                        "marker": {
                          "colorbar": {
                            "outlinewidth": 0,
                            "ticks": ""
                          }
                        },
                        "type": "scattermap"
                      }
                    ],
                    "scattermapbox": [
                      {
                        "marker": {
                          "colorbar": {
                            "outlinewidth": 0,
                            "ticks": ""
                          }
                        },
                        "type": "scattermapbox"
                      }
                    ],
                    "scatterpolar": [
                      {
                        "marker": {
                          "colorbar": {
                            "outlinewidth": 0,
                            "ticks": ""
                          }
                        },
                        "type": "scatterpolar"
                      }
                    ],
                    "scatterpolargl": [
                      {
                        "marker": {
                          "colorbar": {
                            "outlinewidth": 0,
                            "ticks": ""
                          }
                        },
                        "type": "scatterpolargl"
                      }
                    ],
                    "scatterternary": [
                      {
                        "marker": {
                          "colorbar": {
                            "outlinewidth": 0,
                            "ticks": ""
                          }
                        },
                        "type": "scatterternary"
                      }
                    ],
                    "surface": [
                      {
                        "colorbar": {
                          "outlinewidth": 0,
                          "ticks": ""
                        },
                        "colorscale": [
                          [
                            0,
                            "#0d0887"
                          ],
                          [
                            0.1111111111111111,
                            "#46039f"
                          ],
                          [
                            0.2222222222222222,
                            "#7201a8"
                          ],
                          [
                            0.3333333333333333,
                            "#9c179e"
                          ],
                          [
                            0.4444444444444444,
                            "#bd3786"
                          ],
                          [
                            0.5555555555555556,
                            "#d8576b"
                          ],
                          [
                            0.6666666666666666,
                            "#ed7953"
                          ],
                          [
                            0.7777777777777778,
                            "#fb9f3a"
                          ],
                          [
                            0.8888888888888888,
                            "#fdca26"
                          ],
                          [
                            1,
                            "#f0f921"
                          ]
                        ],
                        "type": "surface"
                      }
                    ],
                    "table": [
                      {
                        "cells": {
                          "fill": {
                            "color": "#EBF0F8"
                          },
                          "line": {
                            "color": "white"
                          }
                        },
                        "header": {
                          "fill": {
                            "color": "#C8D4E3"
                          },
                          "line": {
                            "color": "white"
                          }
                        },
                        "type": "table"
                      }
                    ]
                  },
                  "layout": {
                    "annotationdefaults": {
                      "arrowcolor": "#2a3f5f",
                      "arrowhead": 0,
                      "arrowwidth": 1
                    },
                    "autotypenumbers": "strict",
                    "coloraxis": {
                      "colorbar": {
                        "outlinewidth": 0,
                        "ticks": ""
                      }
                    },
                    "colorscale": {
                      "diverging": [
                        [
                          0,
                          "#8e0152"
                        ],
                        [
                          0.1,
                          "#c51b7d"
                        ],
                        [
                          0.2,
                          "#de77ae"
                        ],
                        [
                          0.3,
                          "#f1b6da"
                        ],
                        [
                          0.4,
                          "#fde0ef"
                        ],
                        [
                          0.5,
                          "#f7f7f7"
                        ],
                        [
                          0.6,
                          "#e6f5d0"
                        ],
                        [
                          0.7,
                          "#b8e186"
                        ],
                        [
                          0.8,
                          "#7fbc41"
                        ],
                        [
                          0.9,
                          "#4d9221"
                        ],
                        [
                          1,
                          "#276419"
                        ]
                      ],
                      "sequential": [
                        [
                          0,
                          "#0d0887"
                        ],
                        [
                          0.1111111111111111,
                          "#46039f"
                        ],
                        [
                          0.2222222222222222,
                          "#7201a8"
                        ],
                        [
                          0.3333333333333333,
                          "#9c179e"
                        ],
                        [
                          0.4444444444444444,
                          "#bd3786"
                        ],
                        [
                          0.5555555555555556,
                          "#d8576b"
                        ],
                        [
                          0.6666666666666666,
                          "#ed7953"
                        ],
                        [
                          0.7777777777777778,
                          "#fb9f3a"
                        ],
                        [
                          0.8888888888888888,
                          "#fdca26"
                        ],
                        [
                          1,
                          "#f0f921"
                        ]
                      ],
                      "sequentialminus": [
                        [
                          0,
                          "#0d0887"
                        ],
                        [
                          0.1111111111111111,
                          "#46039f"
                        ],
                        [
                          0.2222222222222222,
                          "#7201a8"
                        ],
                        [
                          0.3333333333333333,
                          "#9c179e"
                        ],
                        [
                          0.4444444444444444,
                          "#bd3786"
                        ],
                        [
                          0.5555555555555556,
                          "#d8576b"
                        ],
                        [
                          0.6666666666666666,
                          "#ed7953"
                        ],
                        [
                          0.7777777777777778,
                          "#fb9f3a"
                        ],
                        [
                          0.8888888888888888,
                          "#fdca26"
                        ],
                        [
                          1,
                          "#f0f921"
                        ]
                      ]
                    },
                    "colorway": [
                      "#636efa",
                      "#EF553B",
                      "#00cc96",
                      "#ab63fa",
                      "#FFA15A",
                      "#19d3f3",
                      "#FF6692",
                      "#B6E880",
                      "#FF97FF",
                      "#FECB52"
                    ],
                    "font": {
                      "color": "#2a3f5f"
                    },
                    "geo": {
                      "bgcolor": "white",
                      "lakecolor": "white",
                      "landcolor": "#E5ECF6",
                      "showlakes": true,
                      "showland": true,
                      "subunitcolor": "white"
                    },
                    "hoverlabel": {
                      "align": "left"
                    },
                    "hovermode": "closest",
                    "mapbox": {
                      "style": "light"
                    },
                    "paper_bgcolor": "white",
                    "plot_bgcolor": "#E5ECF6",
                    "polar": {
                      "angularaxis": {
                        "gridcolor": "white",
                        "linecolor": "white",
                        "ticks": ""
                      },
                      "bgcolor": "#E5ECF6",
                      "radialaxis": {
                        "gridcolor": "white",
                        "linecolor": "white",
                        "ticks": ""
                      }
                    },
                    "scene": {
                      "xaxis": {
                        "backgroundcolor": "#E5ECF6",
                        "gridcolor": "white",
                        "gridwidth": 2,
                        "linecolor": "white",
                        "showbackground": true,
                        "ticks": "",
                        "zerolinecolor": "white"
                      },
                      "yaxis": {
                        "backgroundcolor": "#E5ECF6",
                        "gridcolor": "white",
                        "gridwidth": 2,
                        "linecolor": "white",
                        "showbackground": true,
                        "ticks": "",
                        "zerolinecolor": "white"
                      },
                      "zaxis": {
                        "backgroundcolor": "#E5ECF6",
                        "gridcolor": "white",
                        "gridwidth": 2,
                        "linecolor": "white",
                        "showbackground": true,
                        "ticks": "",
                        "zerolinecolor": "white"
                      }
                    },
                    "shapedefaults": {
                      "line": {
                        "color": "#2a3f5f"
                      }
                    },
                    "ternary": {
                      "aaxis": {
                        "gridcolor": "white",
                        "linecolor": "white",
                        "ticks": ""
                      },
                      "baxis": {
                        "gridcolor": "white",
                        "linecolor": "white",
                        "ticks": ""
                      },
                      "bgcolor": "#E5ECF6",
                      "caxis": {
                        "gridcolor": "white",
                        "linecolor": "white",
                        "ticks": ""
                      }
                    },
                    "title": {
                      "x": 0.05
                    },
                    "xaxis": {
                      "automargin": true,
                      "gridcolor": "white",
                      "linecolor": "white",
                      "ticks": "",
                      "title": {
                        "standoff": 15
                      },
                      "zerolinecolor": "white",
                      "zerolinewidth": 2
                    },
                    "yaxis": {
                      "automargin": true,
                      "gridcolor": "white",
                      "linecolor": "white",
                      "ticks": "",
                      "title": {
                        "standoff": 15
                      },
                      "zerolinecolor": "white",
                      "zerolinewidth": 2
                    }
                  }
                },
                "title": {
                  "font": {
                    "color": "orange",
                    "size": 22
                  },
                  "text": "Monetary Distribution by Segment (Log Scale)"
                },
                "xaxis": {
                  "anchor": "y",
                  "categoryarray": [
                    "Potential Loyalist",
                    "Champions",
                    "Loyal Customers",
                    "Need Attention",
                    "At Risk"
                  ],
                  "categoryorder": "array",
                  "domain": [
                    0,
                    1
                  ],
                  "title": {
                    "text": "Customer_Segment"
                  }
                },
                "yaxis": {
                  "anchor": "x",
                  "domain": [
                    0,
                    1
                  ],
                  "title": {
                    "text": "Monetary"
                  },
                  "type": "log"
                }
              }
            }
          },
          "metadata": {},
          "output_type": "display_data"
        },
        {
          "data": {
            "application/vnd.plotly.v1+json": {
              "config": {
                "plotlyServerURL": "https://plot.ly"
              },
              "data": [
                {
                  "alignmentgroup": "True",
                  "hovertemplate": "Metric=Recency<br>Customer_Segment=%{x}<br>Average=%{y}<extra></extra>",
                  "legendgroup": "Recency",
                  "marker": {
                    "color": "#0d0887",
                    "pattern": {
                      "shape": ""
                    }
                  },
                  "name": "Recency",
                  "offsetgroup": "Recency",
                  "orientation": "v",
                  "showlegend": true,
                  "textposition": "auto",
                  "type": "bar",
                  "x": [
                    "At Risk",
                    "Champions",
                    "Loyal Customers",
                    "Need Attention",
                    "Potential Loyalist"
                  ],
                  "xaxis": "x",
                  "y": {
                    "bdata": "jigw6dS8cEATCC5TjeUzQIhd5DC9E0pAvE2zhblrZUB2Yid2YtdVQA==",
                    "dtype": "f8"
                  },
                  "yaxis": "y"
                },
                {
                  "alignmentgroup": "True",
                  "hovertemplate": "Metric=Frequency<br>Customer_Segment=%{x}<br>Average=%{y}<extra></extra>",
                  "legendgroup": "Frequency",
                  "marker": {
                    "color": "#46039f",
                    "pattern": {
                      "shape": ""
                    }
                  },
                  "name": "Frequency",
                  "offsetgroup": "Frequency",
                  "orientation": "v",
                  "showlegend": true,
                  "textposition": "auto",
                  "type": "bar",
                  "x": [
                    "At Risk",
                    "Champions",
                    "Loyal Customers",
                    "Need Attention",
                    "Potential Loyalist"
                  ],
                  "xaxis": "x",
                  "y": {
                    "bdata": "AAAAAAAA8D9lv49mldMjQN/DkWAG4QlATrOFuds08z+KndiJndj9Pw==",
                    "dtype": "f8"
                  },
                  "yaxis": "y"
                },
                {
                  "alignmentgroup": "True",
                  "hovertemplate": "Metric=Monetary<br>Customer_Segment=%{x}<br>Average=%{y}<extra></extra>",
                  "legendgroup": "Monetary",
                  "marker": {
                    "color": "#7201a8",
                    "pattern": {
                      "shape": ""
                    }
                  },
                  "name": "Monetary",
                  "offsetgroup": "Monetary",
                  "orientation": "v",
                  "showlegend": true,
                  "textposition": "auto",
                  "type": "bar",
                  "x": [
                    "At Risk",
                    "Champions",
                    "Loyal Customers",
                    "Need Attention",
                    "Potential Loyalist"
                  ],
                  "xaxis": "x",
                  "y": {
                    "bdata": "JctDZgJnZEAXtXL9ghW1QFLrv1Z8hpNAdbIX4rSec0C5qDnihNiFQA==",
                    "dtype": "f8"
                  },
                  "yaxis": "y"
                }
              ],
              "layout": {
                "barmode": "group",
                "font": {
                  "color": "white"
                },
                "legend": {
                  "title": {
                    "text": "Metric"
                  },
                  "tracegroupgap": 0
                },
                "paper_bgcolor": "black",
                "plot_bgcolor": "black",
                "template": {
                  "data": {
                    "bar": [
                      {
                        "error_x": {
                          "color": "#2a3f5f"
                        },
                        "error_y": {
                          "color": "#2a3f5f"
                        },
                        "marker": {
                          "line": {
                            "color": "#E5ECF6",
                            "width": 0.5
                          },
                          "pattern": {
                            "fillmode": "overlay",
                            "size": 10,
                            "solidity": 0.2
                          }
                        },
                        "type": "bar"
                      }
                    ],
                    "barpolar": [
                      {
                        "marker": {
                          "line": {
                            "color": "#E5ECF6",
                            "width": 0.5
                          },
                          "pattern": {
                            "fillmode": "overlay",
                            "size": 10,
                            "solidity": 0.2
                          }
                        },
                        "type": "barpolar"
                      }
                    ],
                    "carpet": [
                      {
                        "aaxis": {
                          "endlinecolor": "#2a3f5f",
                          "gridcolor": "white",
                          "linecolor": "white",
                          "minorgridcolor": "white",
                          "startlinecolor": "#2a3f5f"
                        },
                        "baxis": {
                          "endlinecolor": "#2a3f5f",
                          "gridcolor": "white",
                          "linecolor": "white",
                          "minorgridcolor": "white",
                          "startlinecolor": "#2a3f5f"
                        },
                        "type": "carpet"
                      }
                    ],
                    "choropleth": [
                      {
                        "colorbar": {
                          "outlinewidth": 0,
                          "ticks": ""
                        },
                        "type": "choropleth"
                      }
                    ],
                    "contour": [
                      {
                        "colorbar": {
                          "outlinewidth": 0,
                          "ticks": ""
                        },
                        "colorscale": [
                          [
                            0,
                            "#0d0887"
                          ],
                          [
                            0.1111111111111111,
                            "#46039f"
                          ],
                          [
                            0.2222222222222222,
                            "#7201a8"
                          ],
                          [
                            0.3333333333333333,
                            "#9c179e"
                          ],
                          [
                            0.4444444444444444,
                            "#bd3786"
                          ],
                          [
                            0.5555555555555556,
                            "#d8576b"
                          ],
                          [
                            0.6666666666666666,
                            "#ed7953"
                          ],
                          [
                            0.7777777777777778,
                            "#fb9f3a"
                          ],
                          [
                            0.8888888888888888,
                            "#fdca26"
                          ],
                          [
                            1,
                            "#f0f921"
                          ]
                        ],
                        "type": "contour"
                      }
                    ],
                    "contourcarpet": [
                      {
                        "colorbar": {
                          "outlinewidth": 0,
                          "ticks": ""
                        },
                        "type": "contourcarpet"
                      }
                    ],
                    "heatmap": [
                      {
                        "colorbar": {
                          "outlinewidth": 0,
                          "ticks": ""
                        },
                        "colorscale": [
                          [
                            0,
                            "#0d0887"
                          ],
                          [
                            0.1111111111111111,
                            "#46039f"
                          ],
                          [
                            0.2222222222222222,
                            "#7201a8"
                          ],
                          [
                            0.3333333333333333,
                            "#9c179e"
                          ],
                          [
                            0.4444444444444444,
                            "#bd3786"
                          ],
                          [
                            0.5555555555555556,
                            "#d8576b"
                          ],
                          [
                            0.6666666666666666,
                            "#ed7953"
                          ],
                          [
                            0.7777777777777778,
                            "#fb9f3a"
                          ],
                          [
                            0.8888888888888888,
                            "#fdca26"
                          ],
                          [
                            1,
                            "#f0f921"
                          ]
                        ],
                        "type": "heatmap"
                      }
                    ],
                    "histogram": [
                      {
                        "marker": {
                          "pattern": {
                            "fillmode": "overlay",
                            "size": 10,
                            "solidity": 0.2
                          }
                        },
                        "type": "histogram"
                      }
                    ],
                    "histogram2d": [
                      {
                        "colorbar": {
                          "outlinewidth": 0,
                          "ticks": ""
                        },
                        "colorscale": [
                          [
                            0,
                            "#0d0887"
                          ],
                          [
                            0.1111111111111111,
                            "#46039f"
                          ],
                          [
                            0.2222222222222222,
                            "#7201a8"
                          ],
                          [
                            0.3333333333333333,
                            "#9c179e"
                          ],
                          [
                            0.4444444444444444,
                            "#bd3786"
                          ],
                          [
                            0.5555555555555556,
                            "#d8576b"
                          ],
                          [
                            0.6666666666666666,
                            "#ed7953"
                          ],
                          [
                            0.7777777777777778,
                            "#fb9f3a"
                          ],
                          [
                            0.8888888888888888,
                            "#fdca26"
                          ],
                          [
                            1,
                            "#f0f921"
                          ]
                        ],
                        "type": "histogram2d"
                      }
                    ],
                    "histogram2dcontour": [
                      {
                        "colorbar": {
                          "outlinewidth": 0,
                          "ticks": ""
                        },
                        "colorscale": [
                          [
                            0,
                            "#0d0887"
                          ],
                          [
                            0.1111111111111111,
                            "#46039f"
                          ],
                          [
                            0.2222222222222222,
                            "#7201a8"
                          ],
                          [
                            0.3333333333333333,
                            "#9c179e"
                          ],
                          [
                            0.4444444444444444,
                            "#bd3786"
                          ],
                          [
                            0.5555555555555556,
                            "#d8576b"
                          ],
                          [
                            0.6666666666666666,
                            "#ed7953"
                          ],
                          [
                            0.7777777777777778,
                            "#fb9f3a"
                          ],
                          [
                            0.8888888888888888,
                            "#fdca26"
                          ],
                          [
                            1,
                            "#f0f921"
                          ]
                        ],
                        "type": "histogram2dcontour"
                      }
                    ],
                    "mesh3d": [
                      {
                        "colorbar": {
                          "outlinewidth": 0,
                          "ticks": ""
                        },
                        "type": "mesh3d"
                      }
                    ],
                    "parcoords": [
                      {
                        "line": {
                          "colorbar": {
                            "outlinewidth": 0,
                            "ticks": ""
                          }
                        },
                        "type": "parcoords"
                      }
                    ],
                    "pie": [
                      {
                        "automargin": true,
                        "type": "pie"
                      }
                    ],
                    "scatter": [
                      {
                        "fillpattern": {
                          "fillmode": "overlay",
                          "size": 10,
                          "solidity": 0.2
                        },
                        "type": "scatter"
                      }
                    ],
                    "scatter3d": [
                      {
                        "line": {
                          "colorbar": {
                            "outlinewidth": 0,
                            "ticks": ""
                          }
                        },
                        "marker": {
                          "colorbar": {
                            "outlinewidth": 0,
                            "ticks": ""
                          }
                        },
                        "type": "scatter3d"
                      }
                    ],
                    "scattercarpet": [
                      {
                        "marker": {
                          "colorbar": {
                            "outlinewidth": 0,
                            "ticks": ""
                          }
                        },
                        "type": "scattercarpet"
                      }
                    ],
                    "scattergeo": [
                      {
                        "marker": {
                          "colorbar": {
                            "outlinewidth": 0,
                            "ticks": ""
                          }
                        },
                        "type": "scattergeo"
                      }
                    ],
                    "scattergl": [
                      {
                        "marker": {
                          "colorbar": {
                            "outlinewidth": 0,
                            "ticks": ""
                          }
                        },
                        "type": "scattergl"
                      }
                    ],
                    "scattermap": [
                      {
                        "marker": {
                          "colorbar": {
                            "outlinewidth": 0,
                            "ticks": ""
                          }
                        },
                        "type": "scattermap"
                      }
                    ],
                    "scattermapbox": [
                      {
                        "marker": {
                          "colorbar": {
                            "outlinewidth": 0,
                            "ticks": ""
                          }
                        },
                        "type": "scattermapbox"
                      }
                    ],
                    "scatterpolar": [
                      {
                        "marker": {
                          "colorbar": {
                            "outlinewidth": 0,
                            "ticks": ""
                          }
                        },
                        "type": "scatterpolar"
                      }
                    ],
                    "scatterpolargl": [
                      {
                        "marker": {
                          "colorbar": {
                            "outlinewidth": 0,
                            "ticks": ""
                          }
                        },
                        "type": "scatterpolargl"
                      }
                    ],
                    "scatterternary": [
                      {
                        "marker": {
                          "colorbar": {
                            "outlinewidth": 0,
                            "ticks": ""
                          }
                        },
                        "type": "scatterternary"
                      }
                    ],
                    "surface": [
                      {
                        "colorbar": {
                          "outlinewidth": 0,
                          "ticks": ""
                        },
                        "colorscale": [
                          [
                            0,
                            "#0d0887"
                          ],
                          [
                            0.1111111111111111,
                            "#46039f"
                          ],
                          [
                            0.2222222222222222,
                            "#7201a8"
                          ],
                          [
                            0.3333333333333333,
                            "#9c179e"
                          ],
                          [
                            0.4444444444444444,
                            "#bd3786"
                          ],
                          [
                            0.5555555555555556,
                            "#d8576b"
                          ],
                          [
                            0.6666666666666666,
                            "#ed7953"
                          ],
                          [
                            0.7777777777777778,
                            "#fb9f3a"
                          ],
                          [
                            0.8888888888888888,
                            "#fdca26"
                          ],
                          [
                            1,
                            "#f0f921"
                          ]
                        ],
                        "type": "surface"
                      }
                    ],
                    "table": [
                      {
                        "cells": {
                          "fill": {
                            "color": "#EBF0F8"
                          },
                          "line": {
                            "color": "white"
                          }
                        },
                        "header": {
                          "fill": {
                            "color": "#C8D4E3"
                          },
                          "line": {
                            "color": "white"
                          }
                        },
                        "type": "table"
                      }
                    ]
                  },
                  "layout": {
                    "annotationdefaults": {
                      "arrowcolor": "#2a3f5f",
                      "arrowhead": 0,
                      "arrowwidth": 1
                    },
                    "autotypenumbers": "strict",
                    "coloraxis": {
                      "colorbar": {
                        "outlinewidth": 0,
                        "ticks": ""
                      }
                    },
                    "colorscale": {
                      "diverging": [
                        [
                          0,
                          "#8e0152"
                        ],
                        [
                          0.1,
                          "#c51b7d"
                        ],
                        [
                          0.2,
                          "#de77ae"
                        ],
                        [
                          0.3,
                          "#f1b6da"
                        ],
                        [
                          0.4,
                          "#fde0ef"
                        ],
                        [
                          0.5,
                          "#f7f7f7"
                        ],
                        [
                          0.6,
                          "#e6f5d0"
                        ],
                        [
                          0.7,
                          "#b8e186"
                        ],
                        [
                          0.8,
                          "#7fbc41"
                        ],
                        [
                          0.9,
                          "#4d9221"
                        ],
                        [
                          1,
                          "#276419"
                        ]
                      ],
                      "sequential": [
                        [
                          0,
                          "#0d0887"
                        ],
                        [
                          0.1111111111111111,
                          "#46039f"
                        ],
                        [
                          0.2222222222222222,
                          "#7201a8"
                        ],
                        [
                          0.3333333333333333,
                          "#9c179e"
                        ],
                        [
                          0.4444444444444444,
                          "#bd3786"
                        ],
                        [
                          0.5555555555555556,
                          "#d8576b"
                        ],
                        [
                          0.6666666666666666,
                          "#ed7953"
                        ],
                        [
                          0.7777777777777778,
                          "#fb9f3a"
                        ],
                        [
                          0.8888888888888888,
                          "#fdca26"
                        ],
                        [
                          1,
                          "#f0f921"
                        ]
                      ],
                      "sequentialminus": [
                        [
                          0,
                          "#0d0887"
                        ],
                        [
                          0.1111111111111111,
                          "#46039f"
                        ],
                        [
                          0.2222222222222222,
                          "#7201a8"
                        ],
                        [
                          0.3333333333333333,
                          "#9c179e"
                        ],
                        [
                          0.4444444444444444,
                          "#bd3786"
                        ],
                        [
                          0.5555555555555556,
                          "#d8576b"
                        ],
                        [
                          0.6666666666666666,
                          "#ed7953"
                        ],
                        [
                          0.7777777777777778,
                          "#fb9f3a"
                        ],
                        [
                          0.8888888888888888,
                          "#fdca26"
                        ],
                        [
                          1,
                          "#f0f921"
                        ]
                      ]
                    },
                    "colorway": [
                      "#636efa",
                      "#EF553B",
                      "#00cc96",
                      "#ab63fa",
                      "#FFA15A",
                      "#19d3f3",
                      "#FF6692",
                      "#B6E880",
                      "#FF97FF",
                      "#FECB52"
                    ],
                    "font": {
                      "color": "#2a3f5f"
                    },
                    "geo": {
                      "bgcolor": "white",
                      "lakecolor": "white",
                      "landcolor": "#E5ECF6",
                      "showlakes": true,
                      "showland": true,
                      "subunitcolor": "white"
                    },
                    "hoverlabel": {
                      "align": "left"
                    },
                    "hovermode": "closest",
                    "mapbox": {
                      "style": "light"
                    },
                    "paper_bgcolor": "white",
                    "plot_bgcolor": "#E5ECF6",
                    "polar": {
                      "angularaxis": {
                        "gridcolor": "white",
                        "linecolor": "white",
                        "ticks": ""
                      },
                      "bgcolor": "#E5ECF6",
                      "radialaxis": {
                        "gridcolor": "white",
                        "linecolor": "white",
                        "ticks": ""
                      }
                    },
                    "scene": {
                      "xaxis": {
                        "backgroundcolor": "#E5ECF6",
                        "gridcolor": "white",
                        "gridwidth": 2,
                        "linecolor": "white",
                        "showbackground": true,
                        "ticks": "",
                        "zerolinecolor": "white"
                      },
                      "yaxis": {
                        "backgroundcolor": "#E5ECF6",
                        "gridcolor": "white",
                        "gridwidth": 2,
                        "linecolor": "white",
                        "showbackground": true,
                        "ticks": "",
                        "zerolinecolor": "white"
                      },
                      "zaxis": {
                        "backgroundcolor": "#E5ECF6",
                        "gridcolor": "white",
                        "gridwidth": 2,
                        "linecolor": "white",
                        "showbackground": true,
                        "ticks": "",
                        "zerolinecolor": "white"
                      }
                    },
                    "shapedefaults": {
                      "line": {
                        "color": "#2a3f5f"
                      }
                    },
                    "ternary": {
                      "aaxis": {
                        "gridcolor": "white",
                        "linecolor": "white",
                        "ticks": ""
                      },
                      "baxis": {
                        "gridcolor": "white",
                        "linecolor": "white",
                        "ticks": ""
                      },
                      "bgcolor": "#E5ECF6",
                      "caxis": {
                        "gridcolor": "white",
                        "linecolor": "white",
                        "ticks": ""
                      }
                    },
                    "title": {
                      "x": 0.05
                    },
                    "xaxis": {
                      "automargin": true,
                      "gridcolor": "white",
                      "linecolor": "white",
                      "ticks": "",
                      "title": {
                        "standoff": 15
                      },
                      "zerolinecolor": "white",
                      "zerolinewidth": 2
                    },
                    "yaxis": {
                      "automargin": true,
                      "gridcolor": "white",
                      "linecolor": "white",
                      "ticks": "",
                      "title": {
                        "standoff": 15
                      },
                      "zerolinecolor": "white",
                      "zerolinewidth": 2
                    }
                  }
                },
                "title": {
                  "font": {
                    "color": "lime",
                    "size": 22
                  },
                  "text": "Average RFM Metrics by Segment"
                },
                "xaxis": {
                  "anchor": "y",
                  "domain": [
                    0,
                    1
                  ],
                  "title": {
                    "text": "Customer_Segment"
                  }
                },
                "yaxis": {
                  "anchor": "x",
                  "domain": [
                    0,
                    1
                  ],
                  "title": {
                    "text": "Average"
                  }
                }
              }
            }
          },
          "metadata": {},
          "output_type": "display_data"
        },
        {
          "name": "stderr",
          "output_type": "stream",
          "text": [
            "C:\\Users\\PMYLS\\AppData\\Local\\Temp\\ipykernel_22452\\1808204546.py:58: FutureWarning:\n",
            "\n",
            "The default of observed=False is deprecated and will be changed to True in a future version of pandas. Pass observed=False to retain current behavior or observed=True to adopt the future default and silence this warning.\n",
            "\n"
          ]
        },
        {
          "data": {
            "application/vnd.plotly.v1+json": {
              "config": {
                "plotlyServerURL": "https://plot.ly"
              },
              "data": [
                {
                  "coloraxis": "coloraxis",
                  "histfunc": "sum",
                  "hovertemplate": "F_Score=%{x}<br>R_Score=%{y}<br>sum of count=%{z}<extra></extra>",
                  "name": "",
                  "texttemplate": "%{z}",
                  "type": "histogram2d",
                  "x": {
                    "bdata": "AQIDBAECAwQBAgMEAQIDBA==",
                    "dtype": "i1"
                  },
                  "xaxis": "x",
                  "xbingroup": "x",
                  "y": {
                    "bdata": "BAQEBAMDAwMCAgICAQEBAQ==",
                    "dtype": "i1"
                  },
                  "yaxis": "y",
                  "ybingroup": "y",
                  "z": {
                    "bdata": "SgCgABoBYQK5APYASgEuATMBJgE/AZIABwKAAZkAHAA=",
                    "dtype": "i2"
                  }
                }
              ],
              "layout": {
                "coloraxis": {
                  "colorbar": {
                    "title": {
                      "text": "sum of count"
                    }
                  },
                  "colorscale": [
                    [
                      0,
                      "#30123b"
                    ],
                    [
                      0.07142857142857142,
                      "#4145ab"
                    ],
                    [
                      0.14285714285714285,
                      "#4675ed"
                    ],
                    [
                      0.21428571428571427,
                      "#39a2fc"
                    ],
                    [
                      0.2857142857142857,
                      "#1bcfd4"
                    ],
                    [
                      0.35714285714285715,
                      "#24eca6"
                    ],
                    [
                      0.42857142857142855,
                      "#61fc6c"
                    ],
                    [
                      0.5,
                      "#a4fc3b"
                    ],
                    [
                      0.5714285714285714,
                      "#d1e834"
                    ],
                    [
                      0.6428571428571429,
                      "#f3c63a"
                    ],
                    [
                      0.7142857142857143,
                      "#fe9b2d"
                    ],
                    [
                      0.7857142857142857,
                      "#f36315"
                    ],
                    [
                      0.8571428571428571,
                      "#d93806"
                    ],
                    [
                      0.9285714285714286,
                      "#b11901"
                    ],
                    [
                      1,
                      "#7a0402"
                    ]
                  ]
                },
                "font": {
                  "color": "white"
                },
                "legend": {
                  "tracegroupgap": 0
                },
                "paper_bgcolor": "black",
                "plot_bgcolor": "black",
                "template": {
                  "data": {
                    "bar": [
                      {
                        "error_x": {
                          "color": "#2a3f5f"
                        },
                        "error_y": {
                          "color": "#2a3f5f"
                        },
                        "marker": {
                          "line": {
                            "color": "#E5ECF6",
                            "width": 0.5
                          },
                          "pattern": {
                            "fillmode": "overlay",
                            "size": 10,
                            "solidity": 0.2
                          }
                        },
                        "type": "bar"
                      }
                    ],
                    "barpolar": [
                      {
                        "marker": {
                          "line": {
                            "color": "#E5ECF6",
                            "width": 0.5
                          },
                          "pattern": {
                            "fillmode": "overlay",
                            "size": 10,
                            "solidity": 0.2
                          }
                        },
                        "type": "barpolar"
                      }
                    ],
                    "carpet": [
                      {
                        "aaxis": {
                          "endlinecolor": "#2a3f5f",
                          "gridcolor": "white",
                          "linecolor": "white",
                          "minorgridcolor": "white",
                          "startlinecolor": "#2a3f5f"
                        },
                        "baxis": {
                          "endlinecolor": "#2a3f5f",
                          "gridcolor": "white",
                          "linecolor": "white",
                          "minorgridcolor": "white",
                          "startlinecolor": "#2a3f5f"
                        },
                        "type": "carpet"
                      }
                    ],
                    "choropleth": [
                      {
                        "colorbar": {
                          "outlinewidth": 0,
                          "ticks": ""
                        },
                        "type": "choropleth"
                      }
                    ],
                    "contour": [
                      {
                        "colorbar": {
                          "outlinewidth": 0,
                          "ticks": ""
                        },
                        "colorscale": [
                          [
                            0,
                            "#0d0887"
                          ],
                          [
                            0.1111111111111111,
                            "#46039f"
                          ],
                          [
                            0.2222222222222222,
                            "#7201a8"
                          ],
                          [
                            0.3333333333333333,
                            "#9c179e"
                          ],
                          [
                            0.4444444444444444,
                            "#bd3786"
                          ],
                          [
                            0.5555555555555556,
                            "#d8576b"
                          ],
                          [
                            0.6666666666666666,
                            "#ed7953"
                          ],
                          [
                            0.7777777777777778,
                            "#fb9f3a"
                          ],
                          [
                            0.8888888888888888,
                            "#fdca26"
                          ],
                          [
                            1,
                            "#f0f921"
                          ]
                        ],
                        "type": "contour"
                      }
                    ],
                    "contourcarpet": [
                      {
                        "colorbar": {
                          "outlinewidth": 0,
                          "ticks": ""
                        },
                        "type": "contourcarpet"
                      }
                    ],
                    "heatmap": [
                      {
                        "colorbar": {
                          "outlinewidth": 0,
                          "ticks": ""
                        },
                        "colorscale": [
                          [
                            0,
                            "#0d0887"
                          ],
                          [
                            0.1111111111111111,
                            "#46039f"
                          ],
                          [
                            0.2222222222222222,
                            "#7201a8"
                          ],
                          [
                            0.3333333333333333,
                            "#9c179e"
                          ],
                          [
                            0.4444444444444444,
                            "#bd3786"
                          ],
                          [
                            0.5555555555555556,
                            "#d8576b"
                          ],
                          [
                            0.6666666666666666,
                            "#ed7953"
                          ],
                          [
                            0.7777777777777778,
                            "#fb9f3a"
                          ],
                          [
                            0.8888888888888888,
                            "#fdca26"
                          ],
                          [
                            1,
                            "#f0f921"
                          ]
                        ],
                        "type": "heatmap"
                      }
                    ],
                    "histogram": [
                      {
                        "marker": {
                          "pattern": {
                            "fillmode": "overlay",
                            "size": 10,
                            "solidity": 0.2
                          }
                        },
                        "type": "histogram"
                      }
                    ],
                    "histogram2d": [
                      {
                        "colorbar": {
                          "outlinewidth": 0,
                          "ticks": ""
                        },
                        "colorscale": [
                          [
                            0,
                            "#0d0887"
                          ],
                          [
                            0.1111111111111111,
                            "#46039f"
                          ],
                          [
                            0.2222222222222222,
                            "#7201a8"
                          ],
                          [
                            0.3333333333333333,
                            "#9c179e"
                          ],
                          [
                            0.4444444444444444,
                            "#bd3786"
                          ],
                          [
                            0.5555555555555556,
                            "#d8576b"
                          ],
                          [
                            0.6666666666666666,
                            "#ed7953"
                          ],
                          [
                            0.7777777777777778,
                            "#fb9f3a"
                          ],
                          [
                            0.8888888888888888,
                            "#fdca26"
                          ],
                          [
                            1,
                            "#f0f921"
                          ]
                        ],
                        "type": "histogram2d"
                      }
                    ],
                    "histogram2dcontour": [
                      {
                        "colorbar": {
                          "outlinewidth": 0,
                          "ticks": ""
                        },
                        "colorscale": [
                          [
                            0,
                            "#0d0887"
                          ],
                          [
                            0.1111111111111111,
                            "#46039f"
                          ],
                          [
                            0.2222222222222222,
                            "#7201a8"
                          ],
                          [
                            0.3333333333333333,
                            "#9c179e"
                          ],
                          [
                            0.4444444444444444,
                            "#bd3786"
                          ],
                          [
                            0.5555555555555556,
                            "#d8576b"
                          ],
                          [
                            0.6666666666666666,
                            "#ed7953"
                          ],
                          [
                            0.7777777777777778,
                            "#fb9f3a"
                          ],
                          [
                            0.8888888888888888,
                            "#fdca26"
                          ],
                          [
                            1,
                            "#f0f921"
                          ]
                        ],
                        "type": "histogram2dcontour"
                      }
                    ],
                    "mesh3d": [
                      {
                        "colorbar": {
                          "outlinewidth": 0,
                          "ticks": ""
                        },
                        "type": "mesh3d"
                      }
                    ],
                    "parcoords": [
                      {
                        "line": {
                          "colorbar": {
                            "outlinewidth": 0,
                            "ticks": ""
                          }
                        },
                        "type": "parcoords"
                      }
                    ],
                    "pie": [
                      {
                        "automargin": true,
                        "type": "pie"
                      }
                    ],
                    "scatter": [
                      {
                        "fillpattern": {
                          "fillmode": "overlay",
                          "size": 10,
                          "solidity": 0.2
                        },
                        "type": "scatter"
                      }
                    ],
                    "scatter3d": [
                      {
                        "line": {
                          "colorbar": {
                            "outlinewidth": 0,
                            "ticks": ""
                          }
                        },
                        "marker": {
                          "colorbar": {
                            "outlinewidth": 0,
                            "ticks": ""
                          }
                        },
                        "type": "scatter3d"
                      }
                    ],
                    "scattercarpet": [
                      {
                        "marker": {
                          "colorbar": {
                            "outlinewidth": 0,
                            "ticks": ""
                          }
                        },
                        "type": "scattercarpet"
                      }
                    ],
                    "scattergeo": [
                      {
                        "marker": {
                          "colorbar": {
                            "outlinewidth": 0,
                            "ticks": ""
                          }
                        },
                        "type": "scattergeo"
                      }
                    ],
                    "scattergl": [
                      {
                        "marker": {
                          "colorbar": {
                            "outlinewidth": 0,
                            "ticks": ""
                          }
                        },
                        "type": "scattergl"
                      }
                    ],
                    "scattermap": [
                      {
                        "marker": {
                          "colorbar": {
                            "outlinewidth": 0,
                            "ticks": ""
                          }
                        },
                        "type": "scattermap"
                      }
                    ],
                    "scattermapbox": [
                      {
                        "marker": {
                          "colorbar": {
                            "outlinewidth": 0,
                            "ticks": ""
                          }
                        },
                        "type": "scattermapbox"
                      }
                    ],
                    "scatterpolar": [
                      {
                        "marker": {
                          "colorbar": {
                            "outlinewidth": 0,
                            "ticks": ""
                          }
                        },
                        "type": "scatterpolar"
                      }
                    ],
                    "scatterpolargl": [
                      {
                        "marker": {
                          "colorbar": {
                            "outlinewidth": 0,
                            "ticks": ""
                          }
                        },
                        "type": "scatterpolargl"
                      }
                    ],
                    "scatterternary": [
                      {
                        "marker": {
                          "colorbar": {
                            "outlinewidth": 0,
                            "ticks": ""
                          }
                        },
                        "type": "scatterternary"
                      }
                    ],
                    "surface": [
                      {
                        "colorbar": {
                          "outlinewidth": 0,
                          "ticks": ""
                        },
                        "colorscale": [
                          [
                            0,
                            "#0d0887"
                          ],
                          [
                            0.1111111111111111,
                            "#46039f"
                          ],
                          [
                            0.2222222222222222,
                            "#7201a8"
                          ],
                          [
                            0.3333333333333333,
                            "#9c179e"
                          ],
                          [
                            0.4444444444444444,
                            "#bd3786"
                          ],
                          [
                            0.5555555555555556,
                            "#d8576b"
                          ],
                          [
                            0.6666666666666666,
                            "#ed7953"
                          ],
                          [
                            0.7777777777777778,
                            "#fb9f3a"
                          ],
                          [
                            0.8888888888888888,
                            "#fdca26"
                          ],
                          [
                            1,
                            "#f0f921"
                          ]
                        ],
                        "type": "surface"
                      }
                    ],
                    "table": [
                      {
                        "cells": {
                          "fill": {
                            "color": "#EBF0F8"
                          },
                          "line": {
                            "color": "white"
                          }
                        },
                        "header": {
                          "fill": {
                            "color": "#C8D4E3"
                          },
                          "line": {
                            "color": "white"
                          }
                        },
                        "type": "table"
                      }
                    ]
                  },
                  "layout": {
                    "annotationdefaults": {
                      "arrowcolor": "#2a3f5f",
                      "arrowhead": 0,
                      "arrowwidth": 1
                    },
                    "autotypenumbers": "strict",
                    "coloraxis": {
                      "colorbar": {
                        "outlinewidth": 0,
                        "ticks": ""
                      }
                    },
                    "colorscale": {
                      "diverging": [
                        [
                          0,
                          "#8e0152"
                        ],
                        [
                          0.1,
                          "#c51b7d"
                        ],
                        [
                          0.2,
                          "#de77ae"
                        ],
                        [
                          0.3,
                          "#f1b6da"
                        ],
                        [
                          0.4,
                          "#fde0ef"
                        ],
                        [
                          0.5,
                          "#f7f7f7"
                        ],
                        [
                          0.6,
                          "#e6f5d0"
                        ],
                        [
                          0.7,
                          "#b8e186"
                        ],
                        [
                          0.8,
                          "#7fbc41"
                        ],
                        [
                          0.9,
                          "#4d9221"
                        ],
                        [
                          1,
                          "#276419"
                        ]
                      ],
                      "sequential": [
                        [
                          0,
                          "#0d0887"
                        ],
                        [
                          0.1111111111111111,
                          "#46039f"
                        ],
                        [
                          0.2222222222222222,
                          "#7201a8"
                        ],
                        [
                          0.3333333333333333,
                          "#9c179e"
                        ],
                        [
                          0.4444444444444444,
                          "#bd3786"
                        ],
                        [
                          0.5555555555555556,
                          "#d8576b"
                        ],
                        [
                          0.6666666666666666,
                          "#ed7953"
                        ],
                        [
                          0.7777777777777778,
                          "#fb9f3a"
                        ],
                        [
                          0.8888888888888888,
                          "#fdca26"
                        ],
                        [
                          1,
                          "#f0f921"
                        ]
                      ],
                      "sequentialminus": [
                        [
                          0,
                          "#0d0887"
                        ],
                        [
                          0.1111111111111111,
                          "#46039f"
                        ],
                        [
                          0.2222222222222222,
                          "#7201a8"
                        ],
                        [
                          0.3333333333333333,
                          "#9c179e"
                        ],
                        [
                          0.4444444444444444,
                          "#bd3786"
                        ],
                        [
                          0.5555555555555556,
                          "#d8576b"
                        ],
                        [
                          0.6666666666666666,
                          "#ed7953"
                        ],
                        [
                          0.7777777777777778,
                          "#fb9f3a"
                        ],
                        [
                          0.8888888888888888,
                          "#fdca26"
                        ],
                        [
                          1,
                          "#f0f921"
                        ]
                      ]
                    },
                    "colorway": [
                      "#636efa",
                      "#EF553B",
                      "#00cc96",
                      "#ab63fa",
                      "#FFA15A",
                      "#19d3f3",
                      "#FF6692",
                      "#B6E880",
                      "#FF97FF",
                      "#FECB52"
                    ],
                    "font": {
                      "color": "#2a3f5f"
                    },
                    "geo": {
                      "bgcolor": "white",
                      "lakecolor": "white",
                      "landcolor": "#E5ECF6",
                      "showlakes": true,
                      "showland": true,
                      "subunitcolor": "white"
                    },
                    "hoverlabel": {
                      "align": "left"
                    },
                    "hovermode": "closest",
                    "mapbox": {
                      "style": "light"
                    },
                    "paper_bgcolor": "white",
                    "plot_bgcolor": "#E5ECF6",
                    "polar": {
                      "angularaxis": {
                        "gridcolor": "white",
                        "linecolor": "white",
                        "ticks": ""
                      },
                      "bgcolor": "#E5ECF6",
                      "radialaxis": {
                        "gridcolor": "white",
                        "linecolor": "white",
                        "ticks": ""
                      }
                    },
                    "scene": {
                      "xaxis": {
                        "backgroundcolor": "#E5ECF6",
                        "gridcolor": "white",
                        "gridwidth": 2,
                        "linecolor": "white",
                        "showbackground": true,
                        "ticks": "",
                        "zerolinecolor": "white"
                      },
                      "yaxis": {
                        "backgroundcolor": "#E5ECF6",
                        "gridcolor": "white",
                        "gridwidth": 2,
                        "linecolor": "white",
                        "showbackground": true,
                        "ticks": "",
                        "zerolinecolor": "white"
                      },
                      "zaxis": {
                        "backgroundcolor": "#E5ECF6",
                        "gridcolor": "white",
                        "gridwidth": 2,
                        "linecolor": "white",
                        "showbackground": true,
                        "ticks": "",
                        "zerolinecolor": "white"
                      }
                    },
                    "shapedefaults": {
                      "line": {
                        "color": "#2a3f5f"
                      }
                    },
                    "ternary": {
                      "aaxis": {
                        "gridcolor": "white",
                        "linecolor": "white",
                        "ticks": ""
                      },
                      "baxis": {
                        "gridcolor": "white",
                        "linecolor": "white",
                        "ticks": ""
                      },
                      "bgcolor": "#E5ECF6",
                      "caxis": {
                        "gridcolor": "white",
                        "linecolor": "white",
                        "ticks": ""
                      }
                    },
                    "title": {
                      "x": 0.05
                    },
                    "xaxis": {
                      "automargin": true,
                      "gridcolor": "white",
                      "linecolor": "white",
                      "ticks": "",
                      "title": {
                        "standoff": 15
                      },
                      "zerolinecolor": "white",
                      "zerolinewidth": 2
                    },
                    "yaxis": {
                      "automargin": true,
                      "gridcolor": "white",
                      "linecolor": "white",
                      "ticks": "",
                      "title": {
                        "standoff": 15
                      },
                      "zerolinecolor": "white",
                      "zerolinewidth": 2
                    }
                  }
                },
                "title": {
                  "font": {
                    "color": "magenta",
                    "size": 22
                  },
                  "text": "Customer Count Heatmap (R vs F)"
                },
                "xaxis": {
                  "anchor": "y",
                  "domain": [
                    0,
                    1
                  ],
                  "title": {
                    "text": "F_Score"
                  }
                },
                "yaxis": {
                  "anchor": "x",
                  "domain": [
                    0,
                    1
                  ],
                  "title": {
                    "text": "R_Score"
                  }
                }
              }
            }
          },
          "metadata": {},
          "output_type": "display_data"
        }
      ],
      "source": [
        "import pandas as pd\n",
        "import numpy as np\n",
        "import plotly.express as px\n",
        "\n",
        "# ==== 1. Customer Segment Distribution ====\n",
        "seg_counts = rfm['Customer_Segment'].value_counts().reset_index()\n",
        "seg_counts.columns = ['Customer_Segment', 'count']\n",
        "\n",
        "fig1 = px.bar(\n",
        "    seg_counts,\n",
        "    x='Customer_Segment',\n",
        "    y='count',\n",
        "    text='count',\n",
        "    color='Customer_Segment',\n",
        "    color_discrete_sequence=px.colors.sequential.Aggrnyl,\n",
        "    title=\"Customer Segments Distribution\"\n",
        ")\n",
        "fig1.update_traces(textposition='outside')\n",
        "fig1.update_layout(\n",
        "    xaxis_title=\"Customer Segment\",\n",
        "    yaxis_title=\"Number of Customers\",\n",
        "    title_font=dict(size=22, color='cyan'),\n",
        "    plot_bgcolor=\"black\", paper_bgcolor=\"black\",\n",
        "    font=dict(color=\"white\")\n",
        ")\n",
        "fig1.show()\n",
        "\n",
        "# ==== 2. Monetary Distribution (Boxplot with log scale) ====\n",
        "fig2 = px.box(\n",
        "    rfm, x=\"Customer_Segment\", y=\"Monetary\", color=\"Customer_Segment\",\n",
        "    color_discrete_sequence=px.colors.sequential.Inferno,\n",
        "    title=\"Monetary Distribution by Segment (Log Scale)\"\n",
        ")\n",
        "fig2.update_yaxes(type=\"log\")\n",
        "fig2.update_layout(\n",
        "    plot_bgcolor=\"black\", paper_bgcolor=\"black\",\n",
        "    font=dict(color=\"white\"), title_font=dict(size=22, color='orange')\n",
        ")\n",
        "fig2.show()\n",
        "\n",
        "# ==== 3. Average RFM Metrics by Segment ====\n",
        "rfm_summary = rfm.groupby('Customer_Segment')[['Recency','Frequency','Monetary']].mean().reset_index()\n",
        "rfm_summary_melted = rfm_summary.melt(id_vars='Customer_Segment', var_name='Metric', value_name='Average')\n",
        "\n",
        "fig3 = px.bar(\n",
        "    rfm_summary_melted, x=\"Customer_Segment\", y=\"Average\",\n",
        "    color=\"Metric\", barmode=\"group\",\n",
        "    color_discrete_sequence=px.colors.sequential.Plasma,\n",
        "    title=\"Average RFM Metrics by Segment\"\n",
        ")\n",
        "fig3.update_layout(\n",
        "    plot_bgcolor=\"black\", paper_bgcolor=\"black\",\n",
        "    font=dict(color=\"white\"), title_font=dict(size=22, color='lime')\n",
        ")\n",
        "fig3.show()\n",
        "\n",
        "# ==== 4. Heatmap: Customer Count (R vs F) ====\n",
        "rfm_count = rfm.groupby(['R_Score','F_Score']).size().reset_index(name=\"count\")\n",
        "\n",
        "fig4 = px.density_heatmap(\n",
        "    rfm_count, x=\"F_Score\", y=\"R_Score\", z=\"count\",\n",
        "    text_auto=True, color_continuous_scale=\"Turbo\",\n",
        "    title=\"Customer Count Heatmap (R vs F)\"\n",
        ")\n",
        "fig4.update_layout(\n",
        "    plot_bgcolor=\"black\", paper_bgcolor=\"black\",\n",
        "    font=dict(color=\"white\"), title_font=dict(size=22, color='magenta')\n",
        ")\n",
        "fig4.show()\n"
      ]
    },
    {
      "cell_type": "code",
      "execution_count": 11,
      "metadata": {},
      "outputs": [
        {
          "name": "stdout",
          "output_type": "stream",
          "text": [
            "Collecting plotly\n",
            "  Using cached plotly-6.3.0-py3-none-any.whl.metadata (8.5 kB)\n",
            "Requirement already satisfied: narwhals>=1.15.1 in c:\\users\\pmyls\\appdata\\local\\programs\\python\\python312\\lib\\site-packages (from plotly) (1.27.1)\n",
            "Requirement already satisfied: packaging in c:\\users\\pmyls\\appdata\\local\\programs\\python\\python312\\lib\\site-packages (from plotly) (24.1)\n",
            "Using cached plotly-6.3.0-py3-none-any.whl (9.8 MB)\n",
            "Installing collected packages: plotly\n",
            "Successfully installed plotly-6.3.0\n",
            "Note: you may need to restart the kernel to use updated packages.\n"
          ]
        },
        {
          "name": "stderr",
          "output_type": "stream",
          "text": [
            "\n",
            "[notice] A new release of pip is available: 24.2 -> 25.2\n",
            "[notice] To update, run: python.exe -m pip install --upgrade pip\n"
          ]
        }
      ],
      "source": [
        "pip install plotly\n"
      ]
    }
  ],
  "metadata": {
    "colab": {
      "provenance": []
    },
    "kernelspec": {
      "display_name": "Python 3",
      "name": "python3"
    },
    "language_info": {
      "codemirror_mode": {
        "name": "ipython",
        "version": 3
      },
      "file_extension": ".py",
      "mimetype": "text/x-python",
      "name": "python",
      "nbconvert_exporter": "python",
      "pygments_lexer": "ipython3",
      "version": "3.12.4"
    }
  },
  "nbformat": 4,
  "nbformat_minor": 0
}
